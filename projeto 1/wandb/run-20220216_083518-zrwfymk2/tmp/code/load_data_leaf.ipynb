{
 "cells": [
  {
   "cell_type": "markdown",
   "id": "70c7a8f0-548d-4312-b947-5a427f73a45b",
   "metadata": {},
   "source": [
    "# Reconhecimento de Folhas com Machine Learning\n",
    "\n",
    "An introduction to machine learning with scikit-learn\n",
    "https://scikit-learn.org/stable/\n",
    "https://scikit-learn.org/stable/tutorial/basic/tutorial.html\n",
    "\n",
    "Supervised learning\n",
    "https://scikit-learn.org/stable/supervised_learning.html#supervised-learning\n",
    "\n",
    "Unsupervised learning\n",
    "https://scikit-learn.org/stable/unsupervised_learning.html\n",
    "\n",
    "Neste notebook você concluirá seu primeiro projeto de Machine Learning usando Python. \n",
    "\n",
    "Um projeto de Machine Learning tem uma série de etapas bem conhecidas:\n",
    "\n",
    "- Defina o problema.\n",
    "- Prepare os dados.\n",
    "- Avalie algoritmos.\n",
    "- Melhore os resultados.\n",
    "- Resultados finais."
   ]
  },
  {
   "cell_type": "markdown",
   "id": "f0607257-9c58-4173-ad84-b8838e990cca",
   "metadata": {},
   "source": [
    "![image.png](attachment:14b85f78-7ab2-4425-9a9e-d3bb08480ce5.png)"
   ]
  },
  {
   "cell_type": "markdown",
   "id": "f70038cc-70be-4832-98b5-977e67382985",
   "metadata": {},
   "source": [
    "# Treinamento Supervisionado para Modelar\n",
    "\n",
    "![image.png](attachment:53109a22-6bcc-4eaf-bc75-3e4dcef808ad.png)"
   ]
  },
  {
   "cell_type": "markdown",
   "id": "7cc2bb1a-b9c0-4cfb-929f-d30a86680a99",
   "metadata": {},
   "source": [
    "* Import das bibliotecas"
   ]
  },
  {
   "cell_type": "code",
   "execution_count": 1,
   "id": "7c672d0f-a499-4d54-8199-1579ef0bd678",
   "metadata": {},
   "outputs": [],
   "source": [
    "import logging\n",
    "import pandas as pd\n",
    "import pandas_profiling\n",
    "import pickle as pkl\n",
    "import sys\n",
    "import wandb\n",
    "\n",
    "from sklearn.model_selection import train_test_split"
   ]
  },
  {
   "cell_type": "markdown",
   "id": "25b4fafc-c11d-4a21-8f88-c5968b8ee97f",
   "metadata": {
    "jupyter": {
     "outputs_hidden": true
    },
    "tags": []
   },
   "source": [
    "Instalação pandas-profiling\n",
    "```python\n",
    "!{sys.executable} -m pip install pandas-profiling\n",
    "\n",
    "!jupyter nbextension enable --py widgetsnbextension\n",
    "```\n",
    "\n",
    "Login no Wandb\n",
    "```python\n",
    "!wandb login\n",
    "```"
   ]
  },
  {
   "cell_type": "markdown",
   "id": "c66339a8-7037-4c76-836c-c279b7b2935c",
   "metadata": {},
   "source": [
    "Setando o logger"
   ]
  },
  {
   "cell_type": "code",
   "execution_count": 5,
   "id": "aef47629-a677-4d4b-bb08-41e86518cae5",
   "metadata": {},
   "outputs": [],
   "source": [
    "# logger = logging.getLogger()\n",
    "logging.basicConfig(format='%(levelname)s : %(message)s', level=logging.INFO)\n",
    "logging.root.level = 20"
   ]
  },
  {
   "cell_type": "code",
   "execution_count": 6,
   "id": "0ba03368-c9ad-4f60-90c0-8712a876c292",
   "metadata": {},
   "outputs": [
    {
     "name": "stderr",
     "output_type": "stream",
     "text": [
      "INFO : sara\n"
     ]
    }
   ],
   "source": [
    "logging.info('sara')"
   ]
  },
  {
   "cell_type": "markdown",
   "id": "1328f847-4018-4703-a780-fae5d156a59a",
   "metadata": {},
   "source": [
    "Instanciando o wandb"
   ]
  },
  {
   "cell_type": "code",
   "execution_count": 7,
   "id": "c75c4830-9502-4a7f-a4d9-2ddc0aaa8f8f",
   "metadata": {},
   "outputs": [
    {
     "name": "stderr",
     "output_type": "stream",
     "text": [
      "wandb: Currently logged in as: saraselis (use `wandb login --relogin` to force relogin)\n"
     ]
    },
    {
     "data": {
      "text/html": [
       "\n",
       "                    Syncing run <strong><a href=\"https://wandb.ai/saraselis/eldorado_leaf/runs/zrwfymk2\" target=\"_blank\">frosty-capybara-3</a></strong> to <a href=\"https://wandb.ai/saraselis/eldorado_leaf\" target=\"_blank\">Weights & Biases</a> (<a href=\"https://docs.wandb.com/integrations/jupyter.html\" target=\"_blank\">docs</a>).<br/>\n",
       "\n",
       "                "
      ],
      "text/plain": [
       "<IPython.core.display.HTML object>"
      ]
     },
     "metadata": {},
     "output_type": "display_data"
    }
   ],
   "source": [
    "run = wandb.init(project=\"eldorado_leaf\", group=\"eda\", save_code=True)"
   ]
  },
  {
   "cell_type": "markdown",
   "id": "cac1c28a-cfca-41e1-90a2-e51e8e5fe7fe",
   "metadata": {
    "tags": []
   },
   "source": [
    "# Carregar o conjunto de dados\n",
    "Podemos carregar diretamente do aquivo .csv."
   ]
  },
  {
   "cell_type": "markdown",
   "id": "7e5a5f77-8ee5-495e-b1a2-3adbfbdb02b5",
   "metadata": {},
   "source": [
    "Tudo deve carregar sem erros. Se você tiver um erro, pare. Instale as libs que ainda não estão instaladas, usando pip install <lib_name>"
   ]
  },
  {
   "cell_type": "markdown",
   "id": "33f3db56-9a87-441c-98b1-9b0928bd191f",
   "metadata": {},
   "source": [
    "## Leaf Dataset\n",
    "\n",
    "The provided data comprises the following shape (attributes 3 to 9) and texture (attributes 10\n",
    "to 16) features:\n",
    "\n",
    "1. Class (Species)\n",
    "2. Specimen Number\n",
    "3. Eccentricity\n",
    "4. Aspect Ratio\n",
    "5. Elongation\n",
    "6. Solidity\n",
    "7. Stochastic Convexity\n",
    "8. Isoperimetric Factor\n",
    "9. Maximal Indentation Depth\n",
    "10. Lobedness\n",
    "11. Average Intensity\n",
    "12. Average Contrast\n",
    "13. Smoothness\n",
    "14. Third moment\n",
    "15. Uniformity\n",
    "16. Entropy"
   ]
  },
  {
   "cell_type": "markdown",
   "id": "91f71daa-5cd2-4a63-adf1-4885178d9f03",
   "metadata": {},
   "source": [
    "Como o dataset vem sem as colunas, vamos setar as colunas"
   ]
  },
  {
   "cell_type": "code",
   "execution_count": 8,
   "id": "e8790b87-f9e1-4e99-a923-8b52f19291e8",
   "metadata": {},
   "outputs": [],
   "source": [
    "names = ['Class', 'Specimen Number', 'Eccentricity', 'Aspect Ratio', 'Elongation', 'Solidity', 'Stochastic Convexity', 'Isoperimetric Factor',\n",
    "         'Maximal Indentation Depth', 'Lobedness', 'Average Intensity', 'Average Contrast', 'Smoothness', 'Third moment',\n",
    "         'Uniformity', 'Entropy']"
   ]
  },
  {
   "cell_type": "markdown",
   "id": "9ce3b936-2c2e-4bcb-a152-8243fb32190d",
   "metadata": {},
   "source": [
    "Leitura do dataset"
   ]
  },
  {
   "cell_type": "code",
   "execution_count": 9,
   "id": "026b8883-952a-4eae-8a83-9358f1e2da24",
   "metadata": {},
   "outputs": [],
   "source": [
    "data_leaf = pd.read_csv('leaf.csv', names=names)"
   ]
  },
  {
   "cell_type": "markdown",
   "id": "16507fbd-d54f-4e04-8dc9-010a73bdf1f8",
   "metadata": {},
   "source": [
    "Dataset"
   ]
  },
  {
   "cell_type": "code",
   "execution_count": 6,
   "id": "98fa160f-9350-4162-9a2d-a9cda25ae46c",
   "metadata": {},
   "outputs": [
    {
     "data": {
      "text/html": [
       "<div>\n",
       "<style scoped>\n",
       "    .dataframe tbody tr th:only-of-type {\n",
       "        vertical-align: middle;\n",
       "    }\n",
       "\n",
       "    .dataframe tbody tr th {\n",
       "        vertical-align: top;\n",
       "    }\n",
       "\n",
       "    .dataframe thead th {\n",
       "        text-align: right;\n",
       "    }\n",
       "</style>\n",
       "<table border=\"1\" class=\"dataframe\">\n",
       "  <thead>\n",
       "    <tr style=\"text-align: right;\">\n",
       "      <th></th>\n",
       "      <th>Class</th>\n",
       "      <th>Specimen Number</th>\n",
       "      <th>Eccentricity</th>\n",
       "      <th>Aspect Ratio</th>\n",
       "      <th>Elongation</th>\n",
       "      <th>Solidity</th>\n",
       "      <th>Stochastic Convexity</th>\n",
       "      <th>Isoperimetric Factor</th>\n",
       "      <th>Maximal Indentation Depth</th>\n",
       "      <th>Lobedness</th>\n",
       "      <th>Average Intensity</th>\n",
       "      <th>Average Contrast</th>\n",
       "      <th>Smoothness</th>\n",
       "      <th>Third moment</th>\n",
       "      <th>Uniformity</th>\n",
       "      <th>Entropy</th>\n",
       "    </tr>\n",
       "  </thead>\n",
       "  <tbody>\n",
       "    <tr>\n",
       "      <th>38</th>\n",
       "      <td>4</td>\n",
       "      <td>7</td>\n",
       "      <td>0.39289</td>\n",
       "      <td>1.1286</td>\n",
       "      <td>0.17039</td>\n",
       "      <td>0.96405</td>\n",
       "      <td>1.0</td>\n",
       "      <td>0.79407</td>\n",
       "      <td>0.011761</td>\n",
       "      <td>0.025176</td>\n",
       "      <td>0.025409</td>\n",
       "      <td>0.078211</td>\n",
       "      <td>0.00608</td>\n",
       "      <td>0.00153</td>\n",
       "      <td>0.000158</td>\n",
       "      <td>1.0326</td>\n",
       "    </tr>\n",
       "  </tbody>\n",
       "</table>\n",
       "</div>"
      ],
      "text/plain": [
       "    Class  Specimen Number  Eccentricity  Aspect Ratio  Elongation  Solidity  \\\n",
       "38      4                7       0.39289        1.1286     0.17039   0.96405   \n",
       "\n",
       "    Stochastic Convexity  Isoperimetric Factor  Maximal Indentation Depth  \\\n",
       "38                   1.0               0.79407                   0.011761   \n",
       "\n",
       "    Lobedness  Average Intensity  Average Contrast  Smoothness  Third moment  \\\n",
       "38   0.025176           0.025409          0.078211     0.00608       0.00153   \n",
       "\n",
       "    Uniformity  Entropy  \n",
       "38    0.000158   1.0326  "
      ]
     },
     "execution_count": 6,
     "metadata": {},
     "output_type": "execute_result"
    }
   ],
   "source": [
    "data_leaf.sample()"
   ]
  },
  {
   "cell_type": "markdown",
   "id": "c161139b-fecc-408f-bf4d-a2ad85a4d031",
   "metadata": {},
   "source": [
    "Salvando o dataset processado no wandb"
   ]
  },
  {
   "cell_type": "code",
   "execution_count": 7,
   "id": "158ed6ef-e7db-449e-8e96-38c34e4ab86c",
   "metadata": {},
   "outputs": [
    {
     "data": {
      "text/plain": [
       "<ManifestEntry digest: 8enho+coZZ231SjBNt9l1g==>"
      ]
     },
     "execution_count": 7,
     "metadata": {},
     "output_type": "execute_result"
    }
   ],
   "source": [
    "artifact = wandb.Artifact(\n",
    "        'data_leaf_processado',\n",
    "        type='csv',\n",
    "        description='Dataset após o processamento das colunas')\n",
    "\n",
    "artifact.add_file('leaf.csv')"
   ]
  },
  {
   "cell_type": "code",
   "execution_count": 8,
   "id": "43105896-2a04-4990-9cbe-7e3a72c57994",
   "metadata": {},
   "outputs": [
    {
     "data": {
      "text/plain": [
       "<wandb.sdk.wandb_artifacts.Artifact at 0x7f86d8f1c3a0>"
      ]
     },
     "execution_count": 8,
     "metadata": {},
     "output_type": "execute_result"
    }
   ],
   "source": [
    "run.log_artifact(artifact)"
   ]
  },
  {
   "cell_type": "code",
   "execution_count": 10,
   "id": "1876d543-4aa4-41fe-8820-67ae8f91f0f8",
   "metadata": {},
   "outputs": [
    {
     "name": "stdout",
     "output_type": "stream",
     "text": [
      "<class 'pandas.core.frame.DataFrame'>\n",
      "RangeIndex: 340 entries, 0 to 339\n",
      "Data columns (total 16 columns):\n",
      " #   Column                     Non-Null Count  Dtype  \n",
      "---  ------                     --------------  -----  \n",
      " 0   Class                      340 non-null    int64  \n",
      " 1   Specimen Number            340 non-null    int64  \n",
      " 2   Eccentricity               340 non-null    float64\n",
      " 3   Aspect Ratio               340 non-null    float64\n",
      " 4   Elongation                 340 non-null    float64\n",
      " 5   Solidity                   340 non-null    float64\n",
      " 6   Stochastic Convexity       340 non-null    float64\n",
      " 7   Isoperimetric Factor       340 non-null    float64\n",
      " 8   Maximal Indentation Depth  340 non-null    float64\n",
      " 9   Lobedness                  340 non-null    float64\n",
      " 10  Average Intensity          340 non-null    float64\n",
      " 11  Average Contrast           340 non-null    float64\n",
      " 12  Smoothness                 340 non-null    float64\n",
      " 13  Third moment               340 non-null    float64\n",
      " 14  Uniformity                 340 non-null    float64\n",
      " 15  Entropy                    340 non-null    float64\n",
      "dtypes: float64(14), int64(2)\n",
      "memory usage: 42.6 KB\n"
     ]
    }
   ],
   "source": [
    "data_leaf.info()"
   ]
  },
  {
   "cell_type": "markdown",
   "id": "0341c3e1-1906-4adc-936a-d4e9c9b83c22",
   "metadata": {},
   "source": [
    "Relatório do pandas sobre o dataset"
   ]
  },
  {
   "cell_type": "code",
   "execution_count": 10,
   "id": "5dda3e49-88d5-4b00-bdf2-0290e1600d45",
   "metadata": {},
   "outputs": [
    {
     "data": {
      "application/vnd.jupyter.widget-view+json": {
       "model_id": "2004864862cd471fb80a9fee75645c6d",
       "version_major": 2,
       "version_minor": 0
      },
      "text/plain": [
       "Summarize dataset:   0%|          | 0/5 [00:00<?, ?it/s]"
      ]
     },
     "metadata": {},
     "output_type": "display_data"
    },
    {
     "data": {
      "application/vnd.jupyter.widget-view+json": {
       "model_id": "182aa5352c2d4b119dd8754649bd4aa4",
       "version_major": 2,
       "version_minor": 0
      },
      "text/plain": [
       "Generate report structure:   0%|          | 0/1 [00:00<?, ?it/s]"
      ]
     },
     "metadata": {},
     "output_type": "display_data"
    },
    {
     "data": {
      "application/vnd.jupyter.widget-view+json": {
       "model_id": "",
       "version_major": 2,
       "version_minor": 0
      },
      "text/plain": [
       "Render widgets:   0%|          | 0/1 [00:00<?, ?it/s]"
      ]
     },
     "metadata": {},
     "output_type": "display_data"
    },
    {
     "data": {
      "application/vnd.jupyter.widget-view+json": {
       "model_id": "55f8cb04afb24964b16f0a0032943f46",
       "version_major": 2,
       "version_minor": 0
      },
      "text/plain": [
       "VBox(children=(Tab(children=(Tab(children=(GridBox(children=(VBox(children=(GridspecLayout(children=(HTML(valu…"
      ]
     },
     "metadata": {},
     "output_type": "display_data"
    }
   ],
   "source": [
    "profile = pandas_profiling.ProfileReport(data_leaf)\n",
    "profile.to_widgets()"
   ]
  },
  {
   "cell_type": "code",
   "execution_count": 11,
   "id": "4898e990-1d68-4f3a-9543-988b67fcf80a",
   "metadata": {},
   "outputs": [
    {
     "name": "stderr",
     "output_type": "stream",
     "text": [
      "INFO : Dataset features names: (340, 16)\n"
     ]
    }
   ],
   "source": [
    "# Data shape\n",
    "logging.info(f'Dataset features names: {data_leaf.shape}')"
   ]
  },
  {
   "cell_type": "markdown",
   "id": "8a305066-f02e-457a-8a17-16dec511be23",
   "metadata": {},
   "source": [
    "## Classes"
   ]
  },
  {
   "cell_type": "code",
   "execution_count": 12,
   "id": "f65bc326-ea7b-4004-a6c9-63f15a1ccf06",
   "metadata": {},
   "outputs": [],
   "source": [
    "# Classes (Labels)\n",
    "y = data_leaf['Class']\n",
    "\n",
    "# Classe distribuição\n"
   ]
  },
  {
   "cell_type": "code",
   "execution_count": 13,
   "id": "35edc750-519d-4832-8c69-689016e5152d",
   "metadata": {},
   "outputs": [
    {
     "data": {
      "text/plain": [
       "0       1\n",
       "1       1\n",
       "2       1\n",
       "3       1\n",
       "4       1\n",
       "       ..\n",
       "335    36\n",
       "336    36\n",
       "337    36\n",
       "338    36\n",
       "339    36\n",
       "Name: Class, Length: 340, dtype: int64"
      ]
     },
     "execution_count": 13,
     "metadata": {},
     "output_type": "execute_result"
    }
   ],
   "source": [
    "y"
   ]
  },
  {
   "cell_type": "code",
   "execution_count": 14,
   "id": "f039e527-4085-4b7d-8eae-4a79247d81df",
   "metadata": {},
   "outputs": [
    {
     "name": "stderr",
     "output_type": "stream",
     "text": [
      "INFO : (340,)\n",
      "INFO : <class 'pandas.core.series.Series'>\n"
     ]
    }
   ],
   "source": [
    "# Classe shape\n",
    "logging.info(y.shape)\n",
    "\n",
    "# Classe types\n",
    "logging.info(type(y))"
   ]
  },
  {
   "cell_type": "markdown",
   "id": "84e27058-7c6c-4fe5-a072-d0c94d8b38e7",
   "metadata": {},
   "source": [
    "## Entradas"
   ]
  },
  {
   "cell_type": "code",
   "execution_count": 15,
   "id": "257e60a7-5899-46c5-9355-06b1ab7e7b4a",
   "metadata": {},
   "outputs": [
    {
     "data": {
      "text/html": [
       "<div>\n",
       "<style scoped>\n",
       "    .dataframe tbody tr th:only-of-type {\n",
       "        vertical-align: middle;\n",
       "    }\n",
       "\n",
       "    .dataframe tbody tr th {\n",
       "        vertical-align: top;\n",
       "    }\n",
       "\n",
       "    .dataframe thead th {\n",
       "        text-align: right;\n",
       "    }\n",
       "</style>\n",
       "<table border=\"1\" class=\"dataframe\">\n",
       "  <thead>\n",
       "    <tr style=\"text-align: right;\">\n",
       "      <th></th>\n",
       "      <th>Specimen Number</th>\n",
       "      <th>Eccentricity</th>\n",
       "      <th>Aspect Ratio</th>\n",
       "      <th>Elongation</th>\n",
       "      <th>Solidity</th>\n",
       "      <th>Stochastic Convexity</th>\n",
       "      <th>Isoperimetric Factor</th>\n",
       "      <th>Maximal Indentation Depth</th>\n",
       "      <th>Lobedness</th>\n",
       "      <th>Average Intensity</th>\n",
       "      <th>Average Contrast</th>\n",
       "      <th>Smoothness</th>\n",
       "      <th>Third moment</th>\n",
       "      <th>Uniformity</th>\n",
       "      <th>Entropy</th>\n",
       "    </tr>\n",
       "  </thead>\n",
       "  <tbody>\n",
       "    <tr>\n",
       "      <th>0</th>\n",
       "      <td>1</td>\n",
       "      <td>0.72694</td>\n",
       "      <td>1.4742</td>\n",
       "      <td>0.32396</td>\n",
       "      <td>0.98535</td>\n",
       "      <td>1.00000</td>\n",
       "      <td>0.83592</td>\n",
       "      <td>0.004657</td>\n",
       "      <td>0.003947</td>\n",
       "      <td>0.047790</td>\n",
       "      <td>0.127950</td>\n",
       "      <td>0.016108</td>\n",
       "      <td>0.005232</td>\n",
       "      <td>0.000275</td>\n",
       "      <td>1.17560</td>\n",
       "    </tr>\n",
       "    <tr>\n",
       "      <th>1</th>\n",
       "      <td>2</td>\n",
       "      <td>0.74173</td>\n",
       "      <td>1.5257</td>\n",
       "      <td>0.36116</td>\n",
       "      <td>0.98152</td>\n",
       "      <td>0.99825</td>\n",
       "      <td>0.79867</td>\n",
       "      <td>0.005242</td>\n",
       "      <td>0.005002</td>\n",
       "      <td>0.024160</td>\n",
       "      <td>0.090476</td>\n",
       "      <td>0.008119</td>\n",
       "      <td>0.002708</td>\n",
       "      <td>0.000075</td>\n",
       "      <td>0.69659</td>\n",
       "    </tr>\n",
       "    <tr>\n",
       "      <th>2</th>\n",
       "      <td>3</td>\n",
       "      <td>0.76722</td>\n",
       "      <td>1.5725</td>\n",
       "      <td>0.38998</td>\n",
       "      <td>0.97755</td>\n",
       "      <td>1.00000</td>\n",
       "      <td>0.80812</td>\n",
       "      <td>0.007457</td>\n",
       "      <td>0.010121</td>\n",
       "      <td>0.011897</td>\n",
       "      <td>0.057445</td>\n",
       "      <td>0.003289</td>\n",
       "      <td>0.000921</td>\n",
       "      <td>0.000038</td>\n",
       "      <td>0.44348</td>\n",
       "    </tr>\n",
       "    <tr>\n",
       "      <th>3</th>\n",
       "      <td>4</td>\n",
       "      <td>0.73797</td>\n",
       "      <td>1.4597</td>\n",
       "      <td>0.35376</td>\n",
       "      <td>0.97566</td>\n",
       "      <td>1.00000</td>\n",
       "      <td>0.81697</td>\n",
       "      <td>0.006877</td>\n",
       "      <td>0.008607</td>\n",
       "      <td>0.015950</td>\n",
       "      <td>0.065491</td>\n",
       "      <td>0.004271</td>\n",
       "      <td>0.001154</td>\n",
       "      <td>0.000066</td>\n",
       "      <td>0.58785</td>\n",
       "    </tr>\n",
       "    <tr>\n",
       "      <th>4</th>\n",
       "      <td>5</td>\n",
       "      <td>0.82301</td>\n",
       "      <td>1.7707</td>\n",
       "      <td>0.44462</td>\n",
       "      <td>0.97698</td>\n",
       "      <td>1.00000</td>\n",
       "      <td>0.75493</td>\n",
       "      <td>0.007428</td>\n",
       "      <td>0.010042</td>\n",
       "      <td>0.007938</td>\n",
       "      <td>0.045339</td>\n",
       "      <td>0.002051</td>\n",
       "      <td>0.000560</td>\n",
       "      <td>0.000024</td>\n",
       "      <td>0.34214</td>\n",
       "    </tr>\n",
       "  </tbody>\n",
       "</table>\n",
       "</div>"
      ],
      "text/plain": [
       "   Specimen Number  Eccentricity  Aspect Ratio  Elongation  Solidity  \\\n",
       "0                1       0.72694        1.4742     0.32396   0.98535   \n",
       "1                2       0.74173        1.5257     0.36116   0.98152   \n",
       "2                3       0.76722        1.5725     0.38998   0.97755   \n",
       "3                4       0.73797        1.4597     0.35376   0.97566   \n",
       "4                5       0.82301        1.7707     0.44462   0.97698   \n",
       "\n",
       "   Stochastic Convexity  Isoperimetric Factor  Maximal Indentation Depth  \\\n",
       "0               1.00000               0.83592                   0.004657   \n",
       "1               0.99825               0.79867                   0.005242   \n",
       "2               1.00000               0.80812                   0.007457   \n",
       "3               1.00000               0.81697                   0.006877   \n",
       "4               1.00000               0.75493                   0.007428   \n",
       "\n",
       "   Lobedness  Average Intensity  Average Contrast  Smoothness  Third moment  \\\n",
       "0   0.003947           0.047790          0.127950    0.016108      0.005232   \n",
       "1   0.005002           0.024160          0.090476    0.008119      0.002708   \n",
       "2   0.010121           0.011897          0.057445    0.003289      0.000921   \n",
       "3   0.008607           0.015950          0.065491    0.004271      0.001154   \n",
       "4   0.010042           0.007938          0.045339    0.002051      0.000560   \n",
       "\n",
       "   Uniformity  Entropy  \n",
       "0    0.000275  1.17560  \n",
       "1    0.000075  0.69659  \n",
       "2    0.000038  0.44348  \n",
       "3    0.000066  0.58785  \n",
       "4    0.000024  0.34214  "
      ]
     },
     "execution_count": 15,
     "metadata": {},
     "output_type": "execute_result"
    }
   ],
   "source": [
    "# Entrada (input)\n",
    "X = data_leaf.drop('Class', axis=1)\n",
    "X.head()"
   ]
  },
  {
   "cell_type": "code",
   "execution_count": 16,
   "id": "3f5ae7e7-c2d4-4380-ae17-2876280e6252",
   "metadata": {},
   "outputs": [
    {
     "name": "stderr",
     "output_type": "stream",
     "text": [
      "INFO : (340, 15)\n",
      "INFO : <class 'pandas.core.frame.DataFrame'>\n"
     ]
    }
   ],
   "source": [
    "# Entrada shape\n",
    "logging.info(X.shape)\n",
    "\n",
    "# Entrada types\n",
    "logging.info(type(X))"
   ]
  },
  {
   "cell_type": "markdown",
   "id": "d29d645a-a75f-4768-ade2-3e36ab8e191b",
   "metadata": {},
   "source": [
    "## Separa os dados de treinamento e teste"
   ]
  },
  {
   "cell_type": "code",
   "execution_count": 30,
   "id": "83052aa1-f214-4bf6-a7d1-5d010a3fd544",
   "metadata": {},
   "outputs": [],
   "source": [
    "X_train, X_test, y_train, y_test = train_test_split(X, y, test_size=None, random_state=0)"
   ]
  },
  {
   "cell_type": "code",
   "execution_count": 18,
   "id": "8dadcc5d-cf68-4afa-8859-fc833393a626",
   "metadata": {},
   "outputs": [
    {
     "name": "stderr",
     "output_type": "stream",
     "text": [
      "INFO : (255, 15)\n",
      "INFO : (255,)\n",
      "INFO : (85, 15)\n",
      "INFO : (85,)\n"
     ]
    }
   ],
   "source": [
    "logging.info(X_train.shape)\n",
    "logging.info(y_train.shape)\n",
    "logging.info(X_test.shape)\n",
    "logging.info(y_test.shape)"
   ]
  },
  {
   "cell_type": "markdown",
   "id": "05b846ef-5a32-45ad-ad29-fa74fa3023a7",
   "metadata": {},
   "source": [
    "Salvando localmente"
   ]
  },
  {
   "cell_type": "code",
   "execution_count": 46,
   "id": "02d29b42-9803-4d10-a57a-f45b9c33bc5d",
   "metadata": {},
   "outputs": [],
   "source": [
    "pkl.dump(X_train, open('model/Xy/X_train.pkl', 'wb'))\n",
    "pkl.dump(y_train, open('model/Xy/y_train.pkl', 'wb'))\n",
    "\n",
    "pkl.dump(X_test, open('model/Xy/X_test.pkl', 'wb'))\n",
    "pkl.dump(y_test, open('model/Xy/y_test.pkl', 'wb'))"
   ]
  },
  {
   "cell_type": "code",
   "execution_count": 19,
   "id": "d8919da5-85a5-4be2-a81d-6e481e3caa42",
   "metadata": {},
   "outputs": [
    {
     "data": {
      "text/plain": [
       "pandas.core.frame.DataFrame"
      ]
     },
     "execution_count": 19,
     "metadata": {},
     "output_type": "execute_result"
    }
   ],
   "source": [
    "type(X_train)"
   ]
  },
  {
   "cell_type": "markdown",
   "id": "a07b0acb-73a2-47fe-9225-196c62390206",
   "metadata": {},
   "source": [
    "Salvando W&B"
   ]
  },
  {
   "cell_type": "code",
   "execution_count": 21,
   "id": "ecdd4600-efbe-466d-a219-dc35c93f9ddc",
   "metadata": {},
   "outputs": [
    {
     "data": {
      "text/plain": [
       "<ManifestEntry digest: I+LmpPg5uXPL8Yvh13DK0w==>"
      ]
     },
     "execution_count": 21,
     "metadata": {},
     "output_type": "execute_result"
    }
   ],
   "source": [
    "x_train_wb = wandb.Artifact(\n",
    "        'x_train',\n",
    "        type='pandas.core.frame.DataFrame',\n",
    "        description='X treino')\n",
    "\n",
    "x_train.add_file('model/Xy/X_train.pkl')\n",
    "run.log_artifact(x_train)"
   ]
  },
  {
   "cell_type": "code",
   "execution_count": 24,
   "id": "8801f916-de49-469c-8131-e3ab0ade395e",
   "metadata": {},
   "outputs": [
    {
     "data": {
      "text/plain": [
       "<wandb.sdk.wandb_artifacts.Artifact at 0x7f050460fd30>"
      ]
     },
     "execution_count": 24,
     "metadata": {},
     "output_type": "execute_result"
    }
   ],
   "source": [
    "y_train_wb = wandb.Artifact(\n",
    "        'y_train',\n",
    "        type='pandas.core.frame.DataFrame',\n",
    "        description='Y treino')\n",
    "\n",
    "y_train.add_file('model/Xy/y_train.pkl')\n",
    "run.log_artifact(y_train)"
   ]
  },
  {
   "cell_type": "code",
   "execution_count": 25,
   "id": "75e68fff-9af7-40fb-b72d-c39afb5221b7",
   "metadata": {},
   "outputs": [
    {
     "data": {
      "text/plain": [
       "<wandb.sdk.wandb_artifacts.Artifact at 0x7f0504602df0>"
      ]
     },
     "execution_count": 25,
     "metadata": {},
     "output_type": "execute_result"
    }
   ],
   "source": [
    "x_teste_wb= wandb.Artifact(\n",
    "        'x_teste',\n",
    "        type='pandas.core.frame.DataFrame',\n",
    "        description='X teste')\n",
    "\n",
    "x_teste.add_file('model/Xy/X_test.pkl')\n",
    "run.log_artifact(x_teste)"
   ]
  },
  {
   "cell_type": "code",
   "execution_count": 26,
   "id": "c6f58809-91ad-4f3c-aabb-014d6a39e4a4",
   "metadata": {},
   "outputs": [
    {
     "data": {
      "text/plain": [
       "<wandb.sdk.wandb_artifacts.Artifact at 0x7f05045a75e0>"
      ]
     },
     "execution_count": 26,
     "metadata": {},
     "output_type": "execute_result"
    }
   ],
   "source": [
    "y_teste_wb = wandb.Artifact(\n",
    "        'y_teste',\n",
    "        type='pandas.core.frame.DataFrame',\n",
    "        description='Y teste')\n",
    "\n",
    "y_teste.add_file('model/Xy/y_test.pkl')\n",
    "run.log_artifact(y_teste)"
   ]
  },
  {
   "cell_type": "markdown",
   "id": "af518d57-cb81-4f34-a441-2062b811a4ca",
   "metadata": {},
   "source": [
    "## Treinar o modelo de Machine Learning"
   ]
  },
  {
   "cell_type": "code",
   "execution_count": 28,
   "id": "608254f9-04a3-4f0f-bcd7-1174f062685b",
   "metadata": {},
   "outputs": [],
   "source": [
    "# Load Libs\n",
    "\n",
    "import sklearn\n",
    "from sklearn.svm import SVC\n",
    "from sklearn.preprocessing import StandardScaler\n",
    "from sklearn.pipeline import Pipeline\n",
    "from sklearn import set_config"
   ]
  },
  {
   "cell_type": "code",
   "execution_count": 31,
   "id": "b36dd480-5b7e-4b7a-9132-242f3d3c88ca",
   "metadata": {},
   "outputs": [],
   "source": [
    "steps = [('preprocessing', StandardScaler()),\n",
    "         ('classifier', SVC(kernel='rbf'))]\n",
    "\n",
    "pipe = Pipeline(steps)\n",
    "\n",
    "model_deploy = pipe.fit(X_train, y_train)"
   ]
  },
  {
   "cell_type": "code",
   "execution_count": 32,
   "id": "d86eafc7-59b7-4d2f-94bf-210d0e91c243",
   "metadata": {},
   "outputs": [
    {
     "data": {
      "text/plain": [
       "Pipeline(steps=[('preprocessing', StandardScaler()), ('classifier', SVC())])"
      ]
     },
     "execution_count": 32,
     "metadata": {},
     "output_type": "execute_result"
    }
   ],
   "source": [
    "model_deploy"
   ]
  },
  {
   "cell_type": "code",
   "execution_count": 33,
   "id": "fbf1dd69-b55e-40a8-b655-090146e80493",
   "metadata": {},
   "outputs": [
    {
     "name": "stdout",
     "output_type": "stream",
     "text": [
      "Training set score: 0.7019607843137254\n",
      "Test set score: 0.4\n"
     ]
    }
   ],
   "source": [
    "print('Training set score: ' + str(model_deploy.score(X_train,y_train)))\n",
    "print('Test set score: ' + str(model_deploy.score(X_test,y_test)))"
   ]
  },
  {
   "cell_type": "code",
   "execution_count": 34,
   "id": "9dea2545-9539-4cca-8ccf-0d6d1748dfb5",
   "metadata": {},
   "outputs": [
    {
     "data": {
      "text/html": [
       "<style>#sk-5a700e78-55a2-45a0-9504-c3983bfd4f98 {color: black;background-color: white;}#sk-5a700e78-55a2-45a0-9504-c3983bfd4f98 pre{padding: 0;}#sk-5a700e78-55a2-45a0-9504-c3983bfd4f98 div.sk-toggleable {background-color: white;}#sk-5a700e78-55a2-45a0-9504-c3983bfd4f98 label.sk-toggleable__label {cursor: pointer;display: block;width: 100%;margin-bottom: 0;padding: 0.3em;box-sizing: border-box;text-align: center;}#sk-5a700e78-55a2-45a0-9504-c3983bfd4f98 label.sk-toggleable__label-arrow:before {content: \"▸\";float: left;margin-right: 0.25em;color: #696969;}#sk-5a700e78-55a2-45a0-9504-c3983bfd4f98 label.sk-toggleable__label-arrow:hover:before {color: black;}#sk-5a700e78-55a2-45a0-9504-c3983bfd4f98 div.sk-estimator:hover label.sk-toggleable__label-arrow:before {color: black;}#sk-5a700e78-55a2-45a0-9504-c3983bfd4f98 div.sk-toggleable__content {max-height: 0;max-width: 0;overflow: hidden;text-align: left;background-color: #f0f8ff;}#sk-5a700e78-55a2-45a0-9504-c3983bfd4f98 div.sk-toggleable__content pre {margin: 0.2em;color: black;border-radius: 0.25em;background-color: #f0f8ff;}#sk-5a700e78-55a2-45a0-9504-c3983bfd4f98 input.sk-toggleable__control:checked~div.sk-toggleable__content {max-height: 200px;max-width: 100%;overflow: auto;}#sk-5a700e78-55a2-45a0-9504-c3983bfd4f98 input.sk-toggleable__control:checked~label.sk-toggleable__label-arrow:before {content: \"▾\";}#sk-5a700e78-55a2-45a0-9504-c3983bfd4f98 div.sk-estimator input.sk-toggleable__control:checked~label.sk-toggleable__label {background-color: #d4ebff;}#sk-5a700e78-55a2-45a0-9504-c3983bfd4f98 div.sk-label input.sk-toggleable__control:checked~label.sk-toggleable__label {background-color: #d4ebff;}#sk-5a700e78-55a2-45a0-9504-c3983bfd4f98 input.sk-hidden--visually {border: 0;clip: rect(1px 1px 1px 1px);clip: rect(1px, 1px, 1px, 1px);height: 1px;margin: -1px;overflow: hidden;padding: 0;position: absolute;width: 1px;}#sk-5a700e78-55a2-45a0-9504-c3983bfd4f98 div.sk-estimator {font-family: monospace;background-color: #f0f8ff;border: 1px dotted black;border-radius: 0.25em;box-sizing: border-box;margin-bottom: 0.5em;}#sk-5a700e78-55a2-45a0-9504-c3983bfd4f98 div.sk-estimator:hover {background-color: #d4ebff;}#sk-5a700e78-55a2-45a0-9504-c3983bfd4f98 div.sk-parallel-item::after {content: \"\";width: 100%;border-bottom: 1px solid gray;flex-grow: 1;}#sk-5a700e78-55a2-45a0-9504-c3983bfd4f98 div.sk-label:hover label.sk-toggleable__label {background-color: #d4ebff;}#sk-5a700e78-55a2-45a0-9504-c3983bfd4f98 div.sk-serial::before {content: \"\";position: absolute;border-left: 1px solid gray;box-sizing: border-box;top: 2em;bottom: 0;left: 50%;}#sk-5a700e78-55a2-45a0-9504-c3983bfd4f98 div.sk-serial {display: flex;flex-direction: column;align-items: center;background-color: white;padding-right: 0.2em;padding-left: 0.2em;}#sk-5a700e78-55a2-45a0-9504-c3983bfd4f98 div.sk-item {z-index: 1;}#sk-5a700e78-55a2-45a0-9504-c3983bfd4f98 div.sk-parallel {display: flex;align-items: stretch;justify-content: center;background-color: white;}#sk-5a700e78-55a2-45a0-9504-c3983bfd4f98 div.sk-parallel::before {content: \"\";position: absolute;border-left: 1px solid gray;box-sizing: border-box;top: 2em;bottom: 0;left: 50%;}#sk-5a700e78-55a2-45a0-9504-c3983bfd4f98 div.sk-parallel-item {display: flex;flex-direction: column;position: relative;background-color: white;}#sk-5a700e78-55a2-45a0-9504-c3983bfd4f98 div.sk-parallel-item:first-child::after {align-self: flex-end;width: 50%;}#sk-5a700e78-55a2-45a0-9504-c3983bfd4f98 div.sk-parallel-item:last-child::after {align-self: flex-start;width: 50%;}#sk-5a700e78-55a2-45a0-9504-c3983bfd4f98 div.sk-parallel-item:only-child::after {width: 0;}#sk-5a700e78-55a2-45a0-9504-c3983bfd4f98 div.sk-dashed-wrapped {border: 1px dashed gray;margin: 0 0.4em 0.5em 0.4em;box-sizing: border-box;padding-bottom: 0.4em;background-color: white;position: relative;}#sk-5a700e78-55a2-45a0-9504-c3983bfd4f98 div.sk-label label {font-family: monospace;font-weight: bold;background-color: white;display: inline-block;line-height: 1.2em;}#sk-5a700e78-55a2-45a0-9504-c3983bfd4f98 div.sk-label-container {position: relative;z-index: 2;text-align: center;}#sk-5a700e78-55a2-45a0-9504-c3983bfd4f98 div.sk-container {/* jupyter's `normalize.less` sets `[hidden] { display: none; }` but bootstrap.min.css set `[hidden] { display: none !important; }` so we also need the `!important` here to be able to override the default hidden behavior on the sphinx rendered scikit-learn.org. See: https://github.com/scikit-learn/scikit-learn/issues/21755 */display: inline-block !important;position: relative;}#sk-5a700e78-55a2-45a0-9504-c3983bfd4f98 div.sk-text-repr-fallback {display: none;}</style><div id=\"sk-5a700e78-55a2-45a0-9504-c3983bfd4f98\" class=\"sk-top-container\"><div class=\"sk-text-repr-fallback\"><pre>Pipeline(steps=[(&#x27;preprocessing&#x27;, StandardScaler()), (&#x27;classifier&#x27;, SVC())])</pre><b>Please rerun this cell to show the HTML repr or trust the notebook.</b></div><div class=\"sk-container\" hidden><div class=\"sk-item sk-dashed-wrapped\"><div class=\"sk-label-container\"><div class=\"sk-label sk-toggleable\"><input class=\"sk-toggleable__control sk-hidden--visually\" id=\"0180a522-07c7-4bde-ac98-861f6fb1a385\" type=\"checkbox\" ><label for=\"0180a522-07c7-4bde-ac98-861f6fb1a385\" class=\"sk-toggleable__label sk-toggleable__label-arrow\">Pipeline</label><div class=\"sk-toggleable__content\"><pre>Pipeline(steps=[(&#x27;preprocessing&#x27;, StandardScaler()), (&#x27;classifier&#x27;, SVC())])</pre></div></div></div><div class=\"sk-serial\"><div class=\"sk-item\"><div class=\"sk-estimator sk-toggleable\"><input class=\"sk-toggleable__control sk-hidden--visually\" id=\"dbdcd842-a8d3-4a94-88da-afa5ec67d1b0\" type=\"checkbox\" ><label for=\"dbdcd842-a8d3-4a94-88da-afa5ec67d1b0\" class=\"sk-toggleable__label sk-toggleable__label-arrow\">StandardScaler</label><div class=\"sk-toggleable__content\"><pre>StandardScaler()</pre></div></div></div><div class=\"sk-item\"><div class=\"sk-estimator sk-toggleable\"><input class=\"sk-toggleable__control sk-hidden--visually\" id=\"28954bcf-5cf8-4e96-b554-767260cbdd31\" type=\"checkbox\" ><label for=\"28954bcf-5cf8-4e96-b554-767260cbdd31\" class=\"sk-toggleable__label sk-toggleable__label-arrow\">SVC</label><div class=\"sk-toggleable__content\"><pre>SVC()</pre></div></div></div></div></div></div></div>"
      ],
      "text/plain": [
       "Pipeline(steps=[('preprocessing', StandardScaler()), ('classifier', SVC())])"
      ]
     },
     "execution_count": 34,
     "metadata": {},
     "output_type": "execute_result"
    }
   ],
   "source": [
    "set_config(display='diagram')\n",
    "model_deploy  # clique no diagrama abaixo para ver os detalhes de cada etapa"
   ]
  },
  {
   "cell_type": "markdown",
   "id": "75bcffea-9f1d-46f2-9f35-49e5d68f3491",
   "metadata": {},
   "source": [
    "## Salvar o modelo de Machine Learning para disponibilizar na Cloud IBM"
   ]
  },
  {
   "cell_type": "code",
   "execution_count": 35,
   "id": "a0987001-3306-4e6c-b8a5-fd77823ee912",
   "metadata": {},
   "outputs": [],
   "source": [
    "# save the model to disk\n",
    "pkl.dump(model_deploy, open('model_leaf_deploy.pkl', 'wb'))"
   ]
  },
  {
   "cell_type": "markdown",
   "id": "0964f377-4700-4ab1-902e-650f42b32a3a",
   "metadata": {
    "tags": []
   },
   "source": [
    "# Para melhorar as métricas de classificação do seu primeiro modelo, consulte o material da aula 05"
   ]
  },
  {
   "cell_type": "code",
   "execution_count": 37,
   "id": "5cdedc20-c593-43df-ab0e-c445341eb3d4",
   "metadata": {},
   "outputs": [],
   "source": [
    "from sklearn.preprocessing import StandardScaler, MinMaxScaler, Normalizer, MaxAbsScaler\n"
   ]
  },
  {
   "cell_type": "code",
   "execution_count": 53,
   "id": "1cc280ac-5e3c-4c01-97d1-1cf220b1ddb3",
   "metadata": {},
   "outputs": [],
   "source": [
    "parameters = {'preprocessing': [StandardScaler(), MinMaxScaler(), Normalizer(), MaxAbsScaler()],\n",
    "              'classifier__C': [10, 100, 1000],\n",
    "              'classifier__kernel': ['linear', 'rbf', 'sigmoid']}"
   ]
  },
  {
   "cell_type": "code",
   "execution_count": 54,
   "id": "ff31c24d-8ddc-4ddd-93ab-def9fec7504d",
   "metadata": {},
   "outputs": [],
   "source": [
    "import numpy as np"
   ]
  },
  {
   "cell_type": "code",
   "execution_count": 55,
   "id": "bcc52dc2-3a25-4426-8240-1c004c7674c7",
   "metadata": {},
   "outputs": [],
   "source": [
    "def best_params(values: dict, clf: 'classificador', x_treino: np.array, x_teste: np.array, y_treino: np.array, y_teste: np.array) -> list:\n",
    "    '''\n",
    "        Instancia um classificador de busca e procura os melhores parâmetros para o modelo.\n",
    "        \n",
    "        Params\n",
    "        ------\n",
    "        :values: parametros a serem testados\n",
    "        :clf: instancia do classificador desejado\n",
    "        :x_treino: dados de treino\n",
    "        :x_teste: dados de teste\n",
    "        :y_treino: dados de treino -labels\n",
    "        :y_teste: dados de treino - labels\n",
    "        \n",
    "        Return\n",
    "        ------\n",
    "        :best_params: lista com os melhores parametros\n",
    "    '''\n",
    "    \n",
    "    logger.info('Instanciando SVM')\n",
    "    random_clf = RandomizedSearchCV(clf, param_distributions=values, n_iter=200, verbose=1)\n",
    "#     random_clf = RandomizedSearchCV(clf, param_distributions=values, n_iter=200, verbose=1)\n",
    "    \n",
    "    logger.info('Treinando SVM')\n",
    "    random_clf.fit(x_treino, y_treino)\n",
    "    \n",
    "    logger.info('Predict SVM')\n",
    "    y_random_clf_rl = random_clf.predict(x_teste)\n",
    "    #print(y_random_clf_rl)\n",
    "    \n",
    "    logger.info('Parametros SVM')\n",
    "    print(RED, random_clf.get_params())\n",
    "    \n",
    "    logger.info('Best Params SVM')\n",
    "    best_params = random_clf.best_params_\n",
    "    print(BLUE, best_params)\n",
    "    \n",
    "    return best_params, random_clf"
   ]
  },
  {
   "cell_type": "code",
   "execution_count": 56,
   "id": "2a231b7c-b744-4446-8305-d78814fdf93e",
   "metadata": {},
   "outputs": [],
   "source": [
    "from sklearn.model_selection import RandomizedSearchCV, train_test_split"
   ]
  },
  {
   "cell_type": "code",
   "execution_count": 57,
   "id": "eeb52324-2086-4e0e-9546-b974abf363a4",
   "metadata": {},
   "outputs": [
    {
     "name": "stderr",
     "output_type": "stream",
     "text": [
      "INFO : Instanciando SVM\n",
      "INFO : Treinando SVM\n",
      "/home/saraselis/.local/lib/python3.8/site-packages/sklearn/model_selection/_split.py:676: UserWarning: The least populated class in y has only 3 members, which is less than n_splits=5.\n",
      "  warnings.warn(\n"
     ]
    },
    {
     "name": "stdout",
     "output_type": "stream",
     "text": [
      "Fitting 5 folds for each of 10 candidates, totalling 50 fits\n"
     ]
    },
    {
     "name": "stderr",
     "output_type": "stream",
     "text": [
      "INFO : Predict SVM\n",
      "INFO : Parametros SVM\n",
      "INFO : Best Params SVM\n",
      "INFO : Ok\n",
      "INFO : Busca finalizada\n"
     ]
    },
    {
     "name": "stdout",
     "output_type": "stream",
     "text": [
      "\u001b[1;31m {'cv': None, 'error_score': nan, 'estimator__memory': None, 'estimator__steps': [('preprocessing', StandardScaler()), ('classifier', SVC())], 'estimator__verbose': False, 'estimator__preprocessing': StandardScaler(), 'estimator__classifier': SVC(), 'estimator__preprocessing__copy': True, 'estimator__preprocessing__with_mean': True, 'estimator__preprocessing__with_std': True, 'estimator__classifier__C': 1.0, 'estimator__classifier__break_ties': False, 'estimator__classifier__cache_size': 200, 'estimator__classifier__class_weight': None, 'estimator__classifier__coef0': 0.0, 'estimator__classifier__decision_function_shape': 'ovr', 'estimator__classifier__degree': 3, 'estimator__classifier__gamma': 'scale', 'estimator__classifier__kernel': 'rbf', 'estimator__classifier__max_iter': -1, 'estimator__classifier__probability': False, 'estimator__classifier__random_state': None, 'estimator__classifier__shrinking': True, 'estimator__classifier__tol': 0.001, 'estimator__classifier__verbose': False, 'estimator': Pipeline(steps=[('preprocessing', StandardScaler()), ('classifier', SVC())]), 'n_iter': 10, 'n_jobs': None, 'param_distributions': {'preprocessing': [StandardScaler(), MinMaxScaler(), Normalizer(), MaxAbsScaler()], 'classifier__C': [10, 100, 1000], 'classifier__kernel': ['linear', 'rbf', 'sigmoid']}, 'pre_dispatch': '2*n_jobs', 'random_state': None, 'refit': True, 'return_train_score': False, 'scoring': None, 'verbose': 1}\n",
      "\u001b[1;34m {'preprocessing': StandardScaler(), 'classifier__kernel': 'linear', 'classifier__C': 1000}\n",
      "CPU times: user 608 ms, sys: 0 ns, total: 608 ms\n",
      "Wall time: 597 ms\n"
     ]
    }
   ],
   "source": [
    "%%time\n",
    "\n",
    "try:\n",
    "    best, random_clf = best_params(parameters, model_deploy, X_train, X_test, y_train, y_test)\n",
    "\n",
    "except Exception as error:\n",
    "    logger.warning('Aconteceu algum problema...')\n",
    "    logger.critical(error)\n",
    "\n",
    "else:\n",
    "    logger.info('Ok')\n",
    "    \n",
    "finally:\n",
    "    logger.info('Busca finalizada')"
   ]
  },
  {
   "cell_type": "code",
   "execution_count": 58,
   "id": "303c6097-70ff-4935-908d-937299e75d4d",
   "metadata": {},
   "outputs": [
    {
     "data": {
      "text/plain": [
       "{'preprocessing': StandardScaler(),\n",
       " 'classifier__kernel': 'linear',\n",
       " 'classifier__C': 1000}"
      ]
     },
     "execution_count": 58,
     "metadata": {},
     "output_type": "execute_result"
    }
   ],
   "source": [
    "best"
   ]
  },
  {
   "cell_type": "code",
   "execution_count": 60,
   "id": "59b986c4-6c7d-43a9-9a32-1dc1cc4527b2",
   "metadata": {},
   "outputs": [
    {
     "data": {
      "text/html": [
       "<style>#sk-bed71923-0a9b-4e32-a9cb-c7c6ef0f8e8d {color: black;background-color: white;}#sk-bed71923-0a9b-4e32-a9cb-c7c6ef0f8e8d pre{padding: 0;}#sk-bed71923-0a9b-4e32-a9cb-c7c6ef0f8e8d div.sk-toggleable {background-color: white;}#sk-bed71923-0a9b-4e32-a9cb-c7c6ef0f8e8d label.sk-toggleable__label {cursor: pointer;display: block;width: 100%;margin-bottom: 0;padding: 0.3em;box-sizing: border-box;text-align: center;}#sk-bed71923-0a9b-4e32-a9cb-c7c6ef0f8e8d label.sk-toggleable__label-arrow:before {content: \"▸\";float: left;margin-right: 0.25em;color: #696969;}#sk-bed71923-0a9b-4e32-a9cb-c7c6ef0f8e8d label.sk-toggleable__label-arrow:hover:before {color: black;}#sk-bed71923-0a9b-4e32-a9cb-c7c6ef0f8e8d div.sk-estimator:hover label.sk-toggleable__label-arrow:before {color: black;}#sk-bed71923-0a9b-4e32-a9cb-c7c6ef0f8e8d div.sk-toggleable__content {max-height: 0;max-width: 0;overflow: hidden;text-align: left;background-color: #f0f8ff;}#sk-bed71923-0a9b-4e32-a9cb-c7c6ef0f8e8d div.sk-toggleable__content pre {margin: 0.2em;color: black;border-radius: 0.25em;background-color: #f0f8ff;}#sk-bed71923-0a9b-4e32-a9cb-c7c6ef0f8e8d input.sk-toggleable__control:checked~div.sk-toggleable__content {max-height: 200px;max-width: 100%;overflow: auto;}#sk-bed71923-0a9b-4e32-a9cb-c7c6ef0f8e8d input.sk-toggleable__control:checked~label.sk-toggleable__label-arrow:before {content: \"▾\";}#sk-bed71923-0a9b-4e32-a9cb-c7c6ef0f8e8d div.sk-estimator input.sk-toggleable__control:checked~label.sk-toggleable__label {background-color: #d4ebff;}#sk-bed71923-0a9b-4e32-a9cb-c7c6ef0f8e8d div.sk-label input.sk-toggleable__control:checked~label.sk-toggleable__label {background-color: #d4ebff;}#sk-bed71923-0a9b-4e32-a9cb-c7c6ef0f8e8d input.sk-hidden--visually {border: 0;clip: rect(1px 1px 1px 1px);clip: rect(1px, 1px, 1px, 1px);height: 1px;margin: -1px;overflow: hidden;padding: 0;position: absolute;width: 1px;}#sk-bed71923-0a9b-4e32-a9cb-c7c6ef0f8e8d div.sk-estimator {font-family: monospace;background-color: #f0f8ff;border: 1px dotted black;border-radius: 0.25em;box-sizing: border-box;margin-bottom: 0.5em;}#sk-bed71923-0a9b-4e32-a9cb-c7c6ef0f8e8d div.sk-estimator:hover {background-color: #d4ebff;}#sk-bed71923-0a9b-4e32-a9cb-c7c6ef0f8e8d div.sk-parallel-item::after {content: \"\";width: 100%;border-bottom: 1px solid gray;flex-grow: 1;}#sk-bed71923-0a9b-4e32-a9cb-c7c6ef0f8e8d div.sk-label:hover label.sk-toggleable__label {background-color: #d4ebff;}#sk-bed71923-0a9b-4e32-a9cb-c7c6ef0f8e8d div.sk-serial::before {content: \"\";position: absolute;border-left: 1px solid gray;box-sizing: border-box;top: 2em;bottom: 0;left: 50%;}#sk-bed71923-0a9b-4e32-a9cb-c7c6ef0f8e8d div.sk-serial {display: flex;flex-direction: column;align-items: center;background-color: white;padding-right: 0.2em;padding-left: 0.2em;}#sk-bed71923-0a9b-4e32-a9cb-c7c6ef0f8e8d div.sk-item {z-index: 1;}#sk-bed71923-0a9b-4e32-a9cb-c7c6ef0f8e8d div.sk-parallel {display: flex;align-items: stretch;justify-content: center;background-color: white;}#sk-bed71923-0a9b-4e32-a9cb-c7c6ef0f8e8d div.sk-parallel::before {content: \"\";position: absolute;border-left: 1px solid gray;box-sizing: border-box;top: 2em;bottom: 0;left: 50%;}#sk-bed71923-0a9b-4e32-a9cb-c7c6ef0f8e8d div.sk-parallel-item {display: flex;flex-direction: column;position: relative;background-color: white;}#sk-bed71923-0a9b-4e32-a9cb-c7c6ef0f8e8d div.sk-parallel-item:first-child::after {align-self: flex-end;width: 50%;}#sk-bed71923-0a9b-4e32-a9cb-c7c6ef0f8e8d div.sk-parallel-item:last-child::after {align-self: flex-start;width: 50%;}#sk-bed71923-0a9b-4e32-a9cb-c7c6ef0f8e8d div.sk-parallel-item:only-child::after {width: 0;}#sk-bed71923-0a9b-4e32-a9cb-c7c6ef0f8e8d div.sk-dashed-wrapped {border: 1px dashed gray;margin: 0 0.4em 0.5em 0.4em;box-sizing: border-box;padding-bottom: 0.4em;background-color: white;position: relative;}#sk-bed71923-0a9b-4e32-a9cb-c7c6ef0f8e8d div.sk-label label {font-family: monospace;font-weight: bold;background-color: white;display: inline-block;line-height: 1.2em;}#sk-bed71923-0a9b-4e32-a9cb-c7c6ef0f8e8d div.sk-label-container {position: relative;z-index: 2;text-align: center;}#sk-bed71923-0a9b-4e32-a9cb-c7c6ef0f8e8d div.sk-container {/* jupyter's `normalize.less` sets `[hidden] { display: none; }` but bootstrap.min.css set `[hidden] { display: none !important; }` so we also need the `!important` here to be able to override the default hidden behavior on the sphinx rendered scikit-learn.org. See: https://github.com/scikit-learn/scikit-learn/issues/21755 */display: inline-block !important;position: relative;}#sk-bed71923-0a9b-4e32-a9cb-c7c6ef0f8e8d div.sk-text-repr-fallback {display: none;}</style><div id=\"sk-bed71923-0a9b-4e32-a9cb-c7c6ef0f8e8d\" class=\"sk-top-container\"><div class=\"sk-text-repr-fallback\"><pre>RandomizedSearchCV(estimator=Pipeline(steps=[(&#x27;preprocessing&#x27;,\n",
       "                                              StandardScaler()),\n",
       "                                             (&#x27;classifier&#x27;, SVC())]),\n",
       "                   param_distributions={&#x27;classifier__C&#x27;: [10, 100, 1000],\n",
       "                                        &#x27;classifier__kernel&#x27;: [&#x27;linear&#x27;, &#x27;rbf&#x27;,\n",
       "                                                               &#x27;sigmoid&#x27;],\n",
       "                                        &#x27;preprocessing&#x27;: [StandardScaler(),\n",
       "                                                          MinMaxScaler(),\n",
       "                                                          Normalizer(),\n",
       "                                                          MaxAbsScaler()]},\n",
       "                   verbose=1)</pre><b>Please rerun this cell to show the HTML repr or trust the notebook.</b></div><div class=\"sk-container\" hidden><div class=\"sk-item sk-dashed-wrapped\"><div class=\"sk-label-container\"><div class=\"sk-label sk-toggleable\"><input class=\"sk-toggleable__control sk-hidden--visually\" id=\"96cf49a4-1ce0-4266-b626-860a4a2274c6\" type=\"checkbox\" ><label for=\"96cf49a4-1ce0-4266-b626-860a4a2274c6\" class=\"sk-toggleable__label sk-toggleable__label-arrow\">RandomizedSearchCV</label><div class=\"sk-toggleable__content\"><pre>RandomizedSearchCV(estimator=Pipeline(steps=[(&#x27;preprocessing&#x27;,\n",
       "                                              StandardScaler()),\n",
       "                                             (&#x27;classifier&#x27;, SVC())]),\n",
       "                   param_distributions={&#x27;classifier__C&#x27;: [10, 100, 1000],\n",
       "                                        &#x27;classifier__kernel&#x27;: [&#x27;linear&#x27;, &#x27;rbf&#x27;,\n",
       "                                                               &#x27;sigmoid&#x27;],\n",
       "                                        &#x27;preprocessing&#x27;: [StandardScaler(),\n",
       "                                                          MinMaxScaler(),\n",
       "                                                          Normalizer(),\n",
       "                                                          MaxAbsScaler()]},\n",
       "                   verbose=1)</pre></div></div></div><div class=\"sk-parallel\"><div class=\"sk-parallel-item\"><div class=\"sk-item\"><div class=\"sk-serial\"><div class=\"sk-item\"><div class=\"sk-serial\"><div class=\"sk-item\"><div class=\"sk-estimator sk-toggleable\"><input class=\"sk-toggleable__control sk-hidden--visually\" id=\"e76e54c2-e0fb-46f6-95bf-a3043ec57c5c\" type=\"checkbox\" ><label for=\"e76e54c2-e0fb-46f6-95bf-a3043ec57c5c\" class=\"sk-toggleable__label sk-toggleable__label-arrow\">StandardScaler</label><div class=\"sk-toggleable__content\"><pre>StandardScaler()</pre></div></div></div><div class=\"sk-item\"><div class=\"sk-estimator sk-toggleable\"><input class=\"sk-toggleable__control sk-hidden--visually\" id=\"af3f77fa-1dc6-46a1-8161-e13d7910de8b\" type=\"checkbox\" ><label for=\"af3f77fa-1dc6-46a1-8161-e13d7910de8b\" class=\"sk-toggleable__label sk-toggleable__label-arrow\">SVC</label><div class=\"sk-toggleable__content\"><pre>SVC()</pre></div></div></div></div></div></div></div></div></div></div></div></div>"
      ],
      "text/plain": [
       "RandomizedSearchCV(estimator=Pipeline(steps=[('preprocessing',\n",
       "                                              StandardScaler()),\n",
       "                                             ('classifier', SVC())]),\n",
       "                   param_distributions={'classifier__C': [10, 100, 1000],\n",
       "                                        'classifier__kernel': ['linear', 'rbf',\n",
       "                                                               'sigmoid'],\n",
       "                                        'preprocessing': [StandardScaler(),\n",
       "                                                          MinMaxScaler(),\n",
       "                                                          Normalizer(),\n",
       "                                                          MaxAbsScaler()]},\n",
       "                   verbose=1)"
      ]
     },
     "execution_count": 60,
     "metadata": {},
     "output_type": "execute_result"
    }
   ],
   "source": [
    "random_clf"
   ]
  },
  {
   "cell_type": "code",
   "execution_count": 46,
   "id": "9eab13a2-1e24-4342-a71f-df19eec8e6df",
   "metadata": {},
   "outputs": [],
   "source": [
    "RED = \"\\033[1;31m\"\n",
    "BLUE = \"\\033[1;34m\"\n",
    "GREEN = \"\\033[1;32m\"\n",
    "PINK = \"\\033[1;45m\"\n",
    "HEADER = '\\033[95m'\n",
    "OKBLUE = '\\033[94m'\n",
    "OKCYAN = '\\033[96m'\n",
    "OKGREEN = '\\033[92m'\n",
    "WARNING = '\\033[93m'\n",
    "FAIL = '\\033[91m'\n",
    "ENDC = '\\033[0m'\n",
    "BOLD = '\\033[1m'\n",
    "UNDERLINE = '\\033[4m'\n",
    "MAG = \"\\033[1;45m\""
   ]
  },
  {
   "cell_type": "code",
   "execution_count": null,
   "id": "a6c25c42-88a6-436f-bd73-ba07677933a7",
   "metadata": {},
   "outputs": [],
   "source": []
  }
 ],
 "metadata": {
  "kernelspec": {
   "display_name": "Python 3 (ipykernel)",
   "language": "python",
   "name": "python3"
  },
  "language_info": {
   "codemirror_mode": {
    "name": "ipython",
    "version": 3
   },
   "file_extension": ".py",
   "mimetype": "text/x-python",
   "name": "python",
   "nbconvert_exporter": "python",
   "pygments_lexer": "ipython3",
   "version": "3.8.10"
  }
 },
 "nbformat": 4,
 "nbformat_minor": 5
}
