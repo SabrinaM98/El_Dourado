{
 "cells": [
  {
   "cell_type": "markdown",
   "metadata": {
    "id": "w1dZYPINcITt"
   },
   "source": [
    "An introduction to machine learning with scikit-learn\n",
    "https://scikit-learn.org/stable/\n",
    "https://scikit-learn.org/stable/tutorial/basic/tutorial.html\n",
    "\n",
    "Supervised learning\n",
    "https://scikit-learn.org/stable/supervised_learning.html#supervised-learning\n",
    "\n",
    "Unsupervised learning\n",
    "https://scikit-learn.org/stable/unsupervised_learning.html\n",
    "\n",
    "Neste notebook você concluirá seu primeiro projeto de Machine Learning usando Python. \n",
    "\n",
    "Um projeto de Machine Learning tem uma série de etapas bem conhecidas:\n",
    "\n",
    "- Defina o problema.\n",
    "- Prepare os dados.\n",
    "- Avalie algoritmos.\n",
    "- Melhore os resultados.\n",
    "- Resultados finais.\n",
    "\n",
    "Para começar faremos a classificação das flores íris.\n",
    "\n",
    "- As características são numéricos, então você precisa descobrir como carregar e manipular os dados.\n",
    "- É um problema de classificação, com rótulos previamente atribuídos.\n",
    "- É um problema de classificação multi-classe que pode requerer algum tratamento especializado, como balanceamento de classes.\n",
    "- Possui apenas 4 atributos e 150 linhas, o que significa que é pequeno e cabe facilmente na memória.\n",
    "- Todos os atributos numéricos estão nas mesmas unidades e na mesma escala, não exigindo nenhuma escala ou transformação especial para começar.\n",
    "\n",
    "Usaremos o conjunto de dados iris deste repositório: \n",
    "https://archive.ics.uci.edu/ml/machine-learning-databases/iris/iris.data"
   ]
  },
  {
   "cell_type": "markdown",
   "metadata": {
    "id": "SESUV7DJDfYt"
   },
   "source": [
    "# Importar libs Python\n",
    "\n",
    "Primeiro, vamos importar todos os módulo, funções e objetos que vamos usar neste projeto."
   ]
  },
  {
   "cell_type": "code",
   "execution_count": 1,
   "metadata": {},
   "outputs": [
    {
     "name": "stdout",
     "output_type": "stream",
     "text": [
      "Requirement already satisfied: sklearn in c:\\users\\tatiana.tavares\\appdata\\local\\programs\\python\\python39\\lib\\site-packages (0.0)\n",
      "Requirement already satisfied: scikit-learn in c:\\users\\tatiana.tavares\\appdata\\local\\programs\\python\\python39\\lib\\site-packages (from sklearn) (1.0.1)\n",
      "Requirement already satisfied: threadpoolctl>=2.0.0 in c:\\users\\tatiana.tavares\\appdata\\local\\programs\\python\\python39\\lib\\site-packages (from scikit-learn->sklearn) (3.0.0)\n",
      "Requirement already satisfied: numpy>=1.14.6 in c:\\users\\tatiana.tavares\\appdata\\local\\programs\\python\\python39\\lib\\site-packages (from scikit-learn->sklearn) (1.21.5)\n",
      "Requirement already satisfied: joblib>=0.11 in c:\\users\\tatiana.tavares\\appdata\\local\\programs\\python\\python39\\lib\\site-packages (from scikit-learn->sklearn) (1.1.0)\n",
      "Requirement already satisfied: scipy>=1.1.0 in c:\\users\\tatiana.tavares\\appdata\\local\\programs\\python\\python39\\lib\\site-packages (from scikit-learn->sklearn) (1.7.3)\n",
      "Note: you may need to restart the kernel to use updated packages.\n"
     ]
    }
   ],
   "source": [
    "pip install sklearn"
   ]
  },
  {
   "cell_type": "code",
   "execution_count": 2,
   "metadata": {},
   "outputs": [],
   "source": [
    "# Load Libs\n",
    "\n",
    "import pandas as pd\n",
    "from pandas import DataFrame\n",
    "\n",
    "import sklearn\n",
    "from sklearn import datasets\n",
    "#from sklearn.tree import DecisionTreeClassifier\n",
    "from sklearn.svm import SVC\n",
    "from sklearn.model_selection import train_test_split\n",
    "from sklearn.preprocessing import StandardScaler, MinMaxScaler, Normalizer, MaxAbsScaler\n",
    "from sklearn.pipeline import Pipeline\n",
    "from sklearn import set_config\n",
    "from sklearn.model_selection import GridSearchCV \n",
    "\n",
    "import seaborn as sns \n",
    "import matplotlib.pyplot as plt\n",
    "\n",
    "import joblib\n",
    "import pickle as pck"
   ]
  },
  {
   "cell_type": "markdown",
   "metadata": {},
   "source": [
    "Tudo deve carregar sem erros. Se você tiver um erro, pare. Instale as libs que ainda não estão instaladas, usando pip install <lib_name>"
   ]
  },
  {
   "cell_type": "code",
   "execution_count": 3,
   "metadata": {},
   "outputs": [
    {
     "name": "stdout",
     "output_type": "stream",
     "text": [
      "pandas: 1.2.5\n",
      "sklearn: 1.0.1\n"
     ]
    }
   ],
   "source": [
    "# Check as versões das libs python\n",
    " \n",
    "# pandas\n",
    "print('pandas: {}'.format(pd.__version__))\n",
    "# scikit-learn\n",
    "print('sklearn: {}'.format(sklearn.__version__))"
   ]
  },
  {
   "cell_type": "markdown",
   "metadata": {
    "id": "5ho7DeHkq-DR"
   },
   "source": [
    "# Carregar o conjunto de dados\n",
    "\n",
    "tbém podemos carregar diretamente da biblioteca sklearn."
   ]
  },
  {
   "cell_type": "code",
   "execution_count": 4,
   "metadata": {},
   "outputs": [
    {
     "name": "stdout",
     "output_type": "stream",
     "text": [
      "Dataset features names : ['sepal length (cm)', 'sepal width (cm)', 'petal length (cm)', 'petal width (cm)']\n",
      "Dataset features size : (150, 4)\n",
      "Dataset target names : ['setosa' 'versicolor' 'virginica']\n",
      "Dataset target size : (150,)\n"
     ]
    }
   ],
   "source": [
    "iris = datasets.load_iris()\n",
    "X, y = iris.data, iris.target\n",
    "\n",
    "print('Dataset features names : '+str(iris.feature_names))\n",
    "print('Dataset features size : '+str(iris.data.shape))\n",
    "print('Dataset target names : '+str(iris.target_names))\n",
    "print('Dataset target size : '+str(iris.target.shape))"
   ]
  },
  {
   "cell_type": "code",
   "execution_count": 5,
   "metadata": {},
   "outputs": [
    {
     "data": {
      "text/plain": [
       "array([0, 0, 0, 0, 0, 0, 0, 0, 0, 0, 0, 0, 0, 0, 0, 0, 0, 0, 0, 0, 0, 0,\n",
       "       0, 0, 0, 0, 0, 0, 0, 0, 0, 0, 0, 0, 0, 0, 0, 0, 0, 0, 0, 0, 0, 0,\n",
       "       0, 0, 0, 0, 0, 0, 1, 1, 1, 1, 1, 1, 1, 1, 1, 1, 1, 1, 1, 1, 1, 1,\n",
       "       1, 1, 1, 1, 1, 1, 1, 1, 1, 1, 1, 1, 1, 1, 1, 1, 1, 1, 1, 1, 1, 1,\n",
       "       1, 1, 1, 1, 1, 1, 1, 1, 1, 1, 1, 1, 2, 2, 2, 2, 2, 2, 2, 2, 2, 2,\n",
       "       2, 2, 2, 2, 2, 2, 2, 2, 2, 2, 2, 2, 2, 2, 2, 2, 2, 2, 2, 2, 2, 2,\n",
       "       2, 2, 2, 2, 2, 2, 2, 2, 2, 2, 2, 2, 2, 2, 2, 2, 2, 2])"
      ]
     },
     "execution_count": 5,
     "metadata": {},
     "output_type": "execute_result"
    }
   ],
   "source": [
    "y"
   ]
  },
  {
   "cell_type": "markdown",
   "metadata": {},
   "source": [
    "Para conjuntos de dados mais complexos pode ser necessário normalizar os dados, imputar valores ausentes, transformação de variáveis categóricas para numéricas, entre outras operações, para que o conjunto de dados esteja adequada para a entrada de uma Machine Learning. \n",
    "\n",
    "Para treinar alguns algoritmos de Machine Learning vamos usar a classe sklearn.pipeline.Pipeline() - Pipeline de transformações com um estimador final. \n",
    "\n",
    "O pipeline aplica sequencialmente uma lista de transformações e um estimador final. As etapas intermediárias do pipeline devem ser 'transformações', ou seja, devem implementar os métodos fit e transform. O estimador final só precisa implementar fit. \n",
    "\n",
    "O objetivo do pipeline é reunir várias etapas que podem ser validadas de forma cruzada ao definir parâmetros diferentes. "
   ]
  },
  {
   "attachments": {
    "64a61fee-bafc-4d50-854f-bf6a305a7549.png": {
     "image/png": "[encoded data removed]"
    }
   },
   "cell_type": "markdown",
   "metadata": {},
   "source": [
    "A forma mais conhecida de escrever códigos de Machine Learning e a que é geralmente ensinada é usando paradigma de programação procedural, onde cada etapa do código é feita em sequência, seguindo uma ordem específica e usando funções proveninentes de pacotes ou escritas pelo próprio usuário. \n",
    "\n",
    "A classe Pipeline é uma funcionalidade do Scikit-Learn que ajuda a criar códigos que possuam um padrão que possa ser facilmente entendido e compartilhado entre times. Este tipo de escrever código usa o estilo de programação Orientada à Objetos.\n",
    "\n",
    "A classe Pipeline nos permite embutir no modelo não apenas o algoritmo de Machine Learning, mas também a forma como ele irá pré-processar os dados. \n",
    "\n",
    "Vamos definir as etapas que irão compor o nosso pipeline. Na primeira etapa iremos padronizar os dados com média zero e variância 1 com StandardScaler e em seguida aplicar o modelo de classificação (para este exemplo usaremos uma Máquina de Vetor de Suporte (SVM). \n",
    "\n",
    "https://scikit-learn.org/stable/modules/generated/sklearn.svm.SVC.html\n",
    "\n",
    "O módulo sklearn.preprocessing fornece várias funções de utilidade comuns e classes de transformadores para alterar os vetores de caracteristícas brutos em uma representação mais adequada para os modelos.\n",
    "\n",
    "Em geral, os algoritmos de aprendizado se beneficiam da padronização do conjunto de dados. Se alguns outliers estiverem presentes no conjunto, scalers ou transformadores robustos são mais apropriados. \n",
    "\n",
    "https://scikit-learn.org/stable/modules/preprocessing.html\n",
    "\n",
    "A padronização de conjuntos de dados é um requisito comum para muitos modelos de Machine Learning implementados no scikit-learn; eles podem se comportar mal se as características individuais não se parecerem mais ou menos com dados padrão normalmente distribuídos: Gaussiano com média zero e variância unitária. \n",
    "\n",
    "O módulo preprocessing fornece a classe StandardScaler. \n",
    "\n",
    "![Standard_scale.png](attachment:64a61fee-bafc-4d50-854f-bf6a305a7549.png)"
   ]
  },
  {
   "cell_type": "markdown",
   "metadata": {},
   "source": [
    "Parâmetros de um modelo de Machile Learning: são os argumentos da classe Python, por exemplo, número de camadas de uma rede neural, o tipo de camadas, o tipo de regularização.\n",
    "\n",
    "Hiperparâmetros de um modelo de Machine learning: são os parâmetros treináveis do modelo, por exemplo, os pesos de uma rede neural, o vetores do SVM, a profundidade de uma Decision Tree, etc."
   ]
  },
  {
   "cell_type": "markdown",
   "metadata": {},
   "source": [
    "# Conjuntos de dados de treinamento e teste"
   ]
  },
  {
   "cell_type": "code",
   "execution_count": 6,
   "metadata": {},
   "outputs": [],
   "source": [
    "# train_test_split separa os exemplos em train e test e embaralha! \n",
    "# A transformação e modelo Decison Tree estão com os seus parâmetros como padrão.\n",
    "\n",
    "X_train, X_test, y_train, y_test = train_test_split(X, y, test_size=None, random_state=0)"
   ]
  },
  {
   "cell_type": "code",
   "execution_count": 7,
   "metadata": {},
   "outputs": [
    {
     "name": "stdout",
     "output_type": "stream",
     "text": [
      "(112, 4)\n",
      "(112,)\n",
      "(38, 4)\n",
      "(38,)\n"
     ]
    }
   ],
   "source": [
    "print(X_train.shape)\n",
    "print(y_train.shape)\n",
    "print(X_test.shape)\n",
    "print(y_test.shape)"
   ]
  },
  {
   "cell_type": "code",
   "execution_count": 8,
   "metadata": {},
   "outputs": [],
   "source": [
    "pck.dump(X_train, open('X_train.pck', 'wb'))\n",
    "pck.dump(y_train, open('y_train.pck', 'wb'))\n",
    "\n",
    "pck.dump(X_test, open('X_test.pck', 'wb'))\n",
    "pck.dump(y_test, open('y_test.pck', 'wb'))"
   ]
  },
  {
   "cell_type": "code",
   "execution_count": 9,
   "metadata": {},
   "outputs": [],
   "source": [
    "steps = [('preprocessing', StandardScaler()),\n",
    "         ('classifier', SVC(kernel='rbf'))]\n",
    "\n",
    "pipe = Pipeline(steps)\n",
    "\n",
    "# O pipeline pode ser usado com qualquer outro estimador\n",
    "# evita o vazamento do conjunto de teste no conjunto de treinamento\n",
    "\n",
    "model_deploy = pipe.fit(X_train, y_train)"
   ]
  },
  {
   "cell_type": "code",
   "execution_count": 10,
   "metadata": {},
   "outputs": [
    {
     "name": "stdout",
     "output_type": "stream",
     "text": [
      "Training set score: 0.9732142857142857\n",
      "Test set score: 0.9736842105263158\n"
     ]
    }
   ],
   "source": [
    "print('Training set score: ' + str(model_deploy.score(X_train,y_train)))\n",
    "print('Test set score: ' + str(model_deploy.score(X_test,y_test)))"
   ]
  },
  {
   "cell_type": "code",
   "execution_count": 11,
   "metadata": {},
   "outputs": [
    {
     "data": {
      "text/html": [
       "<style>#sk-d65a6115-b9d7-4b39-8a43-5e172583e0c4 {color: black;background-color: white;}#sk-d65a6115-b9d7-4b39-8a43-5e172583e0c4 pre{padding: 0;}#sk-d65a6115-b9d7-4b39-8a43-5e172583e0c4 div.sk-toggleable {background-color: white;}#sk-d65a6115-b9d7-4b39-8a43-5e172583e0c4 label.sk-toggleable__label {cursor: pointer;display: block;width: 100%;margin-bottom: 0;padding: 0.3em;box-sizing: border-box;text-align: center;}#sk-d65a6115-b9d7-4b39-8a43-5e172583e0c4 div.sk-toggleable__content {max-height: 0;max-width: 0;overflow: hidden;text-align: left;background-color: #f0f8ff;}#sk-d65a6115-b9d7-4b39-8a43-5e172583e0c4 div.sk-toggleable__content pre {margin: 0.2em;color: black;border-radius: 0.25em;background-color: #f0f8ff;}#sk-d65a6115-b9d7-4b39-8a43-5e172583e0c4 input.sk-toggleable__control:checked~div.sk-toggleable__content {max-height: 200px;max-width: 100%;overflow: auto;}#sk-d65a6115-b9d7-4b39-8a43-5e172583e0c4 div.sk-estimator input.sk-toggleable__control:checked~label.sk-toggleable__label {background-color: #d4ebff;}#sk-d65a6115-b9d7-4b39-8a43-5e172583e0c4 div.sk-label input.sk-toggleable__control:checked~label.sk-toggleable__label {background-color: #d4ebff;}#sk-d65a6115-b9d7-4b39-8a43-5e172583e0c4 input.sk-hidden--visually {border: 0;clip: rect(1px 1px 1px 1px);clip: rect(1px, 1px, 1px, 1px);height: 1px;margin: -1px;overflow: hidden;padding: 0;position: absolute;width: 1px;}#sk-d65a6115-b9d7-4b39-8a43-5e172583e0c4 div.sk-estimator {font-family: monospace;background-color: #f0f8ff;border: 1px dotted black;border-radius: 0.25em;box-sizing: border-box;margin-bottom: 0.5em;}#sk-d65a6115-b9d7-4b39-8a43-5e172583e0c4 div.sk-estimator:hover {background-color: #d4ebff;}#sk-d65a6115-b9d7-4b39-8a43-5e172583e0c4 div.sk-parallel-item::after {content: \"\";width: 100%;border-bottom: 1px solid gray;flex-grow: 1;}#sk-d65a6115-b9d7-4b39-8a43-5e172583e0c4 div.sk-label:hover label.sk-toggleable__label {background-color: #d4ebff;}#sk-d65a6115-b9d7-4b39-8a43-5e172583e0c4 div.sk-serial::before {content: \"\";position: absolute;border-left: 1px solid gray;box-sizing: border-box;top: 2em;bottom: 0;left: 50%;}#sk-d65a6115-b9d7-4b39-8a43-5e172583e0c4 div.sk-serial {display: flex;flex-direction: column;align-items: center;background-color: white;padding-right: 0.2em;padding-left: 0.2em;}#sk-d65a6115-b9d7-4b39-8a43-5e172583e0c4 div.sk-item {z-index: 1;}#sk-d65a6115-b9d7-4b39-8a43-5e172583e0c4 div.sk-parallel {display: flex;align-items: stretch;justify-content: center;background-color: white;}#sk-d65a6115-b9d7-4b39-8a43-5e172583e0c4 div.sk-parallel::before {content: \"\";position: absolute;border-left: 1px solid gray;box-sizing: border-box;top: 2em;bottom: 0;left: 50%;}#sk-d65a6115-b9d7-4b39-8a43-5e172583e0c4 div.sk-parallel-item {display: flex;flex-direction: column;position: relative;background-color: white;}#sk-d65a6115-b9d7-4b39-8a43-5e172583e0c4 div.sk-parallel-item:first-child::after {align-self: flex-end;width: 50%;}#sk-d65a6115-b9d7-4b39-8a43-5e172583e0c4 div.sk-parallel-item:last-child::after {align-self: flex-start;width: 50%;}#sk-d65a6115-b9d7-4b39-8a43-5e172583e0c4 div.sk-parallel-item:only-child::after {width: 0;}#sk-d65a6115-b9d7-4b39-8a43-5e172583e0c4 div.sk-dashed-wrapped {border: 1px dashed gray;margin: 0 0.4em 0.5em 0.4em;box-sizing: border-box;padding-bottom: 0.4em;background-color: white;position: relative;}#sk-d65a6115-b9d7-4b39-8a43-5e172583e0c4 div.sk-label label {font-family: monospace;font-weight: bold;background-color: white;display: inline-block;line-height: 1.2em;}#sk-d65a6115-b9d7-4b39-8a43-5e172583e0c4 div.sk-label-container {position: relative;z-index: 2;text-align: center;}#sk-d65a6115-b9d7-4b39-8a43-5e172583e0c4 div.sk-container {display: inline-block;position: relative;}</style><div id=\"sk-d65a6115-b9d7-4b39-8a43-5e172583e0c4\" class\"sk-top-container\"><div class=\"sk-container\"><div class=\"sk-item sk-dashed-wrapped\"><div class=\"sk-label-container\"><div class=\"sk-label sk-toggleable\"><input class=\"sk-toggleable__control sk-hidden--visually\" id=\"fc6a9b75-726e-4574-b64b-8a75c5217919\" type=\"checkbox\" ><label class=\"sk-toggleable__label\" for=\"fc6a9b75-726e-4574-b64b-8a75c5217919\">Pipeline</label><div class=\"sk-toggleable__content\"><pre>Pipeline(steps=[('preprocessing', StandardScaler()), ('classifier', SVC())])</pre></div></div></div><div class=\"sk-serial\"><div class=\"sk-item\"><div class=\"sk-estimator sk-toggleable\"><input class=\"sk-toggleable__control sk-hidden--visually\" id=\"033528d6-0bae-4c06-91b2-57b6fc4484ca\" type=\"checkbox\" ><label class=\"sk-toggleable__label\" for=\"033528d6-0bae-4c06-91b2-57b6fc4484ca\">StandardScaler</label><div class=\"sk-toggleable__content\"><pre>StandardScaler()</pre></div></div></div><div class=\"sk-item\"><div class=\"sk-estimator sk-toggleable\"><input class=\"sk-toggleable__control sk-hidden--visually\" id=\"544ac321-621a-4dc7-bbd6-7022f54d5069\" type=\"checkbox\" ><label class=\"sk-toggleable__label\" for=\"544ac321-621a-4dc7-bbd6-7022f54d5069\">SVC</label><div class=\"sk-toggleable__content\"><pre>SVC()</pre></div></div></div></div></div></div></div>"
      ],
      "text/plain": [
       "Pipeline(steps=[('preprocessing', StandardScaler()), ('classifier', SVC())])"
      ]
     },
     "execution_count": 11,
     "metadata": {},
     "output_type": "execute_result"
    }
   ],
   "source": [
    "set_config(display='diagram')\n",
    "model_deploy  # clique no diagrama abaixo para ver os detalhes de cada etapa"
   ]
  },
  {
   "cell_type": "markdown",
   "metadata": {},
   "source": [
    "# Grid searchCV\n",
    "\n",
    "Podemos procurar o melhor preprocessamento para o nosso conjunto de dados. Em vez de apenas usar StandardScaler() podemos testar MinMaxScaler(), Normalizer() e MaxAbsScaler().\n",
    "\n",
    "https://scikit-learn.org/stable/modules/generated/sklearn.preprocessing.MinMaxScaler.html\n",
    "\n",
    "https://scikit-learn.org/stable/modules/generated/sklearn.preprocessing.Normalizer.html\n",
    "\n",
    "https://scikit-learn.org/stable/modules/generated/sklearn.preprocessing.MaxAbsScaler.html\n",
    "\n",
    "Podemos procurar o melhor valor para alguns parâmetros do modelo SVM, como: \n",
    "- C = parâmetros de regularização. \n",
    "- kernel = especifica o tipo de kernel para ser usado no algoritmo.\n"
   ]
  },
  {
   "cell_type": "code",
   "execution_count": 12,
   "metadata": {},
   "outputs": [
    {
     "data": {
      "text/plain": [
       "{'C': 1.0,\n",
       " 'break_ties': False,\n",
       " 'cache_size': 200,\n",
       " 'class_weight': None,\n",
       " 'coef0': 0.0,\n",
       " 'decision_function_shape': 'ovr',\n",
       " 'degree': 3,\n",
       " 'gamma': 'scale',\n",
       " 'kernel': 'rbf',\n",
       " 'max_iter': -1,\n",
       " 'probability': False,\n",
       " 'random_state': None,\n",
       " 'shrinking': True,\n",
       " 'tol': 0.001,\n",
       " 'verbose': False}"
      ]
     },
     "execution_count": 12,
     "metadata": {},
     "output_type": "execute_result"
    }
   ],
   "source": [
    "SVC().get_params()"
   ]
  },
  {
   "cell_type": "code",
   "execution_count": 13,
   "metadata": {},
   "outputs": [],
   "source": [
    "parameters = {'preprocessing': [StandardScaler(), MinMaxScaler(), Normalizer(), MaxAbsScaler()],\n",
    "              'classifier__C': [10, 100, 1000],\n",
    "              'classifier__kernel': ['linear', 'rbf', 'sigmoid']}"
   ]
  },
  {
   "cell_type": "code",
   "execution_count": 14,
   "metadata": {},
   "outputs": [
    {
     "data": {
      "text/plain": [
       "{'memory': None,\n",
       " 'steps': [('preprocessing', StandardScaler()), ('classifier', SVC())],\n",
       " 'verbose': False,\n",
       " 'preprocessing': StandardScaler(),\n",
       " 'classifier': SVC(),\n",
       " 'preprocessing__copy': True,\n",
       " 'preprocessing__with_mean': True,\n",
       " 'preprocessing__with_std': True,\n",
       " 'classifier__C': 1.0,\n",
       " 'classifier__break_ties': False,\n",
       " 'classifier__cache_size': 200,\n",
       " 'classifier__class_weight': None,\n",
       " 'classifier__coef0': 0.0,\n",
       " 'classifier__decision_function_shape': 'ovr',\n",
       " 'classifier__degree': 3,\n",
       " 'classifier__gamma': 'scale',\n",
       " 'classifier__kernel': 'rbf',\n",
       " 'classifier__max_iter': -1,\n",
       " 'classifier__probability': False,\n",
       " 'classifier__random_state': None,\n",
       " 'classifier__shrinking': True,\n",
       " 'classifier__tol': 0.001,\n",
       " 'classifier__verbose': False}"
      ]
     },
     "execution_count": 14,
     "metadata": {},
     "output_type": "execute_result"
    }
   ],
   "source": [
    "model_deploy.get_params()"
   ]
  },
  {
   "cell_type": "markdown",
   "metadata": {},
   "source": [
    "O pipe junto com a lista de parâmetros acima são então passados para um objeto GridSearchCV(), que pesquisa no espaço de parâmetros o melhor conjunto de parâmetros, conforme mostrado abaixo:"
   ]
  },
  {
   "cell_type": "code",
   "execution_count": 15,
   "metadata": {},
   "outputs": [
    {
     "name": "stdout",
     "output_type": "stream",
     "text": [
      "Training set score: 0.9821428571428571\n",
      "Test set score: 0.9473684210526315\n"
     ]
    }
   ],
   "source": [
    "grid = GridSearchCV(model_deploy, parameters)\n",
    "\n",
    "grid.fit(X_train, y_train)\n",
    "\n",
    "print('Training set score: ' + str(grid.score(X_train, y_train)))\n",
    "print('Test set score: ' + str(grid.score(X_test, y_test)))"
   ]
  },
  {
   "cell_type": "code",
   "execution_count": 16,
   "metadata": {},
   "outputs": [
    {
     "name": "stdout",
     "output_type": "stream",
     "text": [
      "{'classifier__C': 1000, 'classifier__kernel': 'rbf', 'preprocessing': Normalizer()}\n",
      "Pipeline(steps=[('preprocessing', Normalizer()), ('classifier', SVC(C=1000))])\n"
     ]
    }
   ],
   "source": [
    "# Access the best set of parameters\n",
    "best_params = grid.best_params_\n",
    "print(best_params)\n",
    "# Stores the optimum model in best_pipe\n",
    "best_pipe = grid.best_estimator_\n",
    "print(best_pipe)"
   ]
  },
  {
   "cell_type": "code",
   "execution_count": 17,
   "metadata": {},
   "outputs": [
    {
     "data": {
      "text/plain": [
       "(36, 16)"
      ]
     },
     "execution_count": 17,
     "metadata": {},
     "output_type": "execute_result"
    }
   ],
   "source": [
    "result_df = DataFrame.from_dict(grid.cv_results_, orient='columns')\n",
    "result_df.shape"
   ]
  },
  {
   "cell_type": "code",
   "execution_count": 18,
   "metadata": {},
   "outputs": [
    {
     "data": {
      "text/html": [
       "<div>\n",
       "<style scoped>\n",
       "    .dataframe tbody tr th:only-of-type {\n",
       "        vertical-align: middle;\n",
       "    }\n",
       "\n",
       "    .dataframe tbody tr th {\n",
       "        vertical-align: top;\n",
       "    }\n",
       "\n",
       "    .dataframe thead th {\n",
       "        text-align: right;\n",
       "    }\n",
       "</style>\n",
       "<table border=\"1\" class=\"dataframe\">\n",
       "  <thead>\n",
       "    <tr style=\"text-align: right;\">\n",
       "      <th></th>\n",
       "      <th>mean_fit_time</th>\n",
       "      <th>std_fit_time</th>\n",
       "      <th>mean_score_time</th>\n",
       "      <th>std_score_time</th>\n",
       "      <th>param_classifier__C</th>\n",
       "      <th>param_classifier__kernel</th>\n",
       "      <th>param_preprocessing</th>\n",
       "      <th>params</th>\n",
       "      <th>split0_test_score</th>\n",
       "      <th>split1_test_score</th>\n",
       "      <th>split2_test_score</th>\n",
       "      <th>split3_test_score</th>\n",
       "      <th>split4_test_score</th>\n",
       "      <th>mean_test_score</th>\n",
       "      <th>std_test_score</th>\n",
       "      <th>rank_test_score</th>\n",
       "    </tr>\n",
       "  </thead>\n",
       "  <tbody>\n",
       "    <tr>\n",
       "      <th>0</th>\n",
       "      <td>0.001593</td>\n",
       "      <td>0.000800</td>\n",
       "      <td>0.000404</td>\n",
       "      <td>0.000495</td>\n",
       "      <td>10</td>\n",
       "      <td>linear</td>\n",
       "      <td>StandardScaler()</td>\n",
       "      <td>{'classifier__C': 10, 'classifier__kernel': 'l...</td>\n",
       "      <td>1.000000</td>\n",
       "      <td>0.913043</td>\n",
       "      <td>0.954545</td>\n",
       "      <td>0.909091</td>\n",
       "      <td>0.954545</td>\n",
       "      <td>0.946245</td>\n",
       "      <td>0.033197</td>\n",
       "      <td>16</td>\n",
       "    </tr>\n",
       "    <tr>\n",
       "      <th>1</th>\n",
       "      <td>0.001719</td>\n",
       "      <td>0.000737</td>\n",
       "      <td>0.000592</td>\n",
       "      <td>0.000387</td>\n",
       "      <td>10</td>\n",
       "      <td>linear</td>\n",
       "      <td>MinMaxScaler()</td>\n",
       "      <td>{'classifier__C': 10, 'classifier__kernel': 'l...</td>\n",
       "      <td>1.000000</td>\n",
       "      <td>0.956522</td>\n",
       "      <td>0.954545</td>\n",
       "      <td>0.909091</td>\n",
       "      <td>0.954545</td>\n",
       "      <td>0.954941</td>\n",
       "      <td>0.028759</td>\n",
       "      <td>15</td>\n",
       "    </tr>\n",
       "    <tr>\n",
       "      <th>2</th>\n",
       "      <td>0.001212</td>\n",
       "      <td>0.000493</td>\n",
       "      <td>0.000398</td>\n",
       "      <td>0.000488</td>\n",
       "      <td>10</td>\n",
       "      <td>linear</td>\n",
       "      <td>Normalizer()</td>\n",
       "      <td>{'classifier__C': 10, 'classifier__kernel': 'l...</td>\n",
       "      <td>1.000000</td>\n",
       "      <td>1.000000</td>\n",
       "      <td>0.954545</td>\n",
       "      <td>0.954545</td>\n",
       "      <td>0.954545</td>\n",
       "      <td>0.972727</td>\n",
       "      <td>0.022268</td>\n",
       "      <td>3</td>\n",
       "    </tr>\n",
       "    <tr>\n",
       "      <th>3</th>\n",
       "      <td>0.000999</td>\n",
       "      <td>0.000687</td>\n",
       "      <td>0.000739</td>\n",
       "      <td>0.000415</td>\n",
       "      <td>10</td>\n",
       "      <td>linear</td>\n",
       "      <td>MaxAbsScaler()</td>\n",
       "      <td>{'classifier__C': 10, 'classifier__kernel': 'l...</td>\n",
       "      <td>1.000000</td>\n",
       "      <td>0.956522</td>\n",
       "      <td>1.000000</td>\n",
       "      <td>0.954545</td>\n",
       "      <td>0.954545</td>\n",
       "      <td>0.973123</td>\n",
       "      <td>0.021957</td>\n",
       "      <td>2</td>\n",
       "    </tr>\n",
       "    <tr>\n",
       "      <th>4</th>\n",
       "      <td>0.001531</td>\n",
       "      <td>0.000688</td>\n",
       "      <td>0.000200</td>\n",
       "      <td>0.000400</td>\n",
       "      <td>10</td>\n",
       "      <td>rbf</td>\n",
       "      <td>StandardScaler()</td>\n",
       "      <td>{'classifier__C': 10, 'classifier__kernel': 'r...</td>\n",
       "      <td>0.956522</td>\n",
       "      <td>0.956522</td>\n",
       "      <td>1.000000</td>\n",
       "      <td>0.909091</td>\n",
       "      <td>0.954545</td>\n",
       "      <td>0.955336</td>\n",
       "      <td>0.028764</td>\n",
       "      <td>10</td>\n",
       "    </tr>\n",
       "  </tbody>\n",
       "</table>\n",
       "</div>"
      ],
      "text/plain": [
       "   mean_fit_time  std_fit_time  mean_score_time  std_score_time  \\\n",
       "0       0.001593      0.000800         0.000404        0.000495   \n",
       "1       0.001719      0.000737         0.000592        0.000387   \n",
       "2       0.001212      0.000493         0.000398        0.000488   \n",
       "3       0.000999      0.000687         0.000739        0.000415   \n",
       "4       0.001531      0.000688         0.000200        0.000400   \n",
       "\n",
       "  param_classifier__C param_classifier__kernel param_preprocessing  \\\n",
       "0                  10                   linear    StandardScaler()   \n",
       "1                  10                   linear      MinMaxScaler()   \n",
       "2                  10                   linear        Normalizer()   \n",
       "3                  10                   linear      MaxAbsScaler()   \n",
       "4                  10                      rbf    StandardScaler()   \n",
       "\n",
       "                                              params  split0_test_score  \\\n",
       "0  {'classifier__C': 10, 'classifier__kernel': 'l...           1.000000   \n",
       "1  {'classifier__C': 10, 'classifier__kernel': 'l...           1.000000   \n",
       "2  {'classifier__C': 10, 'classifier__kernel': 'l...           1.000000   \n",
       "3  {'classifier__C': 10, 'classifier__kernel': 'l...           1.000000   \n",
       "4  {'classifier__C': 10, 'classifier__kernel': 'r...           0.956522   \n",
       "\n",
       "   split1_test_score  split2_test_score  split3_test_score  split4_test_score  \\\n",
       "0           0.913043           0.954545           0.909091           0.954545   \n",
       "1           0.956522           0.954545           0.909091           0.954545   \n",
       "2           1.000000           0.954545           0.954545           0.954545   \n",
       "3           0.956522           1.000000           0.954545           0.954545   \n",
       "4           0.956522           1.000000           0.909091           0.954545   \n",
       "\n",
       "   mean_test_score  std_test_score  rank_test_score  \n",
       "0         0.946245        0.033197               16  \n",
       "1         0.954941        0.028759               15  \n",
       "2         0.972727        0.022268                3  \n",
       "3         0.973123        0.021957                2  \n",
       "4         0.955336        0.028764               10  "
      ]
     },
     "execution_count": 18,
     "metadata": {},
     "output_type": "execute_result"
    }
   ],
   "source": [
    "result_df.head()"
   ]
  },
  {
   "cell_type": "code",
   "execution_count": 19,
   "metadata": {},
   "outputs": [
    {
     "data": {
      "image/png": "[encoded data removed]",
      "text/plain": [
       "<Figure size 1200.25x360 with 3 Axes>"
      ]
     },
     "metadata": {
      "needs_background": "light"
     },
     "output_type": "display_data"
    }
   ],
   "source": [
    "sns.relplot(data=result_df,\n",
    "    kind='line',\n",
    "    x='param_classifier__C',\n",
    "    y='mean_test_score',\n",
    "    hue='param_preprocessing',\n",
    "    col='param_classifier__kernel')\n",
    "plt.show()"
   ]
  },
  {
   "cell_type": "code",
   "execution_count": 20,
   "metadata": {},
   "outputs": [
    {
     "data": {
      "image/png": "[encoded data removed]",
      "text/plain": [
       "<Figure size 1570.75x360 with 4 Axes>"
      ]
     },
     "metadata": {
      "needs_background": "light"
     },
     "output_type": "display_data"
    }
   ],
   "source": [
    "sns.relplot(data=result_df,\n",
    "    kind='line',\n",
    "    x='param_classifier__C',\n",
    "    y='mean_test_score',\n",
    "    hue='param_classifier__kernel',\n",
    "    col='param_preprocessing')\n",
    "plt.show()"
   ]
  },
  {
   "cell_type": "markdown",
   "metadata": {},
   "source": [
    "GridSearchCV automaticamente treina novamente o modelo em todo o conjunto de dados, a menos que você peça explicitamente para não fazer isso. Portanto, quando você treina o modelo GridSearchCV, o modelo usado para previsão (em outras palavras, o best_estimator_) já é treinado novamente em todo o conjunto de dado."
   ]
  },
  {
   "cell_type": "markdown",
   "metadata": {},
   "source": [
    "# vamos salvar o best_estimator"
   ]
  },
  {
   "cell_type": "code",
   "execution_count": 21,
   "metadata": {},
   "outputs": [],
   "source": [
    "model = grid.best_estimator_"
   ]
  },
  {
   "cell_type": "code",
   "execution_count": 22,
   "metadata": {},
   "outputs": [
    {
     "data": {
      "text/html": [
       "<style>#sk-c8510e82-0ced-4ead-9bae-292866f3d7fa {color: black;background-color: white;}#sk-c8510e82-0ced-4ead-9bae-292866f3d7fa pre{padding: 0;}#sk-c8510e82-0ced-4ead-9bae-292866f3d7fa div.sk-toggleable {background-color: white;}#sk-c8510e82-0ced-4ead-9bae-292866f3d7fa label.sk-toggleable__label {cursor: pointer;display: block;width: 100%;margin-bottom: 0;padding: 0.3em;box-sizing: border-box;text-align: center;}#sk-c8510e82-0ced-4ead-9bae-292866f3d7fa div.sk-toggleable__content {max-height: 0;max-width: 0;overflow: hidden;text-align: left;background-color: #f0f8ff;}#sk-c8510e82-0ced-4ead-9bae-292866f3d7fa div.sk-toggleable__content pre {margin: 0.2em;color: black;border-radius: 0.25em;background-color: #f0f8ff;}#sk-c8510e82-0ced-4ead-9bae-292866f3d7fa input.sk-toggleable__control:checked~div.sk-toggleable__content {max-height: 200px;max-width: 100%;overflow: auto;}#sk-c8510e82-0ced-4ead-9bae-292866f3d7fa div.sk-estimator input.sk-toggleable__control:checked~label.sk-toggleable__label {background-color: #d4ebff;}#sk-c8510e82-0ced-4ead-9bae-292866f3d7fa div.sk-label input.sk-toggleable__control:checked~label.sk-toggleable__label {background-color: #d4ebff;}#sk-c8510e82-0ced-4ead-9bae-292866f3d7fa input.sk-hidden--visually {border: 0;clip: rect(1px 1px 1px 1px);clip: rect(1px, 1px, 1px, 1px);height: 1px;margin: -1px;overflow: hidden;padding: 0;position: absolute;width: 1px;}#sk-c8510e82-0ced-4ead-9bae-292866f3d7fa div.sk-estimator {font-family: monospace;background-color: #f0f8ff;border: 1px dotted black;border-radius: 0.25em;box-sizing: border-box;margin-bottom: 0.5em;}#sk-c8510e82-0ced-4ead-9bae-292866f3d7fa div.sk-estimator:hover {background-color: #d4ebff;}#sk-c8510e82-0ced-4ead-9bae-292866f3d7fa div.sk-parallel-item::after {content: \"\";width: 100%;border-bottom: 1px solid gray;flex-grow: 1;}#sk-c8510e82-0ced-4ead-9bae-292866f3d7fa div.sk-label:hover label.sk-toggleable__label {background-color: #d4ebff;}#sk-c8510e82-0ced-4ead-9bae-292866f3d7fa div.sk-serial::before {content: \"\";position: absolute;border-left: 1px solid gray;box-sizing: border-box;top: 2em;bottom: 0;left: 50%;}#sk-c8510e82-0ced-4ead-9bae-292866f3d7fa div.sk-serial {display: flex;flex-direction: column;align-items: center;background-color: white;padding-right: 0.2em;padding-left: 0.2em;}#sk-c8510e82-0ced-4ead-9bae-292866f3d7fa div.sk-item {z-index: 1;}#sk-c8510e82-0ced-4ead-9bae-292866f3d7fa div.sk-parallel {display: flex;align-items: stretch;justify-content: center;background-color: white;}#sk-c8510e82-0ced-4ead-9bae-292866f3d7fa div.sk-parallel::before {content: \"\";position: absolute;border-left: 1px solid gray;box-sizing: border-box;top: 2em;bottom: 0;left: 50%;}#sk-c8510e82-0ced-4ead-9bae-292866f3d7fa div.sk-parallel-item {display: flex;flex-direction: column;position: relative;background-color: white;}#sk-c8510e82-0ced-4ead-9bae-292866f3d7fa div.sk-parallel-item:first-child::after {align-self: flex-end;width: 50%;}#sk-c8510e82-0ced-4ead-9bae-292866f3d7fa div.sk-parallel-item:last-child::after {align-self: flex-start;width: 50%;}#sk-c8510e82-0ced-4ead-9bae-292866f3d7fa div.sk-parallel-item:only-child::after {width: 0;}#sk-c8510e82-0ced-4ead-9bae-292866f3d7fa div.sk-dashed-wrapped {border: 1px dashed gray;margin: 0 0.4em 0.5em 0.4em;box-sizing: border-box;padding-bottom: 0.4em;background-color: white;position: relative;}#sk-c8510e82-0ced-4ead-9bae-292866f3d7fa div.sk-label label {font-family: monospace;font-weight: bold;background-color: white;display: inline-block;line-height: 1.2em;}#sk-c8510e82-0ced-4ead-9bae-292866f3d7fa div.sk-label-container {position: relative;z-index: 2;text-align: center;}#sk-c8510e82-0ced-4ead-9bae-292866f3d7fa div.sk-container {display: inline-block;position: relative;}</style><div id=\"sk-c8510e82-0ced-4ead-9bae-292866f3d7fa\" class\"sk-top-container\"><div class=\"sk-container\"><div class=\"sk-item sk-dashed-wrapped\"><div class=\"sk-label-container\"><div class=\"sk-label sk-toggleable\"><input class=\"sk-toggleable__control sk-hidden--visually\" id=\"d5737b51-be35-4cbe-9c8d-fd24fca68653\" type=\"checkbox\" ><label class=\"sk-toggleable__label\" for=\"d5737b51-be35-4cbe-9c8d-fd24fca68653\">Pipeline</label><div class=\"sk-toggleable__content\"><pre>Pipeline(steps=[('preprocessing', Normalizer()), ('classifier', SVC(C=1000))])</pre></div></div></div><div class=\"sk-serial\"><div class=\"sk-item\"><div class=\"sk-estimator sk-toggleable\"><input class=\"sk-toggleable__control sk-hidden--visually\" id=\"859dcfa4-bda1-4b77-a262-54a046326bb9\" type=\"checkbox\" ><label class=\"sk-toggleable__label\" for=\"859dcfa4-bda1-4b77-a262-54a046326bb9\">Normalizer</label><div class=\"sk-toggleable__content\"><pre>Normalizer()</pre></div></div></div><div class=\"sk-item\"><div class=\"sk-estimator sk-toggleable\"><input class=\"sk-toggleable__control sk-hidden--visually\" id=\"9eb557fc-036c-4aa1-a994-774d7b40790e\" type=\"checkbox\" ><label class=\"sk-toggleable__label\" for=\"9eb557fc-036c-4aa1-a994-774d7b40790e\">SVC</label><div class=\"sk-toggleable__content\"><pre>SVC(C=1000)</pre></div></div></div></div></div></div></div>"
      ],
      "text/plain": [
       "Pipeline(steps=[('preprocessing', Normalizer()), ('classifier', SVC(C=1000))])"
      ]
     },
     "execution_count": 22,
     "metadata": {},
     "output_type": "execute_result"
    }
   ],
   "source": [
    "model"
   ]
  },
  {
   "cell_type": "code",
   "execution_count": 23,
   "metadata": {},
   "outputs": [],
   "source": [
    "# save the model to disk\n",
    "\n",
    "pck.dump(model, open('SVM_model_iris.pck', 'wb'))"
   ]
  }
 ],
 "metadata": {
  "accelerator": "GPU",
  "colab": {
   "collapsed_sections": [],
   "name": "EPL_machine_learning_colab.ipynb",
   "provenance": []
  },
  "kernelspec": {
   "display_name": "Python 3 (ipykernel)",
   "language": "python",
   "name": "python3"
  },
  "language_info": {
   "codemirror_mode": {
    "name": "ipython",
    "version": 3
   },
   "file_extension": ".py",
   "mimetype": "text/x-python",
   "name": "python",
   "nbconvert_exporter": "python",
   "pygments_lexer": "ipython3",
   "version": "3.8.10"
  }
 },
 "nbformat": 4,
 "nbformat_minor": 4
}
