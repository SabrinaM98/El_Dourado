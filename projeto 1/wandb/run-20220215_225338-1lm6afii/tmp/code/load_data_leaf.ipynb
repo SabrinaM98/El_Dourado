{
 "cells": [
  {
   "cell_type": "markdown",
   "id": "70c7a8f0-548d-4312-b947-5a427f73a45b",
   "metadata": {},
   "source": [
    "# Reconhecimento de Folhas com Machine Learning\n",
    "\n",
    "An introduction to machine learning with scikit-learn\n",
    "https://scikit-learn.org/stable/\n",
    "https://scikit-learn.org/stable/tutorial/basic/tutorial.html\n",
    "\n",
    "Supervised learning\n",
    "https://scikit-learn.org/stable/supervised_learning.html#supervised-learning\n",
    "\n",
    "Unsupervised learning\n",
    "https://scikit-learn.org/stable/unsupervised_learning.html\n",
    "\n",
    "Neste notebook você concluirá seu primeiro projeto de Machine Learning usando Python. \n",
    "\n",
    "Um projeto de Machine Learning tem uma série de etapas bem conhecidas:\n",
    "\n",
    "- Defina o problema.\n",
    "- Prepare os dados.\n",
    "- Avalie algoritmos.\n",
    "- Melhore os resultados.\n",
    "- Resultados finais."
   ]
  },
  {
   "cell_type": "markdown",
   "id": "f0607257-9c58-4173-ad84-b8838e990cca",
   "metadata": {},
   "source": [
    "![image.png](attachment:14b85f78-7ab2-4425-9a9e-d3bb08480ce5.png)"
   ]
  },
  {
   "cell_type": "markdown",
   "id": "f70038cc-70be-4832-98b5-977e67382985",
   "metadata": {},
   "source": [
    "# Treinamento Supervisionado para Modelar\n",
    "\n",
    "![image.png](attachment:53109a22-6bcc-4eaf-bc75-3e4dcef808ad.png)"
   ]
  },
  {
   "cell_type": "markdown",
   "id": "7cc2bb1a-b9c0-4cfb-929f-d30a86680a99",
   "metadata": {},
   "source": [
    "* Import das bibliotecas"
   ]
  },
  {
   "cell_type": "code",
   "execution_count": 49,
   "id": "7c672d0f-a499-4d54-8199-1579ef0bd678",
   "metadata": {},
   "outputs": [
    {
     "name": "stderr",
     "output_type": "stream",
     "text": [
      "DEBUG:git.cmd:Popen(['git', 'version'], cwd=/mnt/c/Users/saras/Documents/eldorado, universal_newlines=False, shell=None, istream=None)\n",
      "DEBUG:git.cmd:Popen(['git', 'version'], cwd=/mnt/c/Users/saras/Documents/eldorado, universal_newlines=False, shell=None, istream=None)\n"
     ]
    }
   ],
   "source": [
    "import logging\n",
    "import pandas as pd\n",
    "import pandas_profiling\n",
    "import pickle as pkl\n",
    "import sys\n",
    "import wandb\n",
    "\n",
    "from sklearn.model_selection import train_test_split"
   ]
  },
  {
   "cell_type": "markdown",
   "id": "25b4fafc-c11d-4a21-8f88-c5968b8ee97f",
   "metadata": {
    "jupyter": {
     "outputs_hidden": true
    },
    "tags": []
   },
   "source": [
    "Instalação pandas\n",
    "```python\n",
    "!{sys.executable} -m pip install pandas-profiling\n",
    "\n",
    "!jupyter nbextension enable --py widgetsnbextension\n",
    "```"
   ]
  },
  {
   "cell_type": "markdown",
   "id": "c66339a8-7037-4c76-836c-c279b7b2935c",
   "metadata": {},
   "source": [
    "Setando o logger"
   ]
  },
  {
   "cell_type": "code",
   "execution_count": 2,
   "id": "aef47629-a677-4d4b-bb08-41e86518cae5",
   "metadata": {},
   "outputs": [],
   "source": [
    "logger = logging.getLogger()\n",
    "logger.setLevel(logging.DEBUG)"
   ]
  },
  {
   "cell_type": "code",
   "execution_count": 50,
   "id": "c75c4830-9502-4a7f-a4d9-2ddc0aaa8f8f",
   "metadata": {},
   "outputs": [
    {
     "name": "stderr",
     "output_type": "stream",
     "text": [
      "DEBUG:urllib3.connectionpool:Starting new HTTP connection (1): localhost:8888\n",
      "DEBUG:urllib3.connectionpool:http://localhost:8888 \"GET /api/sessions?token=dd056969936656b8be04d78dc2744c6a68a83827ee966f11 HTTP/1.1\" 200 1564\n",
      "DEBUG:urllib3.connectionpool:Starting new HTTPS connection (1): api.wandb.ai:443\n",
      "DEBUG:urllib3.connectionpool:https://api.wandb.ai:443 \"POST /graphql HTTP/1.1\" 200 None\n",
      "DEBUG:urllib3.connectionpool:Starting new HTTPS connection (1): api.wandb.ai:443\n",
      "DEBUG:urllib3.connectionpool:https://api.wandb.ai:443 \"POST /graphql HTTP/1.1\" 200 None\n",
      "wandb: Currently logged in as: saraselis (use `wandb login --relogin` to force relogin)\n"
     ]
    },
    {
     "data": {
      "text/html": [
       "\n",
       "                    Syncing run <strong><a href=\"https://wandb.ai/saraselis/eldorado_leaf/runs/1lm6afii\" target=\"_blank\">divine-darkness-1</a></strong> to <a href=\"https://wandb.ai/saraselis/eldorado_leaf\" target=\"_blank\">Weights & Biases</a> (<a href=\"https://docs.wandb.com/integrations/jupyter.html\" target=\"_blank\">docs</a>).<br/>\n",
       "\n",
       "                "
      ],
      "text/plain": [
       "<IPython.core.display.HTML object>"
      ]
     },
     "metadata": {},
     "output_type": "display_data"
    },
    {
     "name": "stderr",
     "output_type": "stream",
     "text": [
      "DEBUG:urllib3.connectionpool:Starting new HTTPS connection (1): api.wandb.ai:443\n",
      "DEBUG:urllib3.connectionpool:https://api.wandb.ai:443 \"POST /graphql HTTP/1.1\" 200 None\n"
     ]
    }
   ],
   "source": [
    "run = wandb.init(project=\"eldorado_leaf\", group=\"eda\", save_code=True)"
   ]
  },
  {
   "cell_type": "code",
   "execution_count": null,
   "id": "56fc573b-33b8-4b57-b557-8df24add75e7",
   "metadata": {},
   "outputs": [],
   "source": []
  },
  {
   "cell_type": "markdown",
   "id": "cac1c28a-cfca-41e1-90a2-e51e8e5fe7fe",
   "metadata": {
    "tags": []
   },
   "source": [
    "# Carregar o conjunto de dados\n",
    "Podemos carregar diretamente do aquivo .csv."
   ]
  },
  {
   "cell_type": "markdown",
   "id": "7e5a5f77-8ee5-495e-b1a2-3adbfbdb02b5",
   "metadata": {},
   "source": [
    "Tudo deve carregar sem erros. Se você tiver um erro, pare. Instale as libs que ainda não estão instaladas, usando pip install <lib_name>"
   ]
  },
  {
   "cell_type": "markdown",
   "id": "33f3db56-9a87-441c-98b1-9b0928bd191f",
   "metadata": {},
   "source": [
    "## Leaf Dataset\n",
    "\n",
    "The provided data comprises the following shape (attributes 3 to 9) and texture (attributes 10\n",
    "to 16) features:\n",
    "\n",
    "1. Class (Species)\n",
    "2. Specimen Number\n",
    "3. Eccentricity\n",
    "4. Aspect Ratio\n",
    "5. Elongation\n",
    "6. Solidity\n",
    "7. Stochastic Convexity\n",
    "8. Isoperimetric Factor\n",
    "9. Maximal Indentation Depth\n",
    "10. Lobedness\n",
    "11. Average Intensity\n",
    "12. Average Contrast\n",
    "13. Smoothness\n",
    "14. Third moment\n",
    "15. Uniformity\n",
    "16. Entropy"
   ]
  },
  {
   "cell_type": "markdown",
   "id": "91f71daa-5cd2-4a63-adf1-4885178d9f03",
   "metadata": {},
   "source": [
    "Como o dataset vem sem as colunas, vamos setar as colunas"
   ]
  },
  {
   "cell_type": "code",
   "execution_count": 3,
   "id": "e8790b87-f9e1-4e99-a923-8b52f19291e8",
   "metadata": {},
   "outputs": [],
   "source": [
    "names = ['Class', 'Specimen Number', 'Eccentricity', 'Aspect Ratio', 'Elongation', 'Solidity', 'Stochastic Convexity', 'Isoperimetric Factor',\n",
    "         'Maximal Indentation Depth', 'Lobedness', 'Average Intensity', 'Average Contrast', 'Smoothness', 'Third moment',\n",
    "         'Uniformity', 'Entropy']"
   ]
  },
  {
   "cell_type": "markdown",
   "id": "9ce3b936-2c2e-4bcb-a152-8243fb32190d",
   "metadata": {},
   "source": [
    "Leitura do dataset"
   ]
  },
  {
   "cell_type": "code",
   "execution_count": 4,
   "id": "026b8883-952a-4eae-8a83-9358f1e2da24",
   "metadata": {},
   "outputs": [],
   "source": [
    "data_leaf = pd.read_csv('leaf.csv', names=names)"
   ]
  },
  {
   "cell_type": "markdown",
   "id": "16507fbd-d54f-4e04-8dc9-010a73bdf1f8",
   "metadata": {},
   "source": [
    "Dataset"
   ]
  },
  {
   "cell_type": "code",
   "execution_count": 5,
   "id": "98fa160f-9350-4162-9a2d-a9cda25ae46c",
   "metadata": {},
   "outputs": [
    {
     "data": {
      "text/html": [
       "<div>\n",
       "<style scoped>\n",
       "    .dataframe tbody tr th:only-of-type {\n",
       "        vertical-align: middle;\n",
       "    }\n",
       "\n",
       "    .dataframe tbody tr th {\n",
       "        vertical-align: top;\n",
       "    }\n",
       "\n",
       "    .dataframe thead th {\n",
       "        text-align: right;\n",
       "    }\n",
       "</style>\n",
       "<table border=\"1\" class=\"dataframe\">\n",
       "  <thead>\n",
       "    <tr style=\"text-align: right;\">\n",
       "      <th></th>\n",
       "      <th>Class</th>\n",
       "      <th>Specimen Number</th>\n",
       "      <th>Eccentricity</th>\n",
       "      <th>Aspect Ratio</th>\n",
       "      <th>Elongation</th>\n",
       "      <th>Solidity</th>\n",
       "      <th>Stochastic Convexity</th>\n",
       "      <th>Isoperimetric Factor</th>\n",
       "      <th>Maximal Indentation Depth</th>\n",
       "      <th>Lobedness</th>\n",
       "      <th>Average Intensity</th>\n",
       "      <th>Average Contrast</th>\n",
       "      <th>Smoothness</th>\n",
       "      <th>Third moment</th>\n",
       "      <th>Uniformity</th>\n",
       "      <th>Entropy</th>\n",
       "    </tr>\n",
       "  </thead>\n",
       "  <tbody>\n",
       "    <tr>\n",
       "      <th>218</th>\n",
       "      <td>26</td>\n",
       "      <td>3</td>\n",
       "      <td>0.55626</td>\n",
       "      <td>1.2516</td>\n",
       "      <td>0.23975</td>\n",
       "      <td>0.9802</td>\n",
       "      <td>1.0</td>\n",
       "      <td>0.81411</td>\n",
       "      <td>0.007309</td>\n",
       "      <td>0.009722</td>\n",
       "      <td>0.056955</td>\n",
       "      <td>0.17933</td>\n",
       "      <td>0.031157</td>\n",
       "      <td>0.017403</td>\n",
       "      <td>0.000085</td>\n",
       "      <td>0.98858</td>\n",
       "    </tr>\n",
       "  </tbody>\n",
       "</table>\n",
       "</div>"
      ],
      "text/plain": [
       "     Class  Specimen Number  Eccentricity  Aspect Ratio  Elongation  Solidity  \\\n",
       "218     26                3       0.55626        1.2516     0.23975    0.9802   \n",
       "\n",
       "     Stochastic Convexity  Isoperimetric Factor  Maximal Indentation Depth  \\\n",
       "218                   1.0               0.81411                   0.007309   \n",
       "\n",
       "     Lobedness  Average Intensity  Average Contrast  Smoothness  Third moment  \\\n",
       "218   0.009722           0.056955           0.17933    0.031157      0.017403   \n",
       "\n",
       "     Uniformity  Entropy  \n",
       "218    0.000085  0.98858  "
      ]
     },
     "execution_count": 5,
     "metadata": {},
     "output_type": "execute_result"
    }
   ],
   "source": [
    "data_leaf.sample()"
   ]
  },
  {
   "cell_type": "code",
   "execution_count": 55,
   "id": "42c74844-9f25-4acc-b318-fe1b79aced1b",
   "metadata": {},
   "outputs": [
    {
     "name": "stdout",
     "output_type": "stream",
     "text": [
      "\u001b[34m\u001b[1mwandb\u001b[0m: Currently logged in as: \u001b[33msaraselis\u001b[0m (use `wandb login --relogin` to force relogin)\n"
     ]
    },
    {
     "name": "stderr",
     "output_type": "stream",
     "text": [
      "DEBUG:urllib3.connectionpool:Starting new HTTPS connection (1): api.wandb.ai:443\n",
      "DEBUG:urllib3.connectionpool:https://api.wandb.ai:443 \"POST /graphql HTTP/1.1\" 200 None\n"
     ]
    }
   ],
   "source": [
    "!wandb login"
   ]
  },
  {
   "cell_type": "code",
   "execution_count": 54,
   "id": "158ed6ef-e7db-449e-8e96-38c34e4ab86c",
   "metadata": {},
   "outputs": [
    {
     "name": "stderr",
     "output_type": "stream",
     "text": [
      "DEBUG:urllib3.connectionpool:Starting new HTTPS connection (1): api.wandb.ai:443\n",
      "DEBUG:urllib3.connectionpool:https://api.wandb.ai:443 \"POST /graphql HTTP/1.1\" 200 None\n"
     ]
    }
   ],
   "source": [
    "artifact = wandb.Artifact(\n",
    "        'data_leaf_processado',\n",
    "        type='csv',\n",
    "        description='Dataset após o processamento das colunas')\n",
    "\n",
    "#artifact.add_file('leaf.csv')"
   ]
  },
  {
   "cell_type": "code",
   "execution_count": 6,
   "id": "1876d543-4aa4-41fe-8820-67ae8f91f0f8",
   "metadata": {},
   "outputs": [
    {
     "name": "stdout",
     "output_type": "stream",
     "text": [
      "<class 'pandas.core.frame.DataFrame'>\n",
      "RangeIndex: 340 entries, 0 to 339\n",
      "Data columns (total 16 columns):\n",
      " #   Column                     Non-Null Count  Dtype  \n",
      "---  ------                     --------------  -----  \n",
      " 0   Class                      340 non-null    int64  \n",
      " 1   Specimen Number            340 non-null    int64  \n",
      " 2   Eccentricity               340 non-null    float64\n",
      " 3   Aspect Ratio               340 non-null    float64\n",
      " 4   Elongation                 340 non-null    float64\n",
      " 5   Solidity                   340 non-null    float64\n",
      " 6   Stochastic Convexity       340 non-null    float64\n",
      " 7   Isoperimetric Factor       340 non-null    float64\n",
      " 8   Maximal Indentation Depth  340 non-null    float64\n",
      " 9   Lobedness                  340 non-null    float64\n",
      " 10  Average Intensity          340 non-null    float64\n",
      " 11  Average Contrast           340 non-null    float64\n",
      " 12  Smoothness                 340 non-null    float64\n",
      " 13  Third moment               340 non-null    float64\n",
      " 14  Uniformity                 340 non-null    float64\n",
      " 15  Entropy                    340 non-null    float64\n",
      "dtypes: float64(14), int64(2)\n",
      "memory usage: 42.6 KB\n"
     ]
    }
   ],
   "source": [
    "data_leaf.info()"
   ]
  },
  {
   "cell_type": "markdown",
   "id": "0341c3e1-1906-4adc-936a-d4e9c9b83c22",
   "metadata": {},
   "source": [
    "Relatório do pandas sobre o dataset"
   ]
  },
  {
   "cell_type": "code",
   "execution_count": 24,
   "id": "5dda3e49-88d5-4b00-bdf2-0290e1600d45",
   "metadata": {},
   "outputs": [
    {
     "data": {
      "application/vnd.jupyter.widget-view+json": {
       "model_id": "a9de71abf40d4d89a55030cffd330b31",
       "version_major": 2,
       "version_minor": 0
      },
      "text/plain": [
       "Summarize dataset:   0%|          | 0/5 [00:00<?, ?it/s]"
      ]
     },
     "metadata": {},
     "output_type": "display_data"
    },
    {
     "data": {
      "application/vnd.jupyter.widget-view+json": {
       "model_id": "5b4a35c6747a465fadb2e80f79f27e65",
       "version_major": 2,
       "version_minor": 0
      },
      "text/plain": [
       "Generate report structure:   0%|          | 0/1 [00:00<?, ?it/s]"
      ]
     },
     "metadata": {},
     "output_type": "display_data"
    },
    {
     "data": {
      "application/vnd.jupyter.widget-view+json": {
       "model_id": "",
       "version_major": 2,
       "version_minor": 0
      },
      "text/plain": [
       "Render widgets:   0%|          | 0/1 [00:00<?, ?it/s]"
      ]
     },
     "metadata": {},
     "output_type": "display_data"
    },
    {
     "data": {
      "application/vnd.jupyter.widget-view+json": {
       "model_id": "c093167090194f5eaa3bff087ce0f69f",
       "version_major": 2,
       "version_minor": 0
      },
      "text/plain": [
       "VBox(children=(Tab(children=(Tab(children=(GridBox(children=(VBox(children=(GridspecLayout(children=(HTML(valu…"
      ]
     },
     "metadata": {},
     "output_type": "display_data"
    }
   ],
   "source": [
    "profile = pandas_profiling.ProfileReport(data_leaf)\n",
    "profile.to_widgets()"
   ]
  },
  {
   "cell_type": "code",
   "execution_count": 28,
   "id": "4898e990-1d68-4f3a-9543-988b67fcf80a",
   "metadata": {},
   "outputs": [
    {
     "name": "stderr",
     "output_type": "stream",
     "text": [
      "INFO:root:Dataset features names: (340, 16)\n"
     ]
    }
   ],
   "source": [
    "# Data shape\n",
    "logging.info(f'Dataset features names: {data_leaf.shape}')"
   ]
  },
  {
   "cell_type": "markdown",
   "id": "8a305066-f02e-457a-8a17-16dec511be23",
   "metadata": {},
   "source": [
    "## Classes"
   ]
  },
  {
   "cell_type": "code",
   "execution_count": 29,
   "id": "f65bc326-ea7b-4004-a6c9-63f15a1ccf06",
   "metadata": {},
   "outputs": [],
   "source": [
    "# Classes (Labels)\n",
    "y = data_leaf['Class']\n",
    "\n",
    "# Classe distribuição\n"
   ]
  },
  {
   "cell_type": "code",
   "execution_count": 30,
   "id": "35edc750-519d-4832-8c69-689016e5152d",
   "metadata": {},
   "outputs": [
    {
     "data": {
      "text/plain": [
       "0       1\n",
       "1       1\n",
       "2       1\n",
       "3       1\n",
       "4       1\n",
       "       ..\n",
       "335    36\n",
       "336    36\n",
       "337    36\n",
       "338    36\n",
       "339    36\n",
       "Name: Class, Length: 340, dtype: int64"
      ]
     },
     "execution_count": 30,
     "metadata": {},
     "output_type": "execute_result"
    }
   ],
   "source": [
    "y"
   ]
  },
  {
   "cell_type": "code",
   "execution_count": 34,
   "id": "f039e527-4085-4b7d-8eae-4a79247d81df",
   "metadata": {},
   "outputs": [
    {
     "name": "stderr",
     "output_type": "stream",
     "text": [
      "INFO:root:(340,)\n",
      "INFO:root:<class 'pandas.core.series.Series'>\n"
     ]
    }
   ],
   "source": [
    "# Classe shape\n",
    "logging.info(y.shape)\n",
    "\n",
    "# Classe types\n",
    "logging.info(type(y))"
   ]
  },
  {
   "cell_type": "code",
   "execution_count": null,
   "id": "66d2d570-2c0a-47fc-90c1-e356fc5c3d6a",
   "metadata": {},
   "outputs": [],
   "source": [
    "print(y)"
   ]
  },
  {
   "cell_type": "markdown",
   "id": "84e27058-7c6c-4fe5-a072-d0c94d8b38e7",
   "metadata": {},
   "source": [
    "## Entradas"
   ]
  },
  {
   "cell_type": "code",
   "execution_count": 36,
   "id": "257e60a7-5899-46c5-9355-06b1ab7e7b4a",
   "metadata": {},
   "outputs": [
    {
     "data": {
      "text/html": [
       "<div>\n",
       "<style scoped>\n",
       "    .dataframe tbody tr th:only-of-type {\n",
       "        vertical-align: middle;\n",
       "    }\n",
       "\n",
       "    .dataframe tbody tr th {\n",
       "        vertical-align: top;\n",
       "    }\n",
       "\n",
       "    .dataframe thead th {\n",
       "        text-align: right;\n",
       "    }\n",
       "</style>\n",
       "<table border=\"1\" class=\"dataframe\">\n",
       "  <thead>\n",
       "    <tr style=\"text-align: right;\">\n",
       "      <th></th>\n",
       "      <th>Specimen Number</th>\n",
       "      <th>Eccentricity</th>\n",
       "      <th>Aspect Ratio</th>\n",
       "      <th>Elongation</th>\n",
       "      <th>Solidity</th>\n",
       "      <th>Stochastic Convexity</th>\n",
       "      <th>Isoperimetric Factor</th>\n",
       "      <th>Maximal Indentation Depth</th>\n",
       "      <th>Lobedness</th>\n",
       "      <th>Average Intensity</th>\n",
       "      <th>Average Contrast</th>\n",
       "      <th>Smoothness</th>\n",
       "      <th>Third moment</th>\n",
       "      <th>Uniformity</th>\n",
       "      <th>Entropy</th>\n",
       "    </tr>\n",
       "  </thead>\n",
       "  <tbody>\n",
       "    <tr>\n",
       "      <th>0</th>\n",
       "      <td>1</td>\n",
       "      <td>0.72694</td>\n",
       "      <td>1.4742</td>\n",
       "      <td>0.32396</td>\n",
       "      <td>0.98535</td>\n",
       "      <td>1.00000</td>\n",
       "      <td>0.83592</td>\n",
       "      <td>0.004657</td>\n",
       "      <td>0.003947</td>\n",
       "      <td>0.047790</td>\n",
       "      <td>0.127950</td>\n",
       "      <td>0.016108</td>\n",
       "      <td>0.005232</td>\n",
       "      <td>0.000275</td>\n",
       "      <td>1.17560</td>\n",
       "    </tr>\n",
       "    <tr>\n",
       "      <th>1</th>\n",
       "      <td>2</td>\n",
       "      <td>0.74173</td>\n",
       "      <td>1.5257</td>\n",
       "      <td>0.36116</td>\n",
       "      <td>0.98152</td>\n",
       "      <td>0.99825</td>\n",
       "      <td>0.79867</td>\n",
       "      <td>0.005242</td>\n",
       "      <td>0.005002</td>\n",
       "      <td>0.024160</td>\n",
       "      <td>0.090476</td>\n",
       "      <td>0.008119</td>\n",
       "      <td>0.002708</td>\n",
       "      <td>0.000075</td>\n",
       "      <td>0.69659</td>\n",
       "    </tr>\n",
       "    <tr>\n",
       "      <th>2</th>\n",
       "      <td>3</td>\n",
       "      <td>0.76722</td>\n",
       "      <td>1.5725</td>\n",
       "      <td>0.38998</td>\n",
       "      <td>0.97755</td>\n",
       "      <td>1.00000</td>\n",
       "      <td>0.80812</td>\n",
       "      <td>0.007457</td>\n",
       "      <td>0.010121</td>\n",
       "      <td>0.011897</td>\n",
       "      <td>0.057445</td>\n",
       "      <td>0.003289</td>\n",
       "      <td>0.000921</td>\n",
       "      <td>0.000038</td>\n",
       "      <td>0.44348</td>\n",
       "    </tr>\n",
       "    <tr>\n",
       "      <th>3</th>\n",
       "      <td>4</td>\n",
       "      <td>0.73797</td>\n",
       "      <td>1.4597</td>\n",
       "      <td>0.35376</td>\n",
       "      <td>0.97566</td>\n",
       "      <td>1.00000</td>\n",
       "      <td>0.81697</td>\n",
       "      <td>0.006877</td>\n",
       "      <td>0.008607</td>\n",
       "      <td>0.015950</td>\n",
       "      <td>0.065491</td>\n",
       "      <td>0.004271</td>\n",
       "      <td>0.001154</td>\n",
       "      <td>0.000066</td>\n",
       "      <td>0.58785</td>\n",
       "    </tr>\n",
       "    <tr>\n",
       "      <th>4</th>\n",
       "      <td>5</td>\n",
       "      <td>0.82301</td>\n",
       "      <td>1.7707</td>\n",
       "      <td>0.44462</td>\n",
       "      <td>0.97698</td>\n",
       "      <td>1.00000</td>\n",
       "      <td>0.75493</td>\n",
       "      <td>0.007428</td>\n",
       "      <td>0.010042</td>\n",
       "      <td>0.007938</td>\n",
       "      <td>0.045339</td>\n",
       "      <td>0.002051</td>\n",
       "      <td>0.000560</td>\n",
       "      <td>0.000024</td>\n",
       "      <td>0.34214</td>\n",
       "    </tr>\n",
       "  </tbody>\n",
       "</table>\n",
       "</div>"
      ],
      "text/plain": [
       "   Specimen Number  Eccentricity  Aspect Ratio  Elongation  Solidity  \\\n",
       "0                1       0.72694        1.4742     0.32396   0.98535   \n",
       "1                2       0.74173        1.5257     0.36116   0.98152   \n",
       "2                3       0.76722        1.5725     0.38998   0.97755   \n",
       "3                4       0.73797        1.4597     0.35376   0.97566   \n",
       "4                5       0.82301        1.7707     0.44462   0.97698   \n",
       "\n",
       "   Stochastic Convexity  Isoperimetric Factor  Maximal Indentation Depth  \\\n",
       "0               1.00000               0.83592                   0.004657   \n",
       "1               0.99825               0.79867                   0.005242   \n",
       "2               1.00000               0.80812                   0.007457   \n",
       "3               1.00000               0.81697                   0.006877   \n",
       "4               1.00000               0.75493                   0.007428   \n",
       "\n",
       "   Lobedness  Average Intensity  Average Contrast  Smoothness  Third moment  \\\n",
       "0   0.003947           0.047790          0.127950    0.016108      0.005232   \n",
       "1   0.005002           0.024160          0.090476    0.008119      0.002708   \n",
       "2   0.010121           0.011897          0.057445    0.003289      0.000921   \n",
       "3   0.008607           0.015950          0.065491    0.004271      0.001154   \n",
       "4   0.010042           0.007938          0.045339    0.002051      0.000560   \n",
       "\n",
       "   Uniformity  Entropy  \n",
       "0    0.000275  1.17560  \n",
       "1    0.000075  0.69659  \n",
       "2    0.000038  0.44348  \n",
       "3    0.000066  0.58785  \n",
       "4    0.000024  0.34214  "
      ]
     },
     "execution_count": 36,
     "metadata": {},
     "output_type": "execute_result"
    }
   ],
   "source": [
    "# Entrada (input)\n",
    "X = data_leaf.drop('Class', axis=1)\n",
    "X.head()"
   ]
  },
  {
   "cell_type": "code",
   "execution_count": 37,
   "id": "3f5ae7e7-c2d4-4380-ae17-2876280e6252",
   "metadata": {},
   "outputs": [
    {
     "name": "stderr",
     "output_type": "stream",
     "text": [
      "INFO:root:(340, 15)\n",
      "INFO:root:<class 'pandas.core.frame.DataFrame'>\n"
     ]
    }
   ],
   "source": [
    "# Entrada shape\n",
    "logging.info(X.shape)\n",
    "\n",
    "# Entrada types\n",
    "logging.info(type(X))"
   ]
  },
  {
   "cell_type": "markdown",
   "id": "d29d645a-a75f-4768-ade2-3e36ab8e191b",
   "metadata": {},
   "source": [
    "## Separa os dados de treinamento e teste"
   ]
  },
  {
   "cell_type": "code",
   "execution_count": 41,
   "id": "83052aa1-f214-4bf6-a7d1-5d010a3fd544",
   "metadata": {},
   "outputs": [],
   "source": [
    "# train_test_split separa os exemplos em train e test e embaralha! \n",
    "\n",
    "X_train, X_test, y_train, y_test = train_test_split(X, y, test_size=None, random_state=0)"
   ]
  },
  {
   "cell_type": "code",
   "execution_count": 43,
   "id": "8dadcc5d-cf68-4afa-8859-fc833393a626",
   "metadata": {},
   "outputs": [
    {
     "name": "stderr",
     "output_type": "stream",
     "text": [
      "INFO:root:(255, 15)\n",
      "INFO:root:(255,)\n",
      "INFO:root:(85, 15)\n",
      "INFO:root:(85,)\n"
     ]
    }
   ],
   "source": [
    "logging.info(X_train.shape)\n",
    "logging.info(y_train.shape)\n",
    "logging.info(X_test.shape)\n",
    "logging.info(y_test.shape)"
   ]
  },
  {
   "cell_type": "code",
   "execution_count": 46,
   "id": "02d29b42-9803-4d10-a57a-f45b9c33bc5d",
   "metadata": {},
   "outputs": [],
   "source": [
    "pkl.dump(X_train, open('model/Xy/X_train.pkl', 'wb'))\n",
    "pkl.dump(y_train, open('model/Xy/y_train.pkl', 'wb'))\n",
    "\n",
    "pkl.dump(X_test, open('model/Xy/X_test.pkl', 'wb'))\n",
    "pkl.dump(y_test, open('model/Xy/y_test.pkl', 'wb'))"
   ]
  },
  {
   "cell_type": "markdown",
   "id": "af518d57-cb81-4f34-a441-2062b811a4ca",
   "metadata": {},
   "source": [
    "## Treinar o modelo de Machine Learning"
   ]
  },
  {
   "cell_type": "code",
   "execution_count": null,
   "id": "608254f9-04a3-4f0f-bcd7-1174f062685b",
   "metadata": {},
   "outputs": [],
   "source": [
    "# Load Libs\n",
    "\n",
    "import sklearn\n",
    "from sklearn.svm import SVC\n",
    "from sklearn.preprocessing import StandardScaler\n",
    "from sklearn.pipeline import Pipeline\n",
    "from sklearn import set_config"
   ]
  },
  {
   "cell_type": "code",
   "execution_count": null,
   "id": "b36dd480-5b7e-4b7a-9132-242f3d3c88ca",
   "metadata": {},
   "outputs": [],
   "source": [
    "\n",
    "\n",
    "pipe = Pipeline(steps)\n",
    "\n",
    "# O pipeline pode ser usado com qualquer outro classificador\n",
    "# evita o vazamento do conjunto de teste no conjunto de treinamento\n",
    "\n",
    "model_deploy = pipe.fit(X_train, y_train)"
   ]
  },
  {
   "cell_type": "code",
   "execution_count": null,
   "id": "fbf1dd69-b55e-40a8-b655-090146e80493",
   "metadata": {},
   "outputs": [],
   "source": [
    "print('Training set score: ' + str(model_deploy.score(X_train,y_train)))\n",
    "print('Test set score: ' + str(model_deploy.score(X_test,y_test)))"
   ]
  },
  {
   "cell_type": "code",
   "execution_count": null,
   "id": "9dea2545-9539-4cca-8ccf-0d6d1748dfb5",
   "metadata": {},
   "outputs": [],
   "source": [
    "set_config(display='diagram')\n",
    "model_deploy  # clique no diagrama abaixo para ver os detalhes de cada etapa"
   ]
  },
  {
   "cell_type": "markdown",
   "id": "75bcffea-9f1d-46f2-9f35-49e5d68f3491",
   "metadata": {},
   "source": [
    "## Salvar o modelo de Machine Learning para disponibilizar na Cloud IBM"
   ]
  },
  {
   "cell_type": "code",
   "execution_count": null,
   "id": "a0987001-3306-4e6c-b8a5-fd77823ee912",
   "metadata": {},
   "outputs": [],
   "source": [
    "# save the model to disk\n",
    "pkl.dump(model_deploy, open('model_leaf_deploy.pkl', 'wb'))"
   ]
  },
  {
   "cell_type": "markdown",
   "id": "0964f377-4700-4ab1-902e-650f42b32a3a",
   "metadata": {},
   "source": [
    "# Para melhorar as métricas de classificação do seu primeiro modelo, consulte o material da aula 05"
   ]
  }
 ],
 "metadata": {
  "kernelspec": {
   "display_name": "Python 3 (ipykernel)",
   "language": "python",
   "name": "python3"
  },
  "language_info": {
   "codemirror_mode": {
    "name": "ipython",
    "version": 3
   },
   "file_extension": ".py",
   "mimetype": "text/x-python",
   "name": "python",
   "nbconvert_exporter": "python",
   "pygments_lexer": "ipython3",
   "version": "3.8.10"
  }
 },
 "nbformat": 4,
 "nbformat_minor": 5
}
