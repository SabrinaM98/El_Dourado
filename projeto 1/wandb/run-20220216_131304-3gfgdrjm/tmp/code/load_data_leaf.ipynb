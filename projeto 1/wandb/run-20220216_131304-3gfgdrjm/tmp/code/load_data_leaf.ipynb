{
 "cells": [
  {
   "cell_type": "markdown",
   "id": "70c7a8f0-548d-4312-b947-5a427f73a45b",
   "metadata": {},
   "source": [
    "# Reconhecimento de Folhas com Machine Learning\n",
    "\n",
    "An introduction to machine learning with scikit-learn\n",
    "https://scikit-learn.org/stable/\n",
    "https://scikit-learn.org/stable/tutorial/basic/tutorial.html\n",
    "\n",
    "Supervised learning\n",
    "https://scikit-learn.org/stable/supervised_learning.html#supervised-learning\n",
    "\n",
    "Unsupervised learning\n",
    "https://scikit-learn.org/stable/unsupervised_learning.html\n",
    "\n",
    "Neste notebook você concluirá seu primeiro projeto de Machine Learning usando Python. \n",
    "\n",
    "Um projeto de Machine Learning tem uma série de etapas bem conhecidas:\n",
    "\n",
    "- Defina o problema.\n",
    "- Prepare os dados.\n",
    "- Avalie algoritmos.\n",
    "- Melhore os resultados.\n",
    "- Resultados finais."
   ]
  },
  {
   "cell_type": "markdown",
   "id": "f0607257-9c58-4173-ad84-b8838e990cca",
   "metadata": {},
   "source": [
    "![image.png](attachment:14b85f78-7ab2-4425-9a9e-d3bb08480ce5.png)"
   ]
  },
  {
   "cell_type": "markdown",
   "id": "f70038cc-70be-4832-98b5-977e67382985",
   "metadata": {},
   "source": [
    "# Treinamento Supervisionado para Modelar\n",
    "\n",
    "![image.png](attachment:53109a22-6bcc-4eaf-bc75-3e4dcef808ad.png)"
   ]
  },
  {
   "cell_type": "markdown",
   "id": "7cc2bb1a-b9c0-4cfb-929f-d30a86680a99",
   "metadata": {},
   "source": [
    "* Import das bibliotecas"
   ]
  },
  {
   "cell_type": "code",
   "execution_count": 78,
   "id": "7c672d0f-a499-4d54-8199-1579ef0bd678",
   "metadata": {},
   "outputs": [],
   "source": [
    "import logging\n",
    "import matplotlib.pyplot as plt\n",
    "import numpy as np\n",
    "import pandas as pd\n",
    "import pandas_profiling\n",
    "import pickle as pkl\n",
    "import seaborn as sns \n",
    "import sys\n",
    "import wandb\n",
    "\n",
    "from sklearn import set_config\n",
    "from sklearn.metrics import accuracy_score, classification_report\n",
    "from sklearn.model_selection import RandomizedSearchCV, train_test_split\n",
    "from sklearn.pipeline import Pipeline\n",
    "from sklearn.preprocessing import MaxAbsScaler, MinMaxScaler, Normalizer, StandardScaler\n",
    "from sklearn.svm import SVC"
   ]
  },
  {
   "cell_type": "markdown",
   "id": "25b4fafc-c11d-4a21-8f88-c5968b8ee97f",
   "metadata": {
    "jupyter": {
     "outputs_hidden": true
    },
    "tags": []
   },
   "source": [
    "Instalação pandas-profiling\n",
    "```python\n",
    "!{sys.executable} -m pip install pandas-profiling\n",
    "\n",
    "!jupyter nbextension enable --py widgetsnbextension\n",
    "```\n",
    "\n",
    "Login no Wandb\n",
    "```python\n",
    "!wandb login\n",
    "```"
   ]
  },
  {
   "cell_type": "markdown",
   "id": "c66339a8-7037-4c76-836c-c279b7b2935c",
   "metadata": {},
   "source": [
    "Setando o logger"
   ]
  },
  {
   "cell_type": "code",
   "execution_count": 2,
   "id": "aef47629-a677-4d4b-bb08-41e86518cae5",
   "metadata": {},
   "outputs": [],
   "source": [
    "# logger = logging.getLogger()\n",
    "logging.basicConfig(format='%(levelname)s : %(message)s', level=logging.INFO)\n",
    "logging.root.level = 20"
   ]
  },
  {
   "cell_type": "code",
   "execution_count": 3,
   "id": "0ba03368-c9ad-4f60-90c0-8712a876c292",
   "metadata": {},
   "outputs": [],
   "source": [
    "RED = \"\\033[1;31m\"\n",
    "BLUE = \"\\033[1;34m\"\n",
    "GREEN = \"\\033[1;32m\"\n",
    "PINK = \"\\033[1;45m\"\n",
    "HEADER = '\\033[95m'\n",
    "OKBLUE = '\\033[94m'\n",
    "OKCYAN = '\\033[96m'\n",
    "OKGREEN = '\\033[92m'\n",
    "WARNING = '\\033[93m'\n",
    "FAIL = '\\033[91m'\n",
    "ENDC = '\\033[0m'\n",
    "BOLD = '\\033[1m'\n",
    "UNDERLINE = '\\033[4m'\n",
    "MAG = \"\\033[1;45m\""
   ]
  },
  {
   "cell_type": "markdown",
   "id": "1328f847-4018-4703-a780-fae5d156a59a",
   "metadata": {},
   "source": [
    "Instanciando o wandb"
   ]
  },
  {
   "cell_type": "code",
   "execution_count": 4,
   "id": "c75c4830-9502-4a7f-a4d9-2ddc0aaa8f8f",
   "metadata": {},
   "outputs": [
    {
     "name": "stderr",
     "output_type": "stream",
     "text": [
      "wandb: Currently logged in as: saraselis (use `wandb login --relogin` to force relogin)\n"
     ]
    },
    {
     "data": {
      "text/html": [
       "\n",
       "                    Syncing run <strong><a href=\"https://wandb.ai/saraselis/eldorado_leaf/runs/3gfgdrjm\" target=\"_blank\">dauntless-river-4</a></strong> to <a href=\"https://wandb.ai/saraselis/eldorado_leaf\" target=\"_blank\">Weights & Biases</a> (<a href=\"https://docs.wandb.com/integrations/jupyter.html\" target=\"_blank\">docs</a>).<br/>\n",
       "\n",
       "                "
      ],
      "text/plain": [
       "<IPython.core.display.HTML object>"
      ]
     },
     "metadata": {},
     "output_type": "display_data"
    }
   ],
   "source": [
    "run = wandb.init(project=\"eldorado_leaf\", group=\"eda\", save_code=True)"
   ]
  },
  {
   "cell_type": "markdown",
   "id": "cac1c28a-cfca-41e1-90a2-e51e8e5fe7fe",
   "metadata": {
    "tags": []
   },
   "source": [
    "# Carregar o conjunto de dados\n",
    "Podemos carregar diretamente do aquivo .csv."
   ]
  },
  {
   "cell_type": "markdown",
   "id": "7e5a5f77-8ee5-495e-b1a2-3adbfbdb02b5",
   "metadata": {},
   "source": [
    "Tudo deve carregar sem erros. Se você tiver um erro, pare. Instale as libs que ainda não estão instaladas, usando pip install <lib_name>"
   ]
  },
  {
   "cell_type": "markdown",
   "id": "33f3db56-9a87-441c-98b1-9b0928bd191f",
   "metadata": {},
   "source": [
    "## Leaf Dataset\n",
    "\n",
    "The provided data comprises the following shape (attributes 3 to 9) and texture (attributes 10\n",
    "to 16) features:\n",
    "\n",
    "1. Class (Species)\n",
    "2. Specimen Number\n",
    "3. Eccentricity\n",
    "4. Aspect Ratio\n",
    "5. Elongation\n",
    "6. Solidity\n",
    "7. Stochastic Convexity\n",
    "8. Isoperimetric Factor\n",
    "9. Maximal Indentation Depth\n",
    "10. Lobedness\n",
    "11. Average Intensity\n",
    "12. Average Contrast\n",
    "13. Smoothness\n",
    "14. Third moment\n",
    "15. Uniformity\n",
    "16. Entropy"
   ]
  },
  {
   "cell_type": "markdown",
   "id": "91f71daa-5cd2-4a63-adf1-4885178d9f03",
   "metadata": {},
   "source": [
    "Como o dataset vem sem as colunas, vamos setar as colunas"
   ]
  },
  {
   "cell_type": "code",
   "execution_count": 5,
   "id": "e8790b87-f9e1-4e99-a923-8b52f19291e8",
   "metadata": {},
   "outputs": [],
   "source": [
    "names = ['Class', 'Specimen Number', 'Eccentricity', 'Aspect Ratio', 'Elongation', 'Solidity', 'Stochastic Convexity', 'Isoperimetric Factor',\n",
    "         'Maximal Indentation Depth', 'Lobedness', 'Average Intensity', 'Average Contrast', 'Smoothness', 'Third moment',\n",
    "         'Uniformity', 'Entropy']"
   ]
  },
  {
   "cell_type": "markdown",
   "id": "9ce3b936-2c2e-4bcb-a152-8243fb32190d",
   "metadata": {},
   "source": [
    "Leitura do dataset"
   ]
  },
  {
   "cell_type": "code",
   "execution_count": 6,
   "id": "026b8883-952a-4eae-8a83-9358f1e2da24",
   "metadata": {},
   "outputs": [],
   "source": [
    "data_leaf = pd.read_csv('leaf.csv', names=names)"
   ]
  },
  {
   "cell_type": "markdown",
   "id": "16507fbd-d54f-4e04-8dc9-010a73bdf1f8",
   "metadata": {},
   "source": [
    "Dataset"
   ]
  },
  {
   "cell_type": "code",
   "execution_count": 7,
   "id": "98fa160f-9350-4162-9a2d-a9cda25ae46c",
   "metadata": {},
   "outputs": [
    {
     "data": {
      "text/html": [
       "<div>\n",
       "<style scoped>\n",
       "    .dataframe tbody tr th:only-of-type {\n",
       "        vertical-align: middle;\n",
       "    }\n",
       "\n",
       "    .dataframe tbody tr th {\n",
       "        vertical-align: top;\n",
       "    }\n",
       "\n",
       "    .dataframe thead th {\n",
       "        text-align: right;\n",
       "    }\n",
       "</style>\n",
       "<table border=\"1\" class=\"dataframe\">\n",
       "  <thead>\n",
       "    <tr style=\"text-align: right;\">\n",
       "      <th></th>\n",
       "      <th>Class</th>\n",
       "      <th>Specimen Number</th>\n",
       "      <th>Eccentricity</th>\n",
       "      <th>Aspect Ratio</th>\n",
       "      <th>Elongation</th>\n",
       "      <th>Solidity</th>\n",
       "      <th>Stochastic Convexity</th>\n",
       "      <th>Isoperimetric Factor</th>\n",
       "      <th>Maximal Indentation Depth</th>\n",
       "      <th>Lobedness</th>\n",
       "      <th>Average Intensity</th>\n",
       "      <th>Average Contrast</th>\n",
       "      <th>Smoothness</th>\n",
       "      <th>Third moment</th>\n",
       "      <th>Uniformity</th>\n",
       "      <th>Entropy</th>\n",
       "    </tr>\n",
       "  </thead>\n",
       "  <tbody>\n",
       "    <tr>\n",
       "      <th>118</th>\n",
       "      <td>11</td>\n",
       "      <td>11</td>\n",
       "      <td>0.52382</td>\n",
       "      <td>1.1117</td>\n",
       "      <td>0.67175</td>\n",
       "      <td>0.54701</td>\n",
       "      <td>0.62982</td>\n",
       "      <td>0.15157</td>\n",
       "      <td>0.13674</td>\n",
       "      <td>3.4028</td>\n",
       "      <td>0.026434</td>\n",
       "      <td>0.085792</td>\n",
       "      <td>0.007306</td>\n",
       "      <td>0.002137</td>\n",
       "      <td>0.000166</td>\n",
       "      <td>0.90513</td>\n",
       "    </tr>\n",
       "  </tbody>\n",
       "</table>\n",
       "</div>"
      ],
      "text/plain": [
       "     Class  Specimen Number  Eccentricity  Aspect Ratio  Elongation  Solidity  \\\n",
       "118     11               11       0.52382        1.1117     0.67175   0.54701   \n",
       "\n",
       "     Stochastic Convexity  Isoperimetric Factor  Maximal Indentation Depth  \\\n",
       "118               0.62982               0.15157                    0.13674   \n",
       "\n",
       "     Lobedness  Average Intensity  Average Contrast  Smoothness  Third moment  \\\n",
       "118     3.4028           0.026434          0.085792    0.007306      0.002137   \n",
       "\n",
       "     Uniformity  Entropy  \n",
       "118    0.000166  0.90513  "
      ]
     },
     "execution_count": 7,
     "metadata": {},
     "output_type": "execute_result"
    }
   ],
   "source": [
    "data_leaf.sample()"
   ]
  },
  {
   "cell_type": "markdown",
   "id": "c161139b-fecc-408f-bf4d-a2ad85a4d031",
   "metadata": {},
   "source": [
    "Salvando o dataset processado no wandb"
   ]
  },
  {
   "cell_type": "code",
   "execution_count": 8,
   "id": "158ed6ef-e7db-449e-8e96-38c34e4ab86c",
   "metadata": {},
   "outputs": [
    {
     "data": {
      "text/plain": [
       "<ManifestEntry digest: 8enho+coZZ231SjBNt9l1g==>"
      ]
     },
     "execution_count": 8,
     "metadata": {},
     "output_type": "execute_result"
    }
   ],
   "source": [
    "artifact = wandb.Artifact(\n",
    "        'data_leaf_processado',\n",
    "        type='csv',\n",
    "        description='Dataset após o processamento das colunas')\n",
    "\n",
    "artifact.add_file('leaf.csv')"
   ]
  },
  {
   "cell_type": "code",
   "execution_count": 9,
   "id": "43105896-2a04-4990-9cbe-7e3a72c57994",
   "metadata": {},
   "outputs": [
    {
     "data": {
      "text/plain": [
       "<wandb.sdk.wandb_artifacts.Artifact at 0x7f487c723d60>"
      ]
     },
     "execution_count": 9,
     "metadata": {},
     "output_type": "execute_result"
    }
   ],
   "source": [
    "run.log_artifact(artifact)"
   ]
  },
  {
   "cell_type": "code",
   "execution_count": 10,
   "id": "1876d543-4aa4-41fe-8820-67ae8f91f0f8",
   "metadata": {},
   "outputs": [
    {
     "name": "stdout",
     "output_type": "stream",
     "text": [
      "<class 'pandas.core.frame.DataFrame'>\n",
      "RangeIndex: 340 entries, 0 to 339\n",
      "Data columns (total 16 columns):\n",
      " #   Column                     Non-Null Count  Dtype  \n",
      "---  ------                     --------------  -----  \n",
      " 0   Class                      340 non-null    int64  \n",
      " 1   Specimen Number            340 non-null    int64  \n",
      " 2   Eccentricity               340 non-null    float64\n",
      " 3   Aspect Ratio               340 non-null    float64\n",
      " 4   Elongation                 340 non-null    float64\n",
      " 5   Solidity                   340 non-null    float64\n",
      " 6   Stochastic Convexity       340 non-null    float64\n",
      " 7   Isoperimetric Factor       340 non-null    float64\n",
      " 8   Maximal Indentation Depth  340 non-null    float64\n",
      " 9   Lobedness                  340 non-null    float64\n",
      " 10  Average Intensity          340 non-null    float64\n",
      " 11  Average Contrast           340 non-null    float64\n",
      " 12  Smoothness                 340 non-null    float64\n",
      " 13  Third moment               340 non-null    float64\n",
      " 14  Uniformity                 340 non-null    float64\n",
      " 15  Entropy                    340 non-null    float64\n",
      "dtypes: float64(14), int64(2)\n",
      "memory usage: 42.6 KB\n"
     ]
    }
   ],
   "source": [
    "data_leaf.info()"
   ]
  },
  {
   "cell_type": "markdown",
   "id": "0341c3e1-1906-4adc-936a-d4e9c9b83c22",
   "metadata": {},
   "source": [
    "Relatório do pandas sobre o dataset"
   ]
  },
  {
   "cell_type": "code",
   "execution_count": 11,
   "id": "5dda3e49-88d5-4b00-bdf2-0290e1600d45",
   "metadata": {},
   "outputs": [
    {
     "data": {
      "application/vnd.jupyter.widget-view+json": {
       "model_id": "9b04b0b7fe894605ad033ba6914d1fe4",
       "version_major": 2,
       "version_minor": 0
      },
      "text/plain": [
       "Summarize dataset:   0%|          | 0/5 [00:00<?, ?it/s]"
      ]
     },
     "metadata": {},
     "output_type": "display_data"
    },
    {
     "data": {
      "application/vnd.jupyter.widget-view+json": {
       "model_id": "1cb0e59fb21144f0846868590106695b",
       "version_major": 2,
       "version_minor": 0
      },
      "text/plain": [
       "Generate report structure:   0%|          | 0/1 [00:00<?, ?it/s]"
      ]
     },
     "metadata": {},
     "output_type": "display_data"
    },
    {
     "data": {
      "application/vnd.jupyter.widget-view+json": {
       "model_id": "",
       "version_major": 2,
       "version_minor": 0
      },
      "text/plain": [
       "Render widgets:   0%|          | 0/1 [00:00<?, ?it/s]"
      ]
     },
     "metadata": {},
     "output_type": "display_data"
    },
    {
     "data": {
      "application/vnd.jupyter.widget-view+json": {
       "model_id": "9342a91fb4644550b5c2b082c6aa6712",
       "version_major": 2,
       "version_minor": 0
      },
      "text/plain": [
       "VBox(children=(Tab(children=(Tab(children=(GridBox(children=(VBox(children=(GridspecLayout(children=(HTML(valu…"
      ]
     },
     "metadata": {},
     "output_type": "display_data"
    }
   ],
   "source": [
    "profile = pandas_profiling.ProfileReport(data_leaf)\n",
    "profile.to_widgets()"
   ]
  },
  {
   "cell_type": "code",
   "execution_count": 12,
   "id": "4898e990-1d68-4f3a-9543-988b67fcf80a",
   "metadata": {},
   "outputs": [
    {
     "name": "stderr",
     "output_type": "stream",
     "text": [
      "INFO : Dataset features names: (340, 16)\n"
     ]
    }
   ],
   "source": [
    "# Data shape\n",
    "logging.info(f'Dataset features names: {data_leaf.shape}')"
   ]
  },
  {
   "cell_type": "markdown",
   "id": "8a305066-f02e-457a-8a17-16dec511be23",
   "metadata": {},
   "source": [
    "## Classes"
   ]
  },
  {
   "cell_type": "code",
   "execution_count": 13,
   "id": "f65bc326-ea7b-4004-a6c9-63f15a1ccf06",
   "metadata": {},
   "outputs": [],
   "source": [
    "# Classes (Labels)\n",
    "y = data_leaf['Class']"
   ]
  },
  {
   "cell_type": "code",
   "execution_count": 14,
   "id": "35edc750-519d-4832-8c69-689016e5152d",
   "metadata": {},
   "outputs": [
    {
     "data": {
      "text/plain": [
       "0       1\n",
       "1       1\n",
       "2       1\n",
       "3       1\n",
       "4       1\n",
       "       ..\n",
       "335    36\n",
       "336    36\n",
       "337    36\n",
       "338    36\n",
       "339    36\n",
       "Name: Class, Length: 340, dtype: int64"
      ]
     },
     "execution_count": 14,
     "metadata": {},
     "output_type": "execute_result"
    }
   ],
   "source": [
    "y"
   ]
  },
  {
   "cell_type": "code",
   "execution_count": 84,
   "id": "f039e527-4085-4b7d-8eae-4a79247d81df",
   "metadata": {},
   "outputs": [
    {
     "name": "stderr",
     "output_type": "stream",
     "text": [
      "INFO : (340,)\n",
      "INFO : <class 'pandas.core.series.Series'>\n",
      "INFO : int64\n"
     ]
    }
   ],
   "source": [
    "# Classe shape\n",
    "logging.info(y.shape)\n",
    "\n",
    "# Classe types\n",
    "logging.info(type(y))\n",
    "logging.info(y.dtypes)"
   ]
  },
  {
   "cell_type": "markdown",
   "id": "84e27058-7c6c-4fe5-a072-d0c94d8b38e7",
   "metadata": {},
   "source": [
    "## Entradas"
   ]
  },
  {
   "cell_type": "code",
   "execution_count": 16,
   "id": "257e60a7-5899-46c5-9355-06b1ab7e7b4a",
   "metadata": {},
   "outputs": [
    {
     "data": {
      "text/html": [
       "<div>\n",
       "<style scoped>\n",
       "    .dataframe tbody tr th:only-of-type {\n",
       "        vertical-align: middle;\n",
       "    }\n",
       "\n",
       "    .dataframe tbody tr th {\n",
       "        vertical-align: top;\n",
       "    }\n",
       "\n",
       "    .dataframe thead th {\n",
       "        text-align: right;\n",
       "    }\n",
       "</style>\n",
       "<table border=\"1\" class=\"dataframe\">\n",
       "  <thead>\n",
       "    <tr style=\"text-align: right;\">\n",
       "      <th></th>\n",
       "      <th>Specimen Number</th>\n",
       "      <th>Eccentricity</th>\n",
       "      <th>Aspect Ratio</th>\n",
       "      <th>Elongation</th>\n",
       "      <th>Solidity</th>\n",
       "      <th>Stochastic Convexity</th>\n",
       "      <th>Isoperimetric Factor</th>\n",
       "      <th>Maximal Indentation Depth</th>\n",
       "      <th>Lobedness</th>\n",
       "      <th>Average Intensity</th>\n",
       "      <th>Average Contrast</th>\n",
       "      <th>Smoothness</th>\n",
       "      <th>Third moment</th>\n",
       "      <th>Uniformity</th>\n",
       "      <th>Entropy</th>\n",
       "    </tr>\n",
       "  </thead>\n",
       "  <tbody>\n",
       "    <tr>\n",
       "      <th>0</th>\n",
       "      <td>1</td>\n",
       "      <td>0.72694</td>\n",
       "      <td>1.4742</td>\n",
       "      <td>0.32396</td>\n",
       "      <td>0.98535</td>\n",
       "      <td>1.00000</td>\n",
       "      <td>0.83592</td>\n",
       "      <td>0.004657</td>\n",
       "      <td>0.003947</td>\n",
       "      <td>0.047790</td>\n",
       "      <td>0.127950</td>\n",
       "      <td>0.016108</td>\n",
       "      <td>0.005232</td>\n",
       "      <td>0.000275</td>\n",
       "      <td>1.17560</td>\n",
       "    </tr>\n",
       "    <tr>\n",
       "      <th>1</th>\n",
       "      <td>2</td>\n",
       "      <td>0.74173</td>\n",
       "      <td>1.5257</td>\n",
       "      <td>0.36116</td>\n",
       "      <td>0.98152</td>\n",
       "      <td>0.99825</td>\n",
       "      <td>0.79867</td>\n",
       "      <td>0.005242</td>\n",
       "      <td>0.005002</td>\n",
       "      <td>0.024160</td>\n",
       "      <td>0.090476</td>\n",
       "      <td>0.008119</td>\n",
       "      <td>0.002708</td>\n",
       "      <td>0.000075</td>\n",
       "      <td>0.69659</td>\n",
       "    </tr>\n",
       "    <tr>\n",
       "      <th>2</th>\n",
       "      <td>3</td>\n",
       "      <td>0.76722</td>\n",
       "      <td>1.5725</td>\n",
       "      <td>0.38998</td>\n",
       "      <td>0.97755</td>\n",
       "      <td>1.00000</td>\n",
       "      <td>0.80812</td>\n",
       "      <td>0.007457</td>\n",
       "      <td>0.010121</td>\n",
       "      <td>0.011897</td>\n",
       "      <td>0.057445</td>\n",
       "      <td>0.003289</td>\n",
       "      <td>0.000921</td>\n",
       "      <td>0.000038</td>\n",
       "      <td>0.44348</td>\n",
       "    </tr>\n",
       "    <tr>\n",
       "      <th>3</th>\n",
       "      <td>4</td>\n",
       "      <td>0.73797</td>\n",
       "      <td>1.4597</td>\n",
       "      <td>0.35376</td>\n",
       "      <td>0.97566</td>\n",
       "      <td>1.00000</td>\n",
       "      <td>0.81697</td>\n",
       "      <td>0.006877</td>\n",
       "      <td>0.008607</td>\n",
       "      <td>0.015950</td>\n",
       "      <td>0.065491</td>\n",
       "      <td>0.004271</td>\n",
       "      <td>0.001154</td>\n",
       "      <td>0.000066</td>\n",
       "      <td>0.58785</td>\n",
       "    </tr>\n",
       "    <tr>\n",
       "      <th>4</th>\n",
       "      <td>5</td>\n",
       "      <td>0.82301</td>\n",
       "      <td>1.7707</td>\n",
       "      <td>0.44462</td>\n",
       "      <td>0.97698</td>\n",
       "      <td>1.00000</td>\n",
       "      <td>0.75493</td>\n",
       "      <td>0.007428</td>\n",
       "      <td>0.010042</td>\n",
       "      <td>0.007938</td>\n",
       "      <td>0.045339</td>\n",
       "      <td>0.002051</td>\n",
       "      <td>0.000560</td>\n",
       "      <td>0.000024</td>\n",
       "      <td>0.34214</td>\n",
       "    </tr>\n",
       "  </tbody>\n",
       "</table>\n",
       "</div>"
      ],
      "text/plain": [
       "   Specimen Number  Eccentricity  Aspect Ratio  Elongation  Solidity  \\\n",
       "0                1       0.72694        1.4742     0.32396   0.98535   \n",
       "1                2       0.74173        1.5257     0.36116   0.98152   \n",
       "2                3       0.76722        1.5725     0.38998   0.97755   \n",
       "3                4       0.73797        1.4597     0.35376   0.97566   \n",
       "4                5       0.82301        1.7707     0.44462   0.97698   \n",
       "\n",
       "   Stochastic Convexity  Isoperimetric Factor  Maximal Indentation Depth  \\\n",
       "0               1.00000               0.83592                   0.004657   \n",
       "1               0.99825               0.79867                   0.005242   \n",
       "2               1.00000               0.80812                   0.007457   \n",
       "3               1.00000               0.81697                   0.006877   \n",
       "4               1.00000               0.75493                   0.007428   \n",
       "\n",
       "   Lobedness  Average Intensity  Average Contrast  Smoothness  Third moment  \\\n",
       "0   0.003947           0.047790          0.127950    0.016108      0.005232   \n",
       "1   0.005002           0.024160          0.090476    0.008119      0.002708   \n",
       "2   0.010121           0.011897          0.057445    0.003289      0.000921   \n",
       "3   0.008607           0.015950          0.065491    0.004271      0.001154   \n",
       "4   0.010042           0.007938          0.045339    0.002051      0.000560   \n",
       "\n",
       "   Uniformity  Entropy  \n",
       "0    0.000275  1.17560  \n",
       "1    0.000075  0.69659  \n",
       "2    0.000038  0.44348  \n",
       "3    0.000066  0.58785  \n",
       "4    0.000024  0.34214  "
      ]
     },
     "execution_count": 16,
     "metadata": {},
     "output_type": "execute_result"
    }
   ],
   "source": [
    "# Entrada (input)\n",
    "X = data_leaf.drop('Class', axis=1)\n",
    "X.head()"
   ]
  },
  {
   "cell_type": "code",
   "execution_count": 83,
   "id": "3f5ae7e7-c2d4-4380-ae17-2876280e6252",
   "metadata": {},
   "outputs": [
    {
     "name": "stderr",
     "output_type": "stream",
     "text": [
      "INFO : (340, 15)\n",
      "INFO : <class 'pandas.core.frame.DataFrame'>\n",
      "INFO : Specimen Number                int64\n",
      "Eccentricity                 float64\n",
      "Aspect Ratio                 float64\n",
      "Elongation                   float64\n",
      "Solidity                     float64\n",
      "Stochastic Convexity         float64\n",
      "Isoperimetric Factor         float64\n",
      "Maximal Indentation Depth    float64\n",
      "Lobedness                    float64\n",
      "Average Intensity            float64\n",
      "Average Contrast             float64\n",
      "Smoothness                   float64\n",
      "Third moment                 float64\n",
      "Uniformity                   float64\n",
      "Entropy                      float64\n",
      "dtype: object\n"
     ]
    }
   ],
   "source": [
    "# Entrada shape\n",
    "logging.info(X.shape)\n",
    "\n",
    "# Entrada types\n",
    "logging.info(type(X))\n",
    "logging.info(X.dtypes)"
   ]
  },
  {
   "cell_type": "markdown",
   "id": "d29d645a-a75f-4768-ade2-3e36ab8e191b",
   "metadata": {},
   "source": [
    "## Separa os dados de treinamento e teste"
   ]
  },
  {
   "cell_type": "code",
   "execution_count": 18,
   "id": "83052aa1-f214-4bf6-a7d1-5d010a3fd544",
   "metadata": {},
   "outputs": [],
   "source": [
    "X_train, X_test, y_train, y_test = train_test_split(X, y, test_size=None, random_state=0)"
   ]
  },
  {
   "cell_type": "code",
   "execution_count": 19,
   "id": "8dadcc5d-cf68-4afa-8859-fc833393a626",
   "metadata": {},
   "outputs": [
    {
     "name": "stderr",
     "output_type": "stream",
     "text": [
      "INFO : (255, 15)\n",
      "INFO : (255,)\n",
      "INFO : (85, 15)\n",
      "INFO : (85,)\n"
     ]
    }
   ],
   "source": [
    "logging.info(X_train.shape)\n",
    "logging.info(y_train.shape)\n",
    "logging.info(X_test.shape)\n",
    "logging.info(y_test.shape)"
   ]
  },
  {
   "cell_type": "markdown",
   "id": "05b846ef-5a32-45ad-ad29-fa74fa3023a7",
   "metadata": {},
   "source": [
    "Salvando localmente"
   ]
  },
  {
   "cell_type": "code",
   "execution_count": 20,
   "id": "02d29b42-9803-4d10-a57a-f45b9c33bc5d",
   "metadata": {},
   "outputs": [],
   "source": [
    "pkl.dump(X_train, open('model/Xy/X_train.pkl', 'wb'))\n",
    "pkl.dump(y_train, open('model/Xy/y_train.pkl', 'wb'))\n",
    "\n",
    "pkl.dump(X_test, open('model/Xy/X_test.pkl', 'wb'))\n",
    "pkl.dump(y_test, open('model/Xy/y_test.pkl', 'wb'))"
   ]
  },
  {
   "cell_type": "code",
   "execution_count": 21,
   "id": "d8919da5-85a5-4be2-a81d-6e481e3caa42",
   "metadata": {},
   "outputs": [
    {
     "data": {
      "text/plain": [
       "pandas.core.frame.DataFrame"
      ]
     },
     "execution_count": 21,
     "metadata": {},
     "output_type": "execute_result"
    }
   ],
   "source": [
    "type(X_train)"
   ]
  },
  {
   "cell_type": "markdown",
   "id": "a07b0acb-73a2-47fe-9225-196c62390206",
   "metadata": {},
   "source": [
    "Salvando no W&B os dados de treino e teste para que futuramente, caso precisemos, já tenhamos esses dados prontos."
   ]
  },
  {
   "cell_type": "code",
   "execution_count": 21,
   "id": "ecdd4600-efbe-466d-a219-dc35c93f9ddc",
   "metadata": {},
   "outputs": [
    {
     "data": {
      "text/plain": [
       "<ManifestEntry digest: I+LmpPg5uXPL8Yvh13DK0w==>"
      ]
     },
     "execution_count": 21,
     "metadata": {},
     "output_type": "execute_result"
    }
   ],
   "source": [
    "x_train_wb = wandb.Artifact(\n",
    "        'x_train',\n",
    "        type='pandas.core.frame.DataFrame',\n",
    "        description='X treino')\n",
    "\n",
    "x_train.add_file('model/Xy/X_train.pkl')\n",
    "run.log_artifact(x_train)"
   ]
  },
  {
   "cell_type": "code",
   "execution_count": 24,
   "id": "8801f916-de49-469c-8131-e3ab0ade395e",
   "metadata": {},
   "outputs": [
    {
     "data": {
      "text/plain": [
       "<wandb.sdk.wandb_artifacts.Artifact at 0x7f050460fd30>"
      ]
     },
     "execution_count": 24,
     "metadata": {},
     "output_type": "execute_result"
    }
   ],
   "source": [
    "y_train_wb = wandb.Artifact(\n",
    "        'y_train',\n",
    "        type='pandas.core.frame.DataFrame',\n",
    "        description='Y treino')\n",
    "\n",
    "y_train.add_file('model/Xy/y_train.pkl')\n",
    "run.log_artifact(y_train)"
   ]
  },
  {
   "cell_type": "code",
   "execution_count": 25,
   "id": "75e68fff-9af7-40fb-b72d-c39afb5221b7",
   "metadata": {},
   "outputs": [
    {
     "data": {
      "text/plain": [
       "<wandb.sdk.wandb_artifacts.Artifact at 0x7f0504602df0>"
      ]
     },
     "execution_count": 25,
     "metadata": {},
     "output_type": "execute_result"
    }
   ],
   "source": [
    "x_teste_wb= wandb.Artifact(\n",
    "        'x_teste',\n",
    "        type='pandas.core.frame.DataFrame',\n",
    "        description='X teste')\n",
    "\n",
    "x_teste.add_file('model/Xy/X_test.pkl')\n",
    "run.log_artifact(x_teste)"
   ]
  },
  {
   "cell_type": "code",
   "execution_count": 26,
   "id": "c6f58809-91ad-4f3c-aabb-014d6a39e4a4",
   "metadata": {},
   "outputs": [
    {
     "data": {
      "text/plain": [
       "<wandb.sdk.wandb_artifacts.Artifact at 0x7f05045a75e0>"
      ]
     },
     "execution_count": 26,
     "metadata": {},
     "output_type": "execute_result"
    }
   ],
   "source": [
    "y_teste_wb = wandb.Artifact(\n",
    "        'y_teste',\n",
    "        type='pandas.core.frame.DataFrame',\n",
    "        description='Y teste')\n",
    "\n",
    "y_teste.add_file('model/Xy/y_test.pkl')\n",
    "run.log_artifact(y_teste)"
   ]
  },
  {
   "cell_type": "markdown",
   "id": "af518d57-cb81-4f34-a441-2062b811a4ca",
   "metadata": {},
   "source": [
    "## Treinar o modelo de Machine Learning"
   ]
  },
  {
   "cell_type": "markdown",
   "id": "8d0c3632-309e-4eb9-b444-07e2d5060acf",
   "metadata": {},
   "source": [
    "Criando uma pipeline mais simples, apenas com o preprocessamento e o classificador"
   ]
  },
  {
   "cell_type": "code",
   "execution_count": 30,
   "id": "b36dd480-5b7e-4b7a-9132-242f3d3c88ca",
   "metadata": {},
   "outputs": [],
   "source": [
    "steps = [('preprocessing', StandardScaler()),\n",
    "         ('classifier', SVC(kernel='rbf'))]\n",
    "\n",
    "pipe = Pipeline(steps)\n",
    "\n",
    "model_deploy = pipe.fit(X_train, y_train)"
   ]
  },
  {
   "cell_type": "code",
   "execution_count": 31,
   "id": "d86eafc7-59b7-4d2f-94bf-210d0e91c243",
   "metadata": {},
   "outputs": [
    {
     "data": {
      "text/plain": [
       "Pipeline(steps=[('preprocessing', StandardScaler()), ('classifier', SVC())])"
      ]
     },
     "execution_count": 31,
     "metadata": {},
     "output_type": "execute_result"
    }
   ],
   "source": [
    "model_deploy"
   ]
  },
  {
   "cell_type": "code",
   "execution_count": 34,
   "id": "fbf1dd69-b55e-40a8-b655-090146e80493",
   "metadata": {},
   "outputs": [
    {
     "name": "stderr",
     "output_type": "stream",
     "text": [
      "INFO : Training set score: 0.7019607843137254\n",
      "INFO : Training set score: 0.4\n"
     ]
    }
   ],
   "source": [
    "logging.info(f'Training set score: {model_deploy.score(X_train,y_train)}')\n",
    "logging.info(f'Training set score: {model_deploy.score(X_test,y_test)}')"
   ]
  },
  {
   "cell_type": "code",
   "execution_count": 35,
   "id": "9dea2545-9539-4cca-8ccf-0d6d1748dfb5",
   "metadata": {},
   "outputs": [
    {
     "data": {
      "text/html": [
       "<style>#sk-09125798-5875-4504-a116-561955fc25ec {color: black;background-color: white;}#sk-09125798-5875-4504-a116-561955fc25ec pre{padding: 0;}#sk-09125798-5875-4504-a116-561955fc25ec div.sk-toggleable {background-color: white;}#sk-09125798-5875-4504-a116-561955fc25ec label.sk-toggleable__label {cursor: pointer;display: block;width: 100%;margin-bottom: 0;padding: 0.3em;box-sizing: border-box;text-align: center;}#sk-09125798-5875-4504-a116-561955fc25ec label.sk-toggleable__label-arrow:before {content: \"▸\";float: left;margin-right: 0.25em;color: #696969;}#sk-09125798-5875-4504-a116-561955fc25ec label.sk-toggleable__label-arrow:hover:before {color: black;}#sk-09125798-5875-4504-a116-561955fc25ec div.sk-estimator:hover label.sk-toggleable__label-arrow:before {color: black;}#sk-09125798-5875-4504-a116-561955fc25ec div.sk-toggleable__content {max-height: 0;max-width: 0;overflow: hidden;text-align: left;background-color: #f0f8ff;}#sk-09125798-5875-4504-a116-561955fc25ec div.sk-toggleable__content pre {margin: 0.2em;color: black;border-radius: 0.25em;background-color: #f0f8ff;}#sk-09125798-5875-4504-a116-561955fc25ec input.sk-toggleable__control:checked~div.sk-toggleable__content {max-height: 200px;max-width: 100%;overflow: auto;}#sk-09125798-5875-4504-a116-561955fc25ec input.sk-toggleable__control:checked~label.sk-toggleable__label-arrow:before {content: \"▾\";}#sk-09125798-5875-4504-a116-561955fc25ec div.sk-estimator input.sk-toggleable__control:checked~label.sk-toggleable__label {background-color: #d4ebff;}#sk-09125798-5875-4504-a116-561955fc25ec div.sk-label input.sk-toggleable__control:checked~label.sk-toggleable__label {background-color: #d4ebff;}#sk-09125798-5875-4504-a116-561955fc25ec input.sk-hidden--visually {border: 0;clip: rect(1px 1px 1px 1px);clip: rect(1px, 1px, 1px, 1px);height: 1px;margin: -1px;overflow: hidden;padding: 0;position: absolute;width: 1px;}#sk-09125798-5875-4504-a116-561955fc25ec div.sk-estimator {font-family: monospace;background-color: #f0f8ff;border: 1px dotted black;border-radius: 0.25em;box-sizing: border-box;margin-bottom: 0.5em;}#sk-09125798-5875-4504-a116-561955fc25ec div.sk-estimator:hover {background-color: #d4ebff;}#sk-09125798-5875-4504-a116-561955fc25ec div.sk-parallel-item::after {content: \"\";width: 100%;border-bottom: 1px solid gray;flex-grow: 1;}#sk-09125798-5875-4504-a116-561955fc25ec div.sk-label:hover label.sk-toggleable__label {background-color: #d4ebff;}#sk-09125798-5875-4504-a116-561955fc25ec div.sk-serial::before {content: \"\";position: absolute;border-left: 1px solid gray;box-sizing: border-box;top: 2em;bottom: 0;left: 50%;}#sk-09125798-5875-4504-a116-561955fc25ec div.sk-serial {display: flex;flex-direction: column;align-items: center;background-color: white;padding-right: 0.2em;padding-left: 0.2em;}#sk-09125798-5875-4504-a116-561955fc25ec div.sk-item {z-index: 1;}#sk-09125798-5875-4504-a116-561955fc25ec div.sk-parallel {display: flex;align-items: stretch;justify-content: center;background-color: white;}#sk-09125798-5875-4504-a116-561955fc25ec div.sk-parallel::before {content: \"\";position: absolute;border-left: 1px solid gray;box-sizing: border-box;top: 2em;bottom: 0;left: 50%;}#sk-09125798-5875-4504-a116-561955fc25ec div.sk-parallel-item {display: flex;flex-direction: column;position: relative;background-color: white;}#sk-09125798-5875-4504-a116-561955fc25ec div.sk-parallel-item:first-child::after {align-self: flex-end;width: 50%;}#sk-09125798-5875-4504-a116-561955fc25ec div.sk-parallel-item:last-child::after {align-self: flex-start;width: 50%;}#sk-09125798-5875-4504-a116-561955fc25ec div.sk-parallel-item:only-child::after {width: 0;}#sk-09125798-5875-4504-a116-561955fc25ec div.sk-dashed-wrapped {border: 1px dashed gray;margin: 0 0.4em 0.5em 0.4em;box-sizing: border-box;padding-bottom: 0.4em;background-color: white;position: relative;}#sk-09125798-5875-4504-a116-561955fc25ec div.sk-label label {font-family: monospace;font-weight: bold;background-color: white;display: inline-block;line-height: 1.2em;}#sk-09125798-5875-4504-a116-561955fc25ec div.sk-label-container {position: relative;z-index: 2;text-align: center;}#sk-09125798-5875-4504-a116-561955fc25ec div.sk-container {/* jupyter's `normalize.less` sets `[hidden] { display: none; }` but bootstrap.min.css set `[hidden] { display: none !important; }` so we also need the `!important` here to be able to override the default hidden behavior on the sphinx rendered scikit-learn.org. See: https://github.com/scikit-learn/scikit-learn/issues/21755 */display: inline-block !important;position: relative;}#sk-09125798-5875-4504-a116-561955fc25ec div.sk-text-repr-fallback {display: none;}</style><div id=\"sk-09125798-5875-4504-a116-561955fc25ec\" class=\"sk-top-container\"><div class=\"sk-text-repr-fallback\"><pre>Pipeline(steps=[(&#x27;preprocessing&#x27;, StandardScaler()), (&#x27;classifier&#x27;, SVC())])</pre><b>Please rerun this cell to show the HTML repr or trust the notebook.</b></div><div class=\"sk-container\" hidden><div class=\"sk-item sk-dashed-wrapped\"><div class=\"sk-label-container\"><div class=\"sk-label sk-toggleable\"><input class=\"sk-toggleable__control sk-hidden--visually\" id=\"a06a5242-29b1-4a63-bbcb-6b5e838a0705\" type=\"checkbox\" ><label for=\"a06a5242-29b1-4a63-bbcb-6b5e838a0705\" class=\"sk-toggleable__label sk-toggleable__label-arrow\">Pipeline</label><div class=\"sk-toggleable__content\"><pre>Pipeline(steps=[(&#x27;preprocessing&#x27;, StandardScaler()), (&#x27;classifier&#x27;, SVC())])</pre></div></div></div><div class=\"sk-serial\"><div class=\"sk-item\"><div class=\"sk-estimator sk-toggleable\"><input class=\"sk-toggleable__control sk-hidden--visually\" id=\"17f662b1-c24c-4656-9341-6da51fa8dc82\" type=\"checkbox\" ><label for=\"17f662b1-c24c-4656-9341-6da51fa8dc82\" class=\"sk-toggleable__label sk-toggleable__label-arrow\">StandardScaler</label><div class=\"sk-toggleable__content\"><pre>StandardScaler()</pre></div></div></div><div class=\"sk-item\"><div class=\"sk-estimator sk-toggleable\"><input class=\"sk-toggleable__control sk-hidden--visually\" id=\"3ad5b979-2b6c-46e2-b767-e28d55d1d456\" type=\"checkbox\" ><label for=\"3ad5b979-2b6c-46e2-b767-e28d55d1d456\" class=\"sk-toggleable__label sk-toggleable__label-arrow\">SVC</label><div class=\"sk-toggleable__content\"><pre>SVC()</pre></div></div></div></div></div></div></div>"
      ],
      "text/plain": [
       "Pipeline(steps=[('preprocessing', StandardScaler()), ('classifier', SVC())])"
      ]
     },
     "execution_count": 35,
     "metadata": {},
     "output_type": "execute_result"
    }
   ],
   "source": [
    "set_config(display='diagram')\n",
    "model_deploy  # clique no diagrama abaixo para ver os detalhes de cada etapa"
   ]
  },
  {
   "cell_type": "markdown",
   "id": "75bcffea-9f1d-46f2-9f35-49e5d68f3491",
   "metadata": {},
   "source": [
    "## Salvar o modelo de Machine Learning para disponibilizar na Cloud IBM"
   ]
  },
  {
   "cell_type": "code",
   "execution_count": 37,
   "id": "a0987001-3306-4e6c-b8a5-fd77823ee912",
   "metadata": {},
   "outputs": [],
   "source": [
    "# save the model to disk\n",
    "pkl.dump(model_deploy, open('model/modelo/model_leaf_deploy.pkl', 'wb'))"
   ]
  },
  {
   "cell_type": "code",
   "execution_count": 36,
   "id": "fb5ad077-7e70-442c-bff0-0a8a8858ae4c",
   "metadata": {},
   "outputs": [
    {
     "data": {
      "text/plain": [
       "sklearn.pipeline.Pipeline"
      ]
     },
     "execution_count": 36,
     "metadata": {},
     "output_type": "execute_result"
    }
   ],
   "source": [
    "type(model_deploy)"
   ]
  },
  {
   "cell_type": "code",
   "execution_count": 39,
   "id": "da4e8ed8-6b2a-47e0-91e9-d7832940de31",
   "metadata": {},
   "outputs": [
    {
     "data": {
      "text/plain": [
       "<wandb.sdk.wandb_artifacts.Artifact at 0x7f47acac63a0>"
      ]
     },
     "execution_count": 39,
     "metadata": {},
     "output_type": "execute_result"
    }
   ],
   "source": [
    "model_deploy_wb = wandb.Artifact(\n",
    "        'modelo_treinado',\n",
    "        type='sklearn.pipeline.Pipeline',\n",
    "        description='Modelo svm treinado')\n",
    "\n",
    "model_deploy_wb.add_file('model/modelo/model_leaf_deploy.pkl')\n",
    "run.log_artifact(model_deploy_wb)"
   ]
  },
  {
   "cell_type": "markdown",
   "id": "0964f377-4700-4ab1-902e-650f42b32a3a",
   "metadata": {
    "tags": []
   },
   "source": [
    "# Para melhorar as métricas de classificação do seu primeiro modelo, consulte o material da aula 05"
   ]
  },
  {
   "cell_type": "code",
   "execution_count": 42,
   "id": "1cc280ac-5e3c-4c01-97d1-1cf220b1ddb3",
   "metadata": {},
   "outputs": [],
   "source": [
    "parameters = {'preprocessing': [StandardScaler(), MinMaxScaler(), Normalizer(), MaxAbsScaler()],\n",
    "              'classifier__C': [10, 100, 1000],\n",
    "              'classifier__kernel': ['linear', 'rbf', 'sigmoid']}"
   ]
  },
  {
   "cell_type": "code",
   "execution_count": 48,
   "id": "bcc52dc2-3a25-4426-8240-1c004c7674c7",
   "metadata": {},
   "outputs": [],
   "source": [
    "def best_params(values: dict, clf: 'classificador', x_treino: np.array, x_teste: np.array, y_treino: np.array, y_teste: np.array) -> list:\n",
    "    '''\n",
    "        Instancia um classificador de busca e procura os melhores parâmetros para o modelo.\n",
    "        \n",
    "        Params\n",
    "        ------\n",
    "        :values: parametros a serem testados\n",
    "        :clf: instancia do classificador desejado\n",
    "        :x_treino: dados de treino\n",
    "        :x_teste: dados de teste\n",
    "        :y_treino: dados de treino -labels\n",
    "        :y_teste: dados de treino - labels\n",
    "        \n",
    "        Return\n",
    "        ------\n",
    "        :best_params: lista com os melhores parametros\n",
    "    '''\n",
    "    \n",
    "    logging.info('Instanciando SVM')\n",
    "    random_clf = RandomizedSearchCV(clf, param_distributions=values, n_iter=200, verbose=1)\n",
    "    \n",
    "    logging.info('Treinando SVM')\n",
    "    random_clf.fit(x_treino, y_treino)\n",
    "    \n",
    "    logging.info('Predict SVM')\n",
    "    y_random_clf_rl = random_clf.predict(x_teste)\n",
    "    #print(y_random_clf_rl)\n",
    "    \n",
    "    logging.info('Parametros SVM')\n",
    "    print(RED, random_clf.get_params())\n",
    "    \n",
    "    logging.info('Best Params SVM')\n",
    "    best_params = random_clf.best_params_\n",
    "    print(BLUE, best_params)\n",
    "    \n",
    "    return best_params, random_clf"
   ]
  },
  {
   "cell_type": "code",
   "execution_count": 50,
   "id": "eeb52324-2086-4e0e-9546-b974abf363a4",
   "metadata": {},
   "outputs": [
    {
     "name": "stderr",
     "output_type": "stream",
     "text": [
      "INFO : Instanciando SVM\n",
      "INFO : Treinando SVM\n",
      "/home/saraselis/.local/lib/python3.8/site-packages/sklearn/model_selection/_search.py:292: UserWarning: The total space of parameters 36 is smaller than n_iter=200. Running 36 iterations. For exhaustive searches, use GridSearchCV.\n",
      "  warnings.warn(\n",
      "/home/saraselis/.local/lib/python3.8/site-packages/sklearn/model_selection/_split.py:676: UserWarning: The least populated class in y has only 3 members, which is less than n_splits=5.\n",
      "  warnings.warn(\n"
     ]
    },
    {
     "name": "stdout",
     "output_type": "stream",
     "text": [
      "Fitting 5 folds for each of 36 candidates, totalling 180 fits\n"
     ]
    },
    {
     "name": "stderr",
     "output_type": "stream",
     "text": [
      "INFO : Predict SVM\n",
      "INFO : Parametros SVM\n",
      "INFO : Best Params SVM\n",
      "INFO : Ok\n",
      "INFO : Busca finalizada\n"
     ]
    },
    {
     "name": "stdout",
     "output_type": "stream",
     "text": [
      "\u001b[1;31m {'cv': None, 'error_score': nan, 'estimator__memory': None, 'estimator__steps': [('preprocessing', StandardScaler()), ('classifier', SVC())], 'estimator__verbose': False, 'estimator__preprocessing': StandardScaler(), 'estimator__classifier': SVC(), 'estimator__preprocessing__copy': True, 'estimator__preprocessing__with_mean': True, 'estimator__preprocessing__with_std': True, 'estimator__classifier__C': 1.0, 'estimator__classifier__break_ties': False, 'estimator__classifier__cache_size': 200, 'estimator__classifier__class_weight': None, 'estimator__classifier__coef0': 0.0, 'estimator__classifier__decision_function_shape': 'ovr', 'estimator__classifier__degree': 3, 'estimator__classifier__gamma': 'scale', 'estimator__classifier__kernel': 'rbf', 'estimator__classifier__max_iter': -1, 'estimator__classifier__probability': False, 'estimator__classifier__random_state': None, 'estimator__classifier__shrinking': True, 'estimator__classifier__tol': 0.001, 'estimator__classifier__verbose': False, 'estimator': Pipeline(steps=[('preprocessing', StandardScaler()), ('classifier', SVC())]), 'n_iter': 200, 'n_jobs': None, 'param_distributions': {'preprocessing': [StandardScaler(), MinMaxScaler(), Normalizer(), MaxAbsScaler()], 'classifier__C': [10, 100, 1000], 'classifier__kernel': ['linear', 'rbf', 'sigmoid']}, 'pre_dispatch': '2*n_jobs', 'random_state': None, 'refit': True, 'return_train_score': False, 'scoring': None, 'verbose': 1}\n",
      "\u001b[1;34m {'preprocessing': StandardScaler(), 'classifier__kernel': 'linear', 'classifier__C': 10}\n",
      "CPU times: user 1.89 s, sys: 16.9 ms, total: 1.91 s\n",
      "Wall time: 1.89 s\n"
     ]
    }
   ],
   "source": [
    "%%time\n",
    "\n",
    "try:\n",
    "    best, random_clf = best_params(parameters, model_deploy, X_train, X_test, y_train, y_test)\n",
    "\n",
    "except Exception as error:\n",
    "    logging.warning('Aconteceu algum problema...')\n",
    "    logging.critical(error)\n",
    "\n",
    "else:\n",
    "    logging.info('Ok')\n",
    "    \n",
    "finally:\n",
    "    logging.info('Busca finalizada')"
   ]
  },
  {
   "cell_type": "code",
   "execution_count": 54,
   "id": "303c6097-70ff-4935-908d-937299e75d4d",
   "metadata": {},
   "outputs": [
    {
     "data": {
      "text/plain": [
       "{'preprocessing': StandardScaler(),\n",
       " 'classifier__kernel': 'linear',\n",
       " 'classifier__C': 10}"
      ]
     },
     "execution_count": 54,
     "metadata": {},
     "output_type": "execute_result"
    }
   ],
   "source": [
    "best"
   ]
  },
  {
   "cell_type": "code",
   "execution_count": 55,
   "id": "59b986c4-6c7d-43a9-9a32-1dc1cc4527b2",
   "metadata": {},
   "outputs": [
    {
     "data": {
      "text/html": [
       "<style>#sk-a47f4de3-239f-4928-b785-2c5339e71e65 {color: black;background-color: white;}#sk-a47f4de3-239f-4928-b785-2c5339e71e65 pre{padding: 0;}#sk-a47f4de3-239f-4928-b785-2c5339e71e65 div.sk-toggleable {background-color: white;}#sk-a47f4de3-239f-4928-b785-2c5339e71e65 label.sk-toggleable__label {cursor: pointer;display: block;width: 100%;margin-bottom: 0;padding: 0.3em;box-sizing: border-box;text-align: center;}#sk-a47f4de3-239f-4928-b785-2c5339e71e65 label.sk-toggleable__label-arrow:before {content: \"▸\";float: left;margin-right: 0.25em;color: #696969;}#sk-a47f4de3-239f-4928-b785-2c5339e71e65 label.sk-toggleable__label-arrow:hover:before {color: black;}#sk-a47f4de3-239f-4928-b785-2c5339e71e65 div.sk-estimator:hover label.sk-toggleable__label-arrow:before {color: black;}#sk-a47f4de3-239f-4928-b785-2c5339e71e65 div.sk-toggleable__content {max-height: 0;max-width: 0;overflow: hidden;text-align: left;background-color: #f0f8ff;}#sk-a47f4de3-239f-4928-b785-2c5339e71e65 div.sk-toggleable__content pre {margin: 0.2em;color: black;border-radius: 0.25em;background-color: #f0f8ff;}#sk-a47f4de3-239f-4928-b785-2c5339e71e65 input.sk-toggleable__control:checked~div.sk-toggleable__content {max-height: 200px;max-width: 100%;overflow: auto;}#sk-a47f4de3-239f-4928-b785-2c5339e71e65 input.sk-toggleable__control:checked~label.sk-toggleable__label-arrow:before {content: \"▾\";}#sk-a47f4de3-239f-4928-b785-2c5339e71e65 div.sk-estimator input.sk-toggleable__control:checked~label.sk-toggleable__label {background-color: #d4ebff;}#sk-a47f4de3-239f-4928-b785-2c5339e71e65 div.sk-label input.sk-toggleable__control:checked~label.sk-toggleable__label {background-color: #d4ebff;}#sk-a47f4de3-239f-4928-b785-2c5339e71e65 input.sk-hidden--visually {border: 0;clip: rect(1px 1px 1px 1px);clip: rect(1px, 1px, 1px, 1px);height: 1px;margin: -1px;overflow: hidden;padding: 0;position: absolute;width: 1px;}#sk-a47f4de3-239f-4928-b785-2c5339e71e65 div.sk-estimator {font-family: monospace;background-color: #f0f8ff;border: 1px dotted black;border-radius: 0.25em;box-sizing: border-box;margin-bottom: 0.5em;}#sk-a47f4de3-239f-4928-b785-2c5339e71e65 div.sk-estimator:hover {background-color: #d4ebff;}#sk-a47f4de3-239f-4928-b785-2c5339e71e65 div.sk-parallel-item::after {content: \"\";width: 100%;border-bottom: 1px solid gray;flex-grow: 1;}#sk-a47f4de3-239f-4928-b785-2c5339e71e65 div.sk-label:hover label.sk-toggleable__label {background-color: #d4ebff;}#sk-a47f4de3-239f-4928-b785-2c5339e71e65 div.sk-serial::before {content: \"\";position: absolute;border-left: 1px solid gray;box-sizing: border-box;top: 2em;bottom: 0;left: 50%;}#sk-a47f4de3-239f-4928-b785-2c5339e71e65 div.sk-serial {display: flex;flex-direction: column;align-items: center;background-color: white;padding-right: 0.2em;padding-left: 0.2em;}#sk-a47f4de3-239f-4928-b785-2c5339e71e65 div.sk-item {z-index: 1;}#sk-a47f4de3-239f-4928-b785-2c5339e71e65 div.sk-parallel {display: flex;align-items: stretch;justify-content: center;background-color: white;}#sk-a47f4de3-239f-4928-b785-2c5339e71e65 div.sk-parallel::before {content: \"\";position: absolute;border-left: 1px solid gray;box-sizing: border-box;top: 2em;bottom: 0;left: 50%;}#sk-a47f4de3-239f-4928-b785-2c5339e71e65 div.sk-parallel-item {display: flex;flex-direction: column;position: relative;background-color: white;}#sk-a47f4de3-239f-4928-b785-2c5339e71e65 div.sk-parallel-item:first-child::after {align-self: flex-end;width: 50%;}#sk-a47f4de3-239f-4928-b785-2c5339e71e65 div.sk-parallel-item:last-child::after {align-self: flex-start;width: 50%;}#sk-a47f4de3-239f-4928-b785-2c5339e71e65 div.sk-parallel-item:only-child::after {width: 0;}#sk-a47f4de3-239f-4928-b785-2c5339e71e65 div.sk-dashed-wrapped {border: 1px dashed gray;margin: 0 0.4em 0.5em 0.4em;box-sizing: border-box;padding-bottom: 0.4em;background-color: white;position: relative;}#sk-a47f4de3-239f-4928-b785-2c5339e71e65 div.sk-label label {font-family: monospace;font-weight: bold;background-color: white;display: inline-block;line-height: 1.2em;}#sk-a47f4de3-239f-4928-b785-2c5339e71e65 div.sk-label-container {position: relative;z-index: 2;text-align: center;}#sk-a47f4de3-239f-4928-b785-2c5339e71e65 div.sk-container {/* jupyter's `normalize.less` sets `[hidden] { display: none; }` but bootstrap.min.css set `[hidden] { display: none !important; }` so we also need the `!important` here to be able to override the default hidden behavior on the sphinx rendered scikit-learn.org. See: https://github.com/scikit-learn/scikit-learn/issues/21755 */display: inline-block !important;position: relative;}#sk-a47f4de3-239f-4928-b785-2c5339e71e65 div.sk-text-repr-fallback {display: none;}</style><div id=\"sk-a47f4de3-239f-4928-b785-2c5339e71e65\" class=\"sk-top-container\"><div class=\"sk-text-repr-fallback\"><pre>RandomizedSearchCV(estimator=Pipeline(steps=[(&#x27;preprocessing&#x27;,\n",
       "                                              StandardScaler()),\n",
       "                                             (&#x27;classifier&#x27;, SVC())]),\n",
       "                   n_iter=200,\n",
       "                   param_distributions={&#x27;classifier__C&#x27;: [10, 100, 1000],\n",
       "                                        &#x27;classifier__kernel&#x27;: [&#x27;linear&#x27;, &#x27;rbf&#x27;,\n",
       "                                                               &#x27;sigmoid&#x27;],\n",
       "                                        &#x27;preprocessing&#x27;: [StandardScaler(),\n",
       "                                                          MinMaxScaler(),\n",
       "                                                          Normalizer(),\n",
       "                                                          MaxAbsScaler()]},\n",
       "                   verbose=1)</pre><b>Please rerun this cell to show the HTML repr or trust the notebook.</b></div><div class=\"sk-container\" hidden><div class=\"sk-item sk-dashed-wrapped\"><div class=\"sk-label-container\"><div class=\"sk-label sk-toggleable\"><input class=\"sk-toggleable__control sk-hidden--visually\" id=\"62315ae9-eae9-4a9d-bdd4-c02a7e3135f4\" type=\"checkbox\" ><label for=\"62315ae9-eae9-4a9d-bdd4-c02a7e3135f4\" class=\"sk-toggleable__label sk-toggleable__label-arrow\">RandomizedSearchCV</label><div class=\"sk-toggleable__content\"><pre>RandomizedSearchCV(estimator=Pipeline(steps=[(&#x27;preprocessing&#x27;,\n",
       "                                              StandardScaler()),\n",
       "                                             (&#x27;classifier&#x27;, SVC())]),\n",
       "                   n_iter=200,\n",
       "                   param_distributions={&#x27;classifier__C&#x27;: [10, 100, 1000],\n",
       "                                        &#x27;classifier__kernel&#x27;: [&#x27;linear&#x27;, &#x27;rbf&#x27;,\n",
       "                                                               &#x27;sigmoid&#x27;],\n",
       "                                        &#x27;preprocessing&#x27;: [StandardScaler(),\n",
       "                                                          MinMaxScaler(),\n",
       "                                                          Normalizer(),\n",
       "                                                          MaxAbsScaler()]},\n",
       "                   verbose=1)</pre></div></div></div><div class=\"sk-parallel\"><div class=\"sk-parallel-item\"><div class=\"sk-item\"><div class=\"sk-serial\"><div class=\"sk-item\"><div class=\"sk-serial\"><div class=\"sk-item\"><div class=\"sk-estimator sk-toggleable\"><input class=\"sk-toggleable__control sk-hidden--visually\" id=\"e9281485-cf3c-4426-9031-894cfaefad16\" type=\"checkbox\" ><label for=\"e9281485-cf3c-4426-9031-894cfaefad16\" class=\"sk-toggleable__label sk-toggleable__label-arrow\">StandardScaler</label><div class=\"sk-toggleable__content\"><pre>StandardScaler()</pre></div></div></div><div class=\"sk-item\"><div class=\"sk-estimator sk-toggleable\"><input class=\"sk-toggleable__control sk-hidden--visually\" id=\"683f7c5d-ed57-4e79-a601-6d8a87f6fab3\" type=\"checkbox\" ><label for=\"683f7c5d-ed57-4e79-a601-6d8a87f6fab3\" class=\"sk-toggleable__label sk-toggleable__label-arrow\">SVC</label><div class=\"sk-toggleable__content\"><pre>SVC()</pre></div></div></div></div></div></div></div></div></div></div></div></div>"
      ],
      "text/plain": [
       "RandomizedSearchCV(estimator=Pipeline(steps=[('preprocessing',\n",
       "                                              StandardScaler()),\n",
       "                                             ('classifier', SVC())]),\n",
       "                   n_iter=200,\n",
       "                   param_distributions={'classifier__C': [10, 100, 1000],\n",
       "                                        'classifier__kernel': ['linear', 'rbf',\n",
       "                                                               'sigmoid'],\n",
       "                                        'preprocessing': [StandardScaler(),\n",
       "                                                          MinMaxScaler(),\n",
       "                                                          Normalizer(),\n",
       "                                                          MaxAbsScaler()]},\n",
       "                   verbose=1)"
      ]
     },
     "execution_count": 55,
     "metadata": {},
     "output_type": "execute_result"
    }
   ],
   "source": [
    "random_clf"
   ]
  },
  {
   "cell_type": "code",
   "execution_count": 57,
   "id": "e904675d-ced6-4abc-90e2-6051d23012e9",
   "metadata": {},
   "outputs": [
    {
     "name": "stderr",
     "output_type": "stream",
     "text": [
      "INFO : Pipeline(steps=[('preprocessing', StandardScaler()),\n",
      "                ('classifier', SVC(C=10, kernel='linear'))])\n"
     ]
    }
   ],
   "source": [
    "# Stores the optimum model in best_pipe\n",
    "best_pipe = random_clf.best_estimator_\n",
    "logging.info(best_pipe)"
   ]
  },
  {
   "cell_type": "code",
   "execution_count": 60,
   "id": "47f880f7-ae91-46e7-9a7f-a4a7dd54e7c2",
   "metadata": {},
   "outputs": [
    {
     "data": {
      "text/plain": [
       "(36, 16)"
      ]
     },
     "execution_count": 60,
     "metadata": {},
     "output_type": "execute_result"
    }
   ],
   "source": [
    "result_df = pd.DataFrame.from_dict(random_clf.cv_results_, orient='columns')\n",
    "result_df.shape"
   ]
  },
  {
   "cell_type": "code",
   "execution_count": 61,
   "id": "8cd32a66-3067-4650-8e2c-b9679e95af2a",
   "metadata": {},
   "outputs": [
    {
     "data": {
      "text/html": [
       "<div>\n",
       "<style scoped>\n",
       "    .dataframe tbody tr th:only-of-type {\n",
       "        vertical-align: middle;\n",
       "    }\n",
       "\n",
       "    .dataframe tbody tr th {\n",
       "        vertical-align: top;\n",
       "    }\n",
       "\n",
       "    .dataframe thead th {\n",
       "        text-align: right;\n",
       "    }\n",
       "</style>\n",
       "<table border=\"1\" class=\"dataframe\">\n",
       "  <thead>\n",
       "    <tr style=\"text-align: right;\">\n",
       "      <th></th>\n",
       "      <th>mean_fit_time</th>\n",
       "      <th>std_fit_time</th>\n",
       "      <th>mean_score_time</th>\n",
       "      <th>std_score_time</th>\n",
       "      <th>param_preprocessing</th>\n",
       "      <th>param_classifier__kernel</th>\n",
       "      <th>param_classifier__C</th>\n",
       "      <th>params</th>\n",
       "      <th>split0_test_score</th>\n",
       "      <th>split1_test_score</th>\n",
       "      <th>split2_test_score</th>\n",
       "      <th>split3_test_score</th>\n",
       "      <th>split4_test_score</th>\n",
       "      <th>mean_test_score</th>\n",
       "      <th>std_test_score</th>\n",
       "      <th>rank_test_score</th>\n",
       "    </tr>\n",
       "  </thead>\n",
       "  <tbody>\n",
       "    <tr>\n",
       "      <th>0</th>\n",
       "      <td>0.007606</td>\n",
       "      <td>0.001032</td>\n",
       "      <td>0.002077</td>\n",
       "      <td>0.000184</td>\n",
       "      <td>StandardScaler()</td>\n",
       "      <td>linear</td>\n",
       "      <td>10</td>\n",
       "      <td>{'preprocessing': StandardScaler(), 'classifie...</td>\n",
       "      <td>0.745098</td>\n",
       "      <td>0.764706</td>\n",
       "      <td>0.725490</td>\n",
       "      <td>0.725490</td>\n",
       "      <td>0.647059</td>\n",
       "      <td>0.721569</td>\n",
       "      <td>0.039992</td>\n",
       "      <td>1</td>\n",
       "    </tr>\n",
       "    <tr>\n",
       "      <th>1</th>\n",
       "      <td>0.007259</td>\n",
       "      <td>0.000497</td>\n",
       "      <td>0.002268</td>\n",
       "      <td>0.000264</td>\n",
       "      <td>MinMaxScaler()</td>\n",
       "      <td>linear</td>\n",
       "      <td>10</td>\n",
       "      <td>{'preprocessing': MinMaxScaler(), 'classifier_...</td>\n",
       "      <td>0.666667</td>\n",
       "      <td>0.725490</td>\n",
       "      <td>0.686275</td>\n",
       "      <td>0.705882</td>\n",
       "      <td>0.549020</td>\n",
       "      <td>0.666667</td>\n",
       "      <td>0.062005</td>\n",
       "      <td>17</td>\n",
       "    </tr>\n",
       "    <tr>\n",
       "      <th>2</th>\n",
       "      <td>0.007427</td>\n",
       "      <td>0.000471</td>\n",
       "      <td>0.002617</td>\n",
       "      <td>0.000406</td>\n",
       "      <td>Normalizer()</td>\n",
       "      <td>linear</td>\n",
       "      <td>10</td>\n",
       "      <td>{'preprocessing': Normalizer(), 'classifier__k...</td>\n",
       "      <td>0.274510</td>\n",
       "      <td>0.313725</td>\n",
       "      <td>0.254902</td>\n",
       "      <td>0.254902</td>\n",
       "      <td>0.274510</td>\n",
       "      <td>0.274510</td>\n",
       "      <td>0.021479</td>\n",
       "      <td>27</td>\n",
       "    </tr>\n",
       "    <tr>\n",
       "      <th>3</th>\n",
       "      <td>0.007469</td>\n",
       "      <td>0.000588</td>\n",
       "      <td>0.002416</td>\n",
       "      <td>0.000324</td>\n",
       "      <td>MaxAbsScaler()</td>\n",
       "      <td>linear</td>\n",
       "      <td>10</td>\n",
       "      <td>{'preprocessing': MaxAbsScaler(), 'classifier_...</td>\n",
       "      <td>0.666667</td>\n",
       "      <td>0.725490</td>\n",
       "      <td>0.686275</td>\n",
       "      <td>0.686275</td>\n",
       "      <td>0.549020</td>\n",
       "      <td>0.662745</td>\n",
       "      <td>0.059988</td>\n",
       "      <td>18</td>\n",
       "    </tr>\n",
       "    <tr>\n",
       "      <th>4</th>\n",
       "      <td>0.008887</td>\n",
       "      <td>0.000987</td>\n",
       "      <td>0.002319</td>\n",
       "      <td>0.000133</td>\n",
       "      <td>StandardScaler()</td>\n",
       "      <td>rbf</td>\n",
       "      <td>10</td>\n",
       "      <td>{'preprocessing': StandardScaler(), 'classifie...</td>\n",
       "      <td>0.705882</td>\n",
       "      <td>0.725490</td>\n",
       "      <td>0.764706</td>\n",
       "      <td>0.666667</td>\n",
       "      <td>0.549020</td>\n",
       "      <td>0.682353</td>\n",
       "      <td>0.073784</td>\n",
       "      <td>14</td>\n",
       "    </tr>\n",
       "  </tbody>\n",
       "</table>\n",
       "</div>"
      ],
      "text/plain": [
       "   mean_fit_time  std_fit_time  mean_score_time  std_score_time  \\\n",
       "0       0.007606      0.001032         0.002077        0.000184   \n",
       "1       0.007259      0.000497         0.002268        0.000264   \n",
       "2       0.007427      0.000471         0.002617        0.000406   \n",
       "3       0.007469      0.000588         0.002416        0.000324   \n",
       "4       0.008887      0.000987         0.002319        0.000133   \n",
       "\n",
       "  param_preprocessing param_classifier__kernel param_classifier__C  \\\n",
       "0    StandardScaler()                   linear                  10   \n",
       "1      MinMaxScaler()                   linear                  10   \n",
       "2        Normalizer()                   linear                  10   \n",
       "3      MaxAbsScaler()                   linear                  10   \n",
       "4    StandardScaler()                      rbf                  10   \n",
       "\n",
       "                                              params  split0_test_score  \\\n",
       "0  {'preprocessing': StandardScaler(), 'classifie...           0.745098   \n",
       "1  {'preprocessing': MinMaxScaler(), 'classifier_...           0.666667   \n",
       "2  {'preprocessing': Normalizer(), 'classifier__k...           0.274510   \n",
       "3  {'preprocessing': MaxAbsScaler(), 'classifier_...           0.666667   \n",
       "4  {'preprocessing': StandardScaler(), 'classifie...           0.705882   \n",
       "\n",
       "   split1_test_score  split2_test_score  split3_test_score  split4_test_score  \\\n",
       "0           0.764706           0.725490           0.725490           0.647059   \n",
       "1           0.725490           0.686275           0.705882           0.549020   \n",
       "2           0.313725           0.254902           0.254902           0.274510   \n",
       "3           0.725490           0.686275           0.686275           0.549020   \n",
       "4           0.725490           0.764706           0.666667           0.549020   \n",
       "\n",
       "   mean_test_score  std_test_score  rank_test_score  \n",
       "0         0.721569        0.039992                1  \n",
       "1         0.666667        0.062005               17  \n",
       "2         0.274510        0.021479               27  \n",
       "3         0.662745        0.059988               18  \n",
       "4         0.682353        0.073784               14  "
      ]
     },
     "execution_count": 61,
     "metadata": {},
     "output_type": "execute_result"
    }
   ],
   "source": [
    "result_df.head()"
   ]
  },
  {
   "cell_type": "code",
   "execution_count": 85,
   "id": "c8bf2a85-2663-4485-ba09-8dd017c0ccf1",
   "metadata": {},
   "outputs": [],
   "source": [
    "sns.relplot(data=result_df,\n",
    "    kind='line',\n",
    "    x='param_classifier__C',\n",
    "    y='mean_test_score',\n",
    "    hue='param_preprocessing',\n",
    "    col='param_classifier__kernel')\n",
    "plt.show()"
   ]
  },
  {
   "cell_type": "code",
   "execution_count": 89,
   "id": "dbf79ab8-7cc2-404d-be58-50de05d89da5",
   "metadata": {},
   "outputs": [],
   "source": [
    "sns.relplot(data=result_df,\n",
    "    kind='line',\n",
    "    x='param_classifier__C',\n",
    "    y='mean_test_score',\n",
    "    hue='param_classifier__kernel',\n",
    "    col='param_preprocessing')\n",
    "plt.show()"
   ]
  },
  {
   "cell_type": "code",
   "execution_count": 74,
   "id": "d59af356-275a-4f0e-89ad-c8b8cb35462b",
   "metadata": {},
   "outputs": [],
   "source": [
    "categorias = random_clf.predict(X_test)"
   ]
  },
  {
   "cell_type": "code",
   "execution_count": 75,
   "id": "9fa2a1a7-e802-4039-89e3-a25fa5dac9a0",
   "metadata": {},
   "outputs": [
    {
     "data": {
      "text/plain": [
       "array([13, 30,  4,  9, 33,  8,  2, 31,  7, 31, 15,  9,  7, 23, 31, 27,  3,\n",
       "        5,  7,  4, 12,  4,  4,  6,  1, 31,  6, 14, 15, 34, 29, 32, 10, 22,\n",
       "       12, 13, 10, 10, 29, 28, 13,  6,  7,  6, 32, 26, 13,  8, 22, 27, 24,\n",
       "        8, 13,  5, 32, 13, 32,  6,  1,  1, 32,  9, 25, 12,  2, 12, 12, 10,\n",
       "        2, 13, 35,  2, 14,  5,  5,  4, 12, 26, 15, 36, 23, 15, 11,  9,  1])"
      ]
     },
     "execution_count": 75,
     "metadata": {},
     "output_type": "execute_result"
    }
   ],
   "source": [
    "categorias"
   ]
  },
  {
   "cell_type": "code",
   "execution_count": 79,
   "id": "a83c4338-de18-4f17-92da-65b81ccaf2fc",
   "metadata": {},
   "outputs": [
    {
     "name": "stderr",
     "output_type": "stream",
     "text": [
      "/home/saraselis/.local/lib/python3.8/site-packages/sklearn/metrics/_classification.py:1318: UndefinedMetricWarning: Recall and F-score are ill-defined and being set to 0.0 in labels with no true samples. Use `zero_division` parameter to control this behavior.\n",
      "  _warn_prf(average, modifier, msg_start, len(result))\n",
      "/home/saraselis/.local/lib/python3.8/site-packages/sklearn/metrics/_classification.py:1318: UndefinedMetricWarning: Recall and F-score are ill-defined and being set to 0.0 in labels with no true samples. Use `zero_division` parameter to control this behavior.\n",
      "  _warn_prf(average, modifier, msg_start, len(result))\n",
      "/home/saraselis/.local/lib/python3.8/site-packages/sklearn/metrics/_classification.py:1318: UndefinedMetricWarning: Recall and F-score are ill-defined and being set to 0.0 in labels with no true samples. Use `zero_division` parameter to control this behavior.\n",
      "  _warn_prf(average, modifier, msg_start, len(result))\n"
     ]
    },
    {
     "name": "stdout",
     "output_type": "stream",
     "text": [
      "              precision    recall  f1-score   support\n",
      "\n",
      "           1       0.75      1.00      0.86         3\n",
      "           2       0.75      0.75      0.75         4\n",
      "           3       1.00      0.50      0.67         2\n",
      "           4       0.20      1.00      0.33         1\n",
      "           5       0.25      1.00      0.40         1\n",
      "           6       0.80      0.80      0.80         5\n",
      "           7       1.00      0.67      0.80         6\n",
      "           8       1.00      1.00      1.00         3\n",
      "           9       0.75      1.00      0.86         3\n",
      "          10       1.00      1.00      1.00         4\n",
      "          11       1.00      1.00      1.00         1\n",
      "          12       0.67      0.80      0.73         5\n",
      "          13       0.71      1.00      0.83         5\n",
      "          14       1.00      0.67      0.80         3\n",
      "          15       1.00      1.00      1.00         4\n",
      "          22       1.00      0.40      0.57         5\n",
      "          23       0.50      1.00      0.67         1\n",
      "          24       1.00      0.20      0.33         5\n",
      "          25       0.00      0.00      0.00         0\n",
      "          26       0.50      0.20      0.29         5\n",
      "          27       0.50      0.50      0.50         2\n",
      "          28       0.00      0.00      0.00         1\n",
      "          29       1.00      1.00      1.00         2\n",
      "          30       1.00      0.50      0.67         2\n",
      "          31       0.75      1.00      0.86         3\n",
      "          32       0.80      1.00      0.89         4\n",
      "          33       1.00      1.00      1.00         1\n",
      "          34       1.00      0.50      0.67         2\n",
      "          35       0.00      0.00      0.00         1\n",
      "          36       1.00      1.00      1.00         1\n",
      "\n",
      "    accuracy                           0.73        85\n",
      "   macro avg       0.73      0.72      0.68        85\n",
      "weighted avg       0.82      0.73      0.73        85\n",
      "\n"
     ]
    }
   ],
   "source": [
    "resultados = classification_report(y_test, categorias)\n",
    "print(resultados)"
   ]
  },
  {
   "cell_type": "code",
   "execution_count": 90,
   "id": "fa103902-c8ce-44d9-9c67-60731f94d211",
   "metadata": {},
   "outputs": [
    {
     "name": "stderr",
     "output_type": "stream",
     "text": [
      "/home/saraselis/.local/lib/python3.8/site-packages/sklearn/metrics/_classification.py:1318: UndefinedMetricWarning: Recall and F-score are ill-defined and being set to 0.0 in labels with no true samples. Use `zero_division` parameter to control this behavior.\n",
      "  _warn_prf(average, modifier, msg_start, len(result))\n",
      "/home/saraselis/.local/lib/python3.8/site-packages/sklearn/metrics/_classification.py:1318: UndefinedMetricWarning: Recall and F-score are ill-defined and being set to 0.0 in labels with no true samples. Use `zero_division` parameter to control this behavior.\n",
      "  _warn_prf(average, modifier, msg_start, len(result))\n",
      "/home/saraselis/.local/lib/python3.8/site-packages/sklearn/metrics/_classification.py:1318: UndefinedMetricWarning: Recall and F-score are ill-defined and being set to 0.0 in labels with no true samples. Use `zero_division` parameter to control this behavior.\n",
      "  _warn_prf(average, modifier, msg_start, len(result))\n"
     ]
    }
   ],
   "source": [
    "class_rep_por_classe = classification_report(y_test, categorias, target_names=list(set(y)), output_dict=True)"
   ]
  },
  {
   "cell_type": "code",
   "execution_count": 91,
   "id": "4272bcae-8ab1-4ef6-ae0d-8a96ea1faf1e",
   "metadata": {},
   "outputs": [
    {
     "data": {
      "text/plain": [
       "{1: {'precision': 0.75,\n",
       "  'recall': 1.0,\n",
       "  'f1-score': 0.8571428571428571,\n",
       "  'support': 3},\n",
       " 2: {'precision': 0.75, 'recall': 0.75, 'f1-score': 0.75, 'support': 4},\n",
       " 3: {'precision': 1.0,\n",
       "  'recall': 0.5,\n",
       "  'f1-score': 0.6666666666666666,\n",
       "  'support': 2},\n",
       " 4: {'precision': 0.2,\n",
       "  'recall': 1.0,\n",
       "  'f1-score': 0.33333333333333337,\n",
       "  'support': 1},\n",
       " 5: {'precision': 0.25, 'recall': 1.0, 'f1-score': 0.4, 'support': 1},\n",
       " 6: {'precision': 0.8,\n",
       "  'recall': 0.8,\n",
       "  'f1-score': 0.8000000000000002,\n",
       "  'support': 5},\n",
       " 7: {'precision': 1.0,\n",
       "  'recall': 0.6666666666666666,\n",
       "  'f1-score': 0.8,\n",
       "  'support': 6},\n",
       " 8: {'precision': 1.0, 'recall': 1.0, 'f1-score': 1.0, 'support': 3},\n",
       " 9: {'precision': 0.75,\n",
       "  'recall': 1.0,\n",
       "  'f1-score': 0.8571428571428571,\n",
       "  'support': 3},\n",
       " 10: {'precision': 1.0, 'recall': 1.0, 'f1-score': 1.0, 'support': 4},\n",
       " 11: {'precision': 1.0, 'recall': 1.0, 'f1-score': 1.0, 'support': 1},\n",
       " 12: {'precision': 0.6666666666666666,\n",
       "  'recall': 0.8,\n",
       "  'f1-score': 0.7272727272727272,\n",
       "  'support': 5},\n",
       " 13: {'precision': 0.7142857142857143,\n",
       "  'recall': 1.0,\n",
       "  'f1-score': 0.8333333333333333,\n",
       "  'support': 5},\n",
       " 14: {'precision': 1.0,\n",
       "  'recall': 0.6666666666666666,\n",
       "  'f1-score': 0.8,\n",
       "  'support': 3},\n",
       " 15: {'precision': 1.0, 'recall': 1.0, 'f1-score': 1.0, 'support': 4},\n",
       " 22: {'precision': 1.0,\n",
       "  'recall': 0.4,\n",
       "  'f1-score': 0.5714285714285715,\n",
       "  'support': 5},\n",
       " 23: {'precision': 0.5,\n",
       "  'recall': 1.0,\n",
       "  'f1-score': 0.6666666666666666,\n",
       "  'support': 1},\n",
       " 24: {'precision': 1.0,\n",
       "  'recall': 0.2,\n",
       "  'f1-score': 0.33333333333333337,\n",
       "  'support': 5},\n",
       " 25: {'precision': 0.0, 'recall': 0.0, 'f1-score': 0.0, 'support': 0},\n",
       " 26: {'precision': 0.5,\n",
       "  'recall': 0.2,\n",
       "  'f1-score': 0.28571428571428575,\n",
       "  'support': 5},\n",
       " 27: {'precision': 0.5, 'recall': 0.5, 'f1-score': 0.5, 'support': 2},\n",
       " 28: {'precision': 0.0, 'recall': 0.0, 'f1-score': 0.0, 'support': 1},\n",
       " 29: {'precision': 1.0, 'recall': 1.0, 'f1-score': 1.0, 'support': 2},\n",
       " 30: {'precision': 1.0,\n",
       "  'recall': 0.5,\n",
       "  'f1-score': 0.6666666666666666,\n",
       "  'support': 2},\n",
       " 31: {'precision': 0.75,\n",
       "  'recall': 1.0,\n",
       "  'f1-score': 0.8571428571428571,\n",
       "  'support': 3},\n",
       " 32: {'precision': 0.8,\n",
       "  'recall': 1.0,\n",
       "  'f1-score': 0.888888888888889,\n",
       "  'support': 4},\n",
       " 33: {'precision': 1.0, 'recall': 1.0, 'f1-score': 1.0, 'support': 1},\n",
       " 34: {'precision': 1.0,\n",
       "  'recall': 0.5,\n",
       "  'f1-score': 0.6666666666666666,\n",
       "  'support': 2},\n",
       " 35: {'precision': 0.0, 'recall': 0.0, 'f1-score': 0.0, 'support': 1},\n",
       " 36: {'precision': 1.0, 'recall': 1.0, 'f1-score': 1.0, 'support': 1},\n",
       " 'accuracy': 0.7294117647058823,\n",
       " 'macro avg': {'precision': 0.731031746031746,\n",
       "  'recall': 0.7161111111111111,\n",
       "  'f1-score': 0.6753799903799905,\n",
       "  'support': 85},\n",
       " 'weighted avg': {'precision': 0.8153501400560224,\n",
       "  'recall': 0.7294117647058823,\n",
       "  'f1-score': 0.7250029708853238,\n",
       "  'support': 85}}"
      ]
     },
     "execution_count": 91,
     "metadata": {},
     "output_type": "execute_result"
    }
   ],
   "source": [
    "class_rep_por_classe"
   ]
  },
  {
   "cell_type": "markdown",
   "id": "b64fc85e-b087-4a92-b1b9-da2fd21e3e2e",
   "metadata": {},
   "source": [
    "Salvando o modelo treinado com o random search"
   ]
  },
  {
   "cell_type": "code",
   "execution_count": 52,
   "id": "1ee13890-55ba-48ae-9154-08aaf9430408",
   "metadata": {},
   "outputs": [],
   "source": [
    "pkl.dump(model_deploy, open('model/modelo/model_leaf_rs.pkl', 'wb'))"
   ]
  },
  {
   "cell_type": "code",
   "execution_count": 53,
   "id": "0c36378b-56b9-4dd2-94db-8bf4faf023bc",
   "metadata": {},
   "outputs": [
    {
     "data": {
      "text/plain": [
       "<wandb.sdk.wandb_artifacts.Artifact at 0x7f47aca468e0>"
      ]
     },
     "execution_count": 53,
     "metadata": {},
     "output_type": "execute_result"
    }
   ],
   "source": [
    "modelo_treinado_rs = wandb.Artifact(\n",
    "        'modelo_treinado_rs',\n",
    "        type='sklearn.pipeline.Pipeline',\n",
    "        description='Modelo treinado com parametros otimizados via random search')\n",
    "\n",
    "modelo_treinado_rs.add_file('model/modelo/model_leaf_rs.pkl')\n",
    "run.log_artifact(modelo_treinado_rs)"
   ]
  },
  {
   "cell_type": "markdown",
   "id": "a1347e62-d86c-4a4c-9387-3498e24efcb2",
   "metadata": {},
   "source": [
    "Salvando o best estimator"
   ]
  },
  {
   "cell_type": "code",
   "execution_count": 71,
   "id": "9eab13a2-1e24-4342-a71f-df19eec8e6df",
   "metadata": {},
   "outputs": [],
   "source": [
    "model = random_clf.best_estimator_"
   ]
  },
  {
   "cell_type": "code",
   "execution_count": 72,
   "id": "5f982715-e3b0-4bdb-80a9-a075c592d231",
   "metadata": {},
   "outputs": [],
   "source": [
    "pkl.dump(model, open('model/modelo/best_estimator.pkl', 'wb'))"
   ]
  },
  {
   "cell_type": "code",
   "execution_count": 73,
   "id": "48fe5c87-2414-4602-a6d9-76e6262d8f58",
   "metadata": {},
   "outputs": [
    {
     "data": {
      "text/plain": [
       "<wandb.sdk.wandb_artifacts.Artifact at 0x7f47ac4f67c0>"
      ]
     },
     "execution_count": 73,
     "metadata": {},
     "output_type": "execute_result"
    }
   ],
   "source": [
    "best_estimator_wb = wandb.Artifact(\n",
    "        'best_estimator',\n",
    "        type='sklearn.pipeline.Pipeline',\n",
    "        description='Best estimator')\n",
    "\n",
    "best_estimator_wb.add_file('model/modelo/best_estimator.pkl')\n",
    "run.log_artifact(best_estimator_wb)"
   ]
  },
  {
   "cell_type": "code",
   "execution_count": null,
   "id": "a6c25c42-88a6-436f-bd73-ba07677933a7",
   "metadata": {},
   "outputs": [],
   "source": []
  }
 ],
 "metadata": {
  "kernelspec": {
   "display_name": "Python 3 (ipykernel)",
   "language": "python",
   "name": "python3"
  },
  "language_info": {
   "codemirror_mode": {
    "name": "ipython",
    "version": 3
   },
   "file_extension": ".py",
   "mimetype": "text/x-python",
   "name": "python",
   "nbconvert_exporter": "python",
   "pygments_lexer": "ipython3",
   "version": "3.8.10"
  }
 },
 "nbformat": 4,
 "nbformat_minor": 5
}
